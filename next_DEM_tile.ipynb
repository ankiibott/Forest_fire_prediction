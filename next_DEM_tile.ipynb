{
 "cells": [
  {
   "cell_type": "code",
   "execution_count": 1,
   "id": "f318a3e7-fab4-41e5-be9f-c548f1730c03",
   "metadata": {},
   "outputs": [
    {
     "name": "stdout",
     "output_type": "stream",
     "text": [
      "CRS: EPSG:32644\n",
      "Bounding Box:\n",
      "  Min Lon: 108365.73527523666\n",
      "  Min Lat: 3152714.2869458776\n",
      "  Max Lon: 499835.73527523666\n",
      "  Max Lat: 3491954.2869458776\n",
      "Resolution (Lon, Lat): (30.0, 30.0)\n",
      "Pixel Dimensions: 13049 x 11308\n"
     ]
    }
   ],
   "source": [
    "import rasterio\n",
    "\n",
    "# Path to your clipped LULC file\n",
    "lulc_path = r\"C:\\Users\\Ankit\\OneDrive\\Desktop\\Datasets_Forest_fire\\lulc_maps_tif\\LULC_2015_clipped_30m.tif\"\n",
    "with rasterio.open(lulc_path) as src:\n",
    "    bounds = src.bounds\n",
    "    crs = src.crs\n",
    "    width = src.width\n",
    "    height = src.height\n",
    "    res = src.res\n",
    "\n",
    "print(\"CRS:\", crs)\n",
    "print(\"Bounding Box:\")\n",
    "print(f\"  Min Lon: {bounds.left}\")\n",
    "print(f\"  Min Lat: {bounds.bottom}\")\n",
    "print(f\"  Max Lon: {bounds.right}\")\n",
    "print(f\"  Max Lat: {bounds.top}\")\n",
    "print(\"Resolution (Lon, Lat):\", res)\n",
    "print(f\"Pixel Dimensions: {width} x {height}\")\n"
   ]
  },
  {
   "cell_type": "code",
   "execution_count": null,
   "id": "3633ab26-9edd-4356-a0a0-343fa1de1fde",
   "metadata": {},
   "outputs": [],
   "source": []
  }
 ],
 "metadata": {
  "kernelspec": {
   "display_name": "Python 3 (ipykernel)",
   "language": "python",
   "name": "python3"
  },
  "language_info": {
   "codemirror_mode": {
    "name": "ipython",
    "version": 3
   },
   "file_extension": ".py",
   "mimetype": "text/x-python",
   "name": "python",
   "nbconvert_exporter": "python",
   "pygments_lexer": "ipython3",
   "version": "3.10.0"
  }
 },
 "nbformat": 4,
 "nbformat_minor": 5
}
