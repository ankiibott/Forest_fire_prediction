{
 "cells": [
  {
   "cell_type": "code",
   "execution_count": 1,
   "id": "b0cc2242-6134-4cef-ba2d-81fc135d508a",
   "metadata": {},
   "outputs": [
    {
     "name": "stdout",
     "output_type": "stream",
     "text": [
      "NoData value: nan\n"
     ]
    }
   ],
   "source": [
    "import rasterio\n",
    "\n",
    "tif_path =r\"C:\\Users\\Ankit\\OneDrive\\Desktop\\Datasets_Forest_fire\\ERA5_30m_stack_fixed.tif\"\n",
    "\n",
    "with rasterio.open(tif_path) as src:\n",
    "    print(\"NoData value:\", src.nodata)"
   ]
  },
  {
   "cell_type": "code",
   "execution_count": 1,
   "id": "1029274b-c080-4f63-8069-6d7a5f46810c",
   "metadata": {},
   "outputs": [
    {
     "name": "stdout",
     "output_type": "stream",
     "text": [
      "Total pixels: 161,942,016\n",
      "Missing pixels: 0\n",
      "Missing percentage: 0.00%\n"
     ]
    }
   ],
   "source": [
    "import rasterio\n",
    "import numpy as np\n",
    "\n",
    "tif_path = r\"C:\\Users\\Ankit\\Datasets_Forest_fire\\ERA5_t2m_resampled_30m.tif\"\n",
    "\n",
    "with rasterio.open(tif_path) as src:\n",
    "    data = src.read(masked=True)  # masked=True replaces NoData with masked entries\n",
    "    total_pixels = data.size\n",
    "    missing_pixels = np.ma.count_masked(data)\n",
    "    missing_percentage = (missing_pixels / total_pixels) * 100\n",
    "\n",
    "print(f\"Total pixels: {total_pixels:,}\")\n",
    "print(f\"Missing pixels: {missing_pixels:,}\")\n",
    "print(f\"Missing percentage: {missing_percentage:.2f}%\")\n"
   ]
  },
  {
   "cell_type": "code",
   "execution_count": null,
   "id": "1adc0b52-78a8-4df3-ad2e-e76b99266e82",
   "metadata": {},
   "outputs": [],
   "source": []
  }
 ],
 "metadata": {
  "kernelspec": {
   "display_name": "Python 3 (ipykernel)",
   "language": "python",
   "name": "python3"
  },
  "language_info": {
   "codemirror_mode": {
    "name": "ipython",
    "version": 3
   },
   "file_extension": ".py",
   "mimetype": "text/x-python",
   "name": "python",
   "nbconvert_exporter": "python",
   "pygments_lexer": "ipython3",
   "version": "3.10.0"
  }
 },
 "nbformat": 4,
 "nbformat_minor": 5
}
