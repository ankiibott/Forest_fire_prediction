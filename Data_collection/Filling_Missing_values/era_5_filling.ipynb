{
 "cells": [
  {
   "cell_type": "code",
   "execution_count": 1,
   "id": "b0cc2242-6134-4cef-ba2d-81fc135d508a",
   "metadata": {},
   "outputs": [
    {
     "name": "stdout",
     "output_type": "stream",
     "text": [
      "NoData value: nan\n"
     ]
    }
   ],
   "source": [
    "import rasterio\n",
    "\n",
    "tif_path =r\"C:\\Users\\Ankit\\OneDrive\\Desktop\\Datasets_Forest_fire\\ERA5_30m_stack_fixed.tif\"\n",
    "\n",
    "with rasterio.open(tif_path) as src:\n",
    "    print(\"NoData value:\", src.nodata)"
   ]
  },
  {
   "cell_type": "code",
   "execution_count": 1,
   "id": "1029274b-c080-4f63-8069-6d7a5f46810c",
   "metadata": {},
   "outputs": [
    {
     "name": "stdout",
     "output_type": "stream",
     "text": [
      "Total pixels: 809,710,080\n",
      "Missing pixels: 23,487,325\n",
      "Missing percentage: 2.90%\n"
     ]
    }
   ],
   "source": [
    "import rasterio\n",
    "import numpy as np\n",
    "\n",
    "tif_path = r\"C:\\Users\\Ankit\\OneDrive\\Desktop\\Datasets_Forest_fire\\ERA5_30m_stack_fixed.tif\"\n",
    "\n",
    "with rasterio.open(tif_path) as src:\n",
    "    data = src.read(masked=True)  # masked=True replaces NoData with masked entries\n",
    "    total_pixels = data.size\n",
    "    missing_pixels = np.ma.count_masked(data)\n",
    "    missing_percentage = (missing_pixels / total_pixels) * 100\n",
    "\n",
    "print(f\"Total pixels: {total_pixels:,}\")\n",
    "print(f\"Missing pixels: {missing_pixels:,}\")\n",
    "print(f\"Missing percentage: {missing_percentage:.2f}%\")\n"
   ]
  },
  {
   "cell_type": "code",
   "execution_count": null,
   "id": "52ebcc60-c383-4ebc-81e4-6517472d7ceb",
   "metadata": {},
   "outputs": [
    {
     "name": "stdout",
     "output_type": "stream",
     "text": [
      "Processing band 1/5...\n"
     ]
    }
   ],
   "source": [
    "import rasterio\n",
    "import numpy as np\n",
    "from rasterio.windows import Window\n",
    "from rasterio.fill import fillnodata\n",
    "from pathlib import Path\n",
    "\n",
    "# Input and output paths\n",
    "in_tif = Path(r\"C:\\Users\\Ankit\\OneDrive\\Desktop\\Datasets_Forest_fire\\ERA5_30m_stack_fixed.tif\")\n",
    "out_tif = in_tif.with_name(in_tif.stem + \"_filled_fast.tif\")\n",
    "\n",
    "# Define block size (smaller = less memory, larger = faster but needs more RAM)\n",
    "BLOCK_SIZE = 1024  \n",
    "\n",
    "with rasterio.open(in_tif) as src:\n",
    "    profile = src.profile.copy()\n",
    "    profile.update(dtype=rasterio.float32, nodata=None, compress=\"LZW\")\n",
    "\n",
    "    with rasterio.open(out_tif, \"w\", **profile) as dst:\n",
    "        for band in range(1, src.count + 1):\n",
    "            print(f\"Processing band {band}/{src.count}...\")\n",
    "            for ji, window in src.block_windows(band):  # Iterate block by block\n",
    "                arr = src.read(band, window=window).astype(\"float32\")\n",
    "                nod = src.nodatavals[band - 1]\n",
    "\n",
    "                if nod is not None:\n",
    "                    arr[arr == nod] = np.nan\n",
    "                mask = np.isnan(arr)\n",
    "\n",
    "                if mask.any():  # Fill only if nodata exists\n",
    "                    arr_filled = fillnodata(\n",
    "                        arr, mask=mask, max_search_distance=50, smoothing_iterations=0\n",
    "                    )\n",
    "                else:\n",
    "                    arr_filled = arr\n",
    "\n",
    "                dst.write(arr_filled, indexes=band, window=window)\n",
    "\n",
    "print(\"✅ Faster block-wise filled raster saved at:\", out_tif)\n"
   ]
  },
  {
   "cell_type": "code",
   "execution_count": null,
   "id": "1adc0b52-78a8-4df3-ad2e-e76b99266e82",
   "metadata": {},
   "outputs": [],
   "source": []
  }
 ],
 "metadata": {
  "kernelspec": {
   "display_name": "Python 3 (ipykernel)",
   "language": "python",
   "name": "python3"
  },
  "language_info": {
   "codemirror_mode": {
    "name": "ipython",
    "version": 3
   },
   "file_extension": ".py",
   "mimetype": "text/x-python",
   "name": "python",
   "nbconvert_exporter": "python",
   "pygments_lexer": "ipython3",
   "version": "3.10.0"
  }
 },
 "nbformat": 4,
 "nbformat_minor": 5
}
