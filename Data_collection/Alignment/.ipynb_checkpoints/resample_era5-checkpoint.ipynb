{
 "cells": [
  {
   "cell_type": "code",
   "execution_count": 1,
   "id": "1e0cb92a-94f1-48aa-900d-2a4e5fe7614e",
   "metadata": {},
   "outputs": [
    {
     "name": "stdout",
     "output_type": "stream",
     "text": [
      "Dataset dimensions: FrozenMappingWarningOnValuesAccess({'valid_time': 17544, 'latitude': 13, 'longitude': 17})\n",
      "Variables: ['t2m', 'd2m', 'u10', 'v10', 'tp']\n",
      "Processing variable: t2m\n",
      "Processing variable: d2m\n",
      "Processing variable: u10\n",
      "Processing variable: v10\n",
      "Processing variable: tp\n",
      "✅ Multi-band raster saved at: C:\\Users\\Ankit\\OneDrive\\Desktop\\Datasets_Forest_fire\\ERA5_30m_stack_fixed.tif\n"
     ]
    }
   ],
   "source": [
    "import xarray as xr\n",
    "import rioxarray\n",
    "import rasterio\n",
    "from rasterio.enums import Resampling\n",
    "\n",
    "# ==== User settings ====\n",
    "input_nc = r\"C:\\Users\\Ankit\\OneDrive\\Desktop\\Datasets_Forest_fire\\compressed_cleaned_era5_2015_2016.nc\"\n",
    "output_tif = r\"C:\\Users\\Ankit\\OneDrive\\Desktop\\Datasets_Forest_fire\\ERA5_30m_stack_fixed.tif\"\n",
    "variables_to_process = ['t2m', 'd2m', 'u10', 'v10', 'tp']  # ERA5 variables\n",
    "target_resolution = 30  # meters\n",
    "\n",
    "# Open dataset\n",
    "ds = xr.open_dataset(input_nc)\n",
    "print(\"Dataset dimensions:\", ds.dims)\n",
    "print(\"Variables:\", list(ds.data_vars))\n",
    "\n",
    "target_crs = \"EPSG:32644\"  # UTM Zone (change if needed)\n",
    "\n",
    "processed_bands = []\n",
    "\n",
    "for var in variables_to_process:\n",
    "    print(f\"Processing variable: {var}\")\n",
    "    \n",
    "    da = ds[var]\n",
    "    \n",
    "    # --- FIX: use correct time dimension ---\n",
    "    if \"time\" in da.dims:\n",
    "        da = da.isel(time=0)  # pick first timestep\n",
    "    elif \"valid_time\" in da.dims:\n",
    "        da = da.isel(valid_time=0)\n",
    "    else:\n",
    "        raise ValueError(f\"Variable {var} has no time dimension! Check dataset.\")\n",
    "    \n",
    "    # Attach CRS (ERA5 is in lat/lon WGS84 by default)\n",
    "    da = da.rio.write_crs(\"EPSG:4326\")\n",
    "    \n",
    "    # Reproject to UTM & 30m resolution\n",
    "    da_utm = da.rio.reproject(\n",
    "        target_crs,\n",
    "        resolution=target_resolution,\n",
    "        resampling=Resampling.bilinear\n",
    "    )\n",
    "    \n",
    "    processed_bands.append(da_utm)\n",
    "\n",
    "# Stack into one multi-band GeoTIFF\n",
    "stacked = xr.concat(processed_bands, dim=\"band\")\n",
    "stacked = stacked.assign_coords(band=range(1, len(variables_to_process) + 1))\n",
    "stacked.rio.to_raster(output_tif)\n",
    "\n",
    "print(f\"✅ Multi-band raster saved at: {output_tif}\")\n"
   ]
  },
  {
   "cell_type": "code",
   "execution_count": null,
   "id": "3c8d5315-85b9-42fd-bc63-3ffa04a940dc",
   "metadata": {},
   "outputs": [],
   "source": []
  }
 ],
 "metadata": {
  "kernelspec": {
   "display_name": "Python 3 (ipykernel)",
   "language": "python",
   "name": "python3"
  },
  "language_info": {
   "codemirror_mode": {
    "name": "ipython",
    "version": 3
   },
   "file_extension": ".py",
   "mimetype": "text/x-python",
   "name": "python",
   "nbconvert_exporter": "python",
   "pygments_lexer": "ipython3",
   "version": "3.10.0"
  }
 },
 "nbformat": 4,
 "nbformat_minor": 5
}
