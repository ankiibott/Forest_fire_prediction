{
 "cells": [
  {
   "cell_type": "code",
   "execution_count": 1,
   "id": "a9962310-6a02-4295-ac35-bd80c1aedc72",
   "metadata": {},
   "outputs": [
    {
     "name": "stdout",
     "output_type": "stream",
     "text": [
      "✅ VIIRS raster saved at: C:\\Users\\Ankit\\OneDrive\\Desktop\\Datasets_Forest_fire\\VIIRS_fire_label_30m.tif\n"
     ]
    }
   ],
   "source": [
    "import xarray as xr\n",
    "import rioxarray\n",
    "import rasterio\n",
    "\n",
    "# ==== User settings ====\n",
    "input_nc = r\"C:\\Users\\Ankit\\OneDrive\\Desktop\\Datasets_Forest_fire\\updated_viirs_binary_fire_2015_2016.nc\"\n",
    "output_tif = r\"C:\\Users\\Ankit\\OneDrive\\Desktop\\Datasets_Forest_fire\\VIIRS_fire_label_30m.tif\"\n",
    "variable_name = 'fire_label'  # VIIRS variable name in .nc file\n",
    "target_resolution = 30  # meters\n",
    "\n",
    "# Choose an appropriate projected CRS (replace with your area's UTM zone if known)\n",
    "# Example: EPSG:32644 is UTM zone 44N; change for your region\n",
    "target_crs = \"EPSG:32644\"\n",
    "\n",
    "# Open dataset\n",
    "ds = xr.open_dataset(input_nc)\n",
    "\n",
    "# Extract the variable\n",
    "da = ds[variable_name]\n",
    "\n",
    "# If time dimension exists, select the first timestep (or loop over timesteps if needed)\n",
    "if 'time' in da.dims or 'valid_time' in da.dims:\n",
    "    time_dim = 'time' if 'time' in da.dims else 'valid_time'\n",
    "    da = da.isel({time_dim: 0})\n",
    "\n",
    "# Write original CRS (assuming WGS84 lat/lon)\n",
    "da = da.rio.write_crs(\"EPSG:4326\")\n",
    "\n",
    "# Reproject to target CRS and 30 m resolution\n",
    "da_utm = da.rio.reproject(\n",
    "    target_crs,\n",
    "    resolution=target_resolution,\n",
    "    resampling=rasterio.enums.Resampling.nearest  # Use 'nearest' for discrete classes\n",
    ")\n",
    "\n",
    "# Save to GeoTIFF\n",
    "da_utm.rio.to_raster(output_tif)\n",
    "\n",
    "print(f\"✅ VIIRS raster saved at: {output_tif}\")\n"
   ]
  },
  {
   "cell_type": "code",
   "execution_count": 3,
   "id": "c0a4c66c-fe82-4b34-a38d-72e66b5fbde9",
   "metadata": {},
   "outputs": [
    {
     "name": "stdout",
     "output_type": "stream",
     "text": [
      "📌 File: C:\\Users\\Ankit\\OneDrive\\Desktop\\Datasets_Forest_fire\\VIIRS_fire_label_30m.tif\n",
      "Detected NoData value in metadata: nan\n",
      "Total pixels: 161942016\n",
      "Missing pixels: 4582882\n",
      "Missing percentage: 2.83%\n"
     ]
    }
   ],
   "source": [
    "import rioxarray\n",
    "import numpy as np\n",
    "\n",
    "# Path to your VIIRS 30m raster\n",
    "input_tif = r\"C:\\Users\\Ankit\\OneDrive\\Desktop\\Datasets_Forest_fire\\VIIRS_fire_label_30m.tif\"\n",
    "\n",
    "# Open raster\n",
    "da = rioxarray.open_rasterio(input_tif, masked=True)\n",
    "\n",
    "# Get NoData value from metadata\n",
    "nodata_val = da.rio.nodata\n",
    "print(f\"📌 File: {input_tif}\")\n",
    "print(f\"Detected NoData value in metadata: {nodata_val}\")\n",
    "\n",
    "# Get dimensions\n",
    "height = da.sizes[\"y\"]\n",
    "width = da.sizes[\"x\"]\n",
    "bands = da.sizes[\"band\"]\n",
    "\n",
    "# Total pixels\n",
    "total_pixels = height * width * bands\n",
    "\n",
    "# Count missing pixels\n",
    "if nodata_val is None:\n",
    "    missing_pixels = np.isnan(da.values).sum()\n",
    "else:\n",
    "    missing_pixels = np.isnan(da.values).sum() + np.sum(da.values == nodata_val)\n",
    "\n",
    "missing_percentage = (missing_pixels / total_pixels) * 100\n",
    "\n",
    "print(f\"Total pixels: {total_pixels}\")\n",
    "print(f\"Missing pixels: {missing_pixels}\")\n",
    "print(f\"Missing percentage: {missing_percentage:.2f}%\")\n"
   ]
  },
  {
   "cell_type": "code",
   "execution_count": 5,
   "id": "7bb5fd44-fbe6-4056-9bd7-679eaf39e78d",
   "metadata": {
    "scrolled": true
   },
   "outputs": [
    {
     "name": "stdout",
     "output_type": "stream",
     "text": [
      "Before fill: 4582882 / 161942016 (2.83%)\n"
     ]
    },
    {
     "ename": "CPLE_AppDefinedError",
     "evalue": "Deleting C:\\Users\\Ankit\\OneDrive\\Desktop\\Datasets_Forest_fire\\VIIRS_fire_label_30m_filled.tif failed: Permission denied",
     "output_type": "error",
     "traceback": [
      "\u001b[1;31m---------------------------------------------------------------------------\u001b[0m",
      "\u001b[1;31mCPLE_AppDefinedError\u001b[0m                      Traceback (most recent call last)",
      "Cell \u001b[1;32mIn[5], line 50\u001b[0m\n\u001b[0;32m     48\u001b[0m \u001b[38;5;66;03m# Remove nodata in output since we've filled it; keep same grid/CRS\u001b[39;00m\n\u001b[0;32m     49\u001b[0m filled_da \u001b[38;5;241m=\u001b[39m filled_da\u001b[38;5;241m.\u001b[39mrio\u001b[38;5;241m.\u001b[39mwrite_nodata(\u001b[38;5;28;01mNone\u001b[39;00m)\n\u001b[1;32m---> 50\u001b[0m \u001b[43mfilled_da\u001b[49m\u001b[38;5;241;43m.\u001b[39;49m\u001b[43mrio\u001b[49m\u001b[38;5;241;43m.\u001b[39;49m\u001b[43mto_raster\u001b[49m\u001b[43m(\u001b[49m\n\u001b[0;32m     51\u001b[0m \u001b[43m    \u001b[49m\u001b[43moutput_filled_tif\u001b[49m\u001b[43m,\u001b[49m\n\u001b[0;32m     52\u001b[0m \u001b[43m    \u001b[49m\u001b[43mcompress\u001b[49m\u001b[38;5;241;43m=\u001b[39;49m\u001b[38;5;124;43m\"\u001b[39;49m\u001b[38;5;124;43mLZW\u001b[39;49m\u001b[38;5;124;43m\"\u001b[39;49m\u001b[43m,\u001b[49m\u001b[43m  \u001b[49m\u001b[38;5;66;43;03m# keep file size reasonable\u001b[39;49;00m\n\u001b[0;32m     53\u001b[0m \u001b[43m    \u001b[49m\u001b[43mtiled\u001b[49m\u001b[38;5;241;43m=\u001b[39;49m\u001b[38;5;28;43;01mTrue\u001b[39;49;00m\u001b[43m,\u001b[49m\n\u001b[0;32m     54\u001b[0m \u001b[43m)\u001b[49m\n\u001b[0;32m     56\u001b[0m \u001b[38;5;66;03m# ---- Verify ----\u001b[39;00m\n\u001b[0;32m     57\u001b[0m check \u001b[38;5;241m=\u001b[39m rxr\u001b[38;5;241m.\u001b[39mopen_rasterio(output_filled_tif, masked\u001b[38;5;241m=\u001b[39m\u001b[38;5;28;01mTrue\u001b[39;00m)\u001b[38;5;241m.\u001b[39mvalues\n",
      "File \u001b[1;32m~\\AppData\\Local\\Programs\\Python\\Python310\\lib\\site-packages\\rioxarray\\raster_array.py:1181\u001b[0m, in \u001b[0;36mRasterArray.to_raster\u001b[1;34m(self, raster_path, driver, dtype, tags, windowed, recalc_transform, lock, compute, **profile_kwargs)\u001b[0m\n\u001b[0;32m   1162\u001b[0m out_profile \u001b[38;5;241m=\u001b[39m {\n\u001b[0;32m   1163\u001b[0m     key: value\n\u001b[0;32m   1164\u001b[0m     \u001b[38;5;28;01mfor\u001b[39;00m key, value \u001b[38;5;129;01min\u001b[39;00m out_profile\u001b[38;5;241m.\u001b[39mitems()\n\u001b[1;32m   (...)\u001b[0m\n\u001b[0;32m   1175\u001b[0m     )\n\u001b[0;32m   1176\u001b[0m }\n\u001b[0;32m   1177\u001b[0m rio_nodata \u001b[38;5;241m=\u001b[39m (\n\u001b[0;32m   1178\u001b[0m     \u001b[38;5;28mself\u001b[39m\u001b[38;5;241m.\u001b[39mencoded_nodata \u001b[38;5;28;01mif\u001b[39;00m \u001b[38;5;28mself\u001b[39m\u001b[38;5;241m.\u001b[39mencoded_nodata \u001b[38;5;129;01mis\u001b[39;00m \u001b[38;5;129;01mnot\u001b[39;00m \u001b[38;5;28;01mNone\u001b[39;00m \u001b[38;5;28;01melse\u001b[39;00m \u001b[38;5;28mself\u001b[39m\u001b[38;5;241m.\u001b[39mnodata\n\u001b[0;32m   1179\u001b[0m )\n\u001b[1;32m-> 1181\u001b[0m \u001b[38;5;28;01mreturn\u001b[39;00m RasterioWriter(raster_path\u001b[38;5;241m=\u001b[39mraster_path)\u001b[38;5;241m.\u001b[39mto_raster(\n\u001b[0;32m   1182\u001b[0m     xarray_dataarray\u001b[38;5;241m=\u001b[39m\u001b[38;5;28mself\u001b[39m\u001b[38;5;241m.\u001b[39m_obj,\n\u001b[0;32m   1183\u001b[0m     tags\u001b[38;5;241m=\u001b[39mtags,\n\u001b[0;32m   1184\u001b[0m     driver\u001b[38;5;241m=\u001b[39mdriver,\n\u001b[0;32m   1185\u001b[0m     height\u001b[38;5;241m=\u001b[39m\u001b[38;5;28mint\u001b[39m(\u001b[38;5;28mself\u001b[39m\u001b[38;5;241m.\u001b[39mheight),\n\u001b[0;32m   1186\u001b[0m     width\u001b[38;5;241m=\u001b[39m\u001b[38;5;28mint\u001b[39m(\u001b[38;5;28mself\u001b[39m\u001b[38;5;241m.\u001b[39mwidth),\n\u001b[0;32m   1187\u001b[0m     count\u001b[38;5;241m=\u001b[39m\u001b[38;5;28mint\u001b[39m(\u001b[38;5;28mself\u001b[39m\u001b[38;5;241m.\u001b[39mcount),\n\u001b[0;32m   1188\u001b[0m     dtype\u001b[38;5;241m=\u001b[39mdtype,\n\u001b[0;32m   1189\u001b[0m     crs\u001b[38;5;241m=\u001b[39m\u001b[38;5;28mself\u001b[39m\u001b[38;5;241m.\u001b[39mcrs,\n\u001b[0;32m   1190\u001b[0m     transform\u001b[38;5;241m=\u001b[39m\u001b[38;5;28mself\u001b[39m\u001b[38;5;241m.\u001b[39mtransform(recalc\u001b[38;5;241m=\u001b[39mrecalc_transform),\n\u001b[0;32m   1191\u001b[0m     gcps\u001b[38;5;241m=\u001b[39m\u001b[38;5;28mself\u001b[39m\u001b[38;5;241m.\u001b[39mget_gcps(),\n\u001b[0;32m   1192\u001b[0m     nodata\u001b[38;5;241m=\u001b[39mrio_nodata,\n\u001b[0;32m   1193\u001b[0m     windowed\u001b[38;5;241m=\u001b[39mwindowed,\n\u001b[0;32m   1194\u001b[0m     lock\u001b[38;5;241m=\u001b[39mlock,\n\u001b[0;32m   1195\u001b[0m     compute\u001b[38;5;241m=\u001b[39mcompute,\n\u001b[0;32m   1196\u001b[0m     \u001b[38;5;241m*\u001b[39m\u001b[38;5;241m*\u001b[39mout_profile,\n\u001b[0;32m   1197\u001b[0m )\n",
      "File \u001b[1;32m~\\AppData\\Local\\Programs\\Python\\Python310\\lib\\site-packages\\rioxarray\\raster_writer.py:286\u001b[0m, in \u001b[0;36mRasterioWriter.to_raster\u001b[1;34m(self, xarray_dataarray, tags, windowed, lock, compute, **kwargs)\u001b[0m\n\u001b[0;32m    278\u001b[0m \u001b[38;5;28;01mif\u001b[39;00m kwargs[\u001b[38;5;124m\"\u001b[39m\u001b[38;5;124mnodata\u001b[39m\u001b[38;5;124m\"\u001b[39m] \u001b[38;5;129;01mis\u001b[39;00m \u001b[38;5;129;01mnot\u001b[39;00m \u001b[38;5;28;01mNone\u001b[39;00m:\n\u001b[0;32m    279\u001b[0m     \u001b[38;5;66;03m# Ensure dtype of output data matches the expected dtype.\u001b[39;00m\n\u001b[0;32m    280\u001b[0m     \u001b[38;5;66;03m# This check is added here as the dtype of the data is\u001b[39;00m\n\u001b[0;32m    281\u001b[0m     \u001b[38;5;66;03m# converted right before writing.\u001b[39;00m\n\u001b[0;32m    282\u001b[0m     kwargs[\u001b[38;5;124m\"\u001b[39m\u001b[38;5;124mnodata\u001b[39m\u001b[38;5;124m\"\u001b[39m] \u001b[38;5;241m=\u001b[39m _ensure_nodata_dtype(\n\u001b[0;32m    283\u001b[0m         original_nodata\u001b[38;5;241m=\u001b[39mkwargs[\u001b[38;5;124m\"\u001b[39m\u001b[38;5;124mnodata\u001b[39m\u001b[38;5;124m\"\u001b[39m], new_dtype\u001b[38;5;241m=\u001b[39mnumpy_dtype\n\u001b[0;32m    284\u001b[0m     )\n\u001b[1;32m--> 286\u001b[0m \u001b[38;5;28;01mwith\u001b[39;00m rasterio\u001b[38;5;241m.\u001b[39mopen(\u001b[38;5;28mself\u001b[39m\u001b[38;5;241m.\u001b[39mraster_path, \u001b[38;5;124m\"\u001b[39m\u001b[38;5;124mw\u001b[39m\u001b[38;5;124m\"\u001b[39m, \u001b[38;5;241m*\u001b[39m\u001b[38;5;241m*\u001b[39mkwargs) \u001b[38;5;28;01mas\u001b[39;00m rds:\n\u001b[0;32m    287\u001b[0m     _write_metatata_to_raster(\n\u001b[0;32m    288\u001b[0m         raster_handle\u001b[38;5;241m=\u001b[39mrds, xarray_dataset\u001b[38;5;241m=\u001b[39mxarray_dataarray, tags\u001b[38;5;241m=\u001b[39mtags\n\u001b[0;32m    289\u001b[0m     )\n\u001b[0;32m    290\u001b[0m     \u001b[38;5;28;01mif\u001b[39;00m \u001b[38;5;129;01mnot\u001b[39;00m (lock \u001b[38;5;129;01mand\u001b[39;00m is_dask_collection(xarray_dataarray\u001b[38;5;241m.\u001b[39mdata)):\n\u001b[0;32m    291\u001b[0m         \u001b[38;5;66;03m# write data to raster immmediately if not dask array\u001b[39;00m\n",
      "File \u001b[1;32m~\\AppData\\Local\\Programs\\Python\\Python310\\lib\\site-packages\\rasterio\\env.py:463\u001b[0m, in \u001b[0;36mensure_env_with_credentials.<locals>.wrapper\u001b[1;34m(*args, **kwds)\u001b[0m\n\u001b[0;32m    460\u001b[0m     session \u001b[38;5;241m=\u001b[39m DummySession()\n\u001b[0;32m    462\u001b[0m \u001b[38;5;28;01mwith\u001b[39;00m env_ctor(session\u001b[38;5;241m=\u001b[39msession):\n\u001b[1;32m--> 463\u001b[0m     \u001b[38;5;28;01mreturn\u001b[39;00m f(\u001b[38;5;241m*\u001b[39margs, \u001b[38;5;241m*\u001b[39m\u001b[38;5;241m*\u001b[39mkwds)\n",
      "File \u001b[1;32m~\\AppData\\Local\\Programs\\Python\\Python310\\lib\\site-packages\\rasterio\\__init__.py:378\u001b[0m, in \u001b[0;36mopen\u001b[1;34m(fp, mode, driver, width, height, count, crs, transform, dtype, nodata, sharing, opener, **kwargs)\u001b[0m\n\u001b[0;32m    376\u001b[0m writer \u001b[38;5;241m=\u001b[39m get_writer_for_driver(driver)\n\u001b[0;32m    377\u001b[0m \u001b[38;5;28;01mif\u001b[39;00m writer \u001b[38;5;129;01mis\u001b[39;00m \u001b[38;5;129;01mnot\u001b[39;00m \u001b[38;5;28;01mNone\u001b[39;00m:\n\u001b[1;32m--> 378\u001b[0m     dataset \u001b[38;5;241m=\u001b[39m writer(\n\u001b[0;32m    379\u001b[0m         path,\n\u001b[0;32m    380\u001b[0m         mode,\n\u001b[0;32m    381\u001b[0m         driver\u001b[38;5;241m=\u001b[39mdriver,\n\u001b[0;32m    382\u001b[0m         width\u001b[38;5;241m=\u001b[39mwidth,\n\u001b[0;32m    383\u001b[0m         height\u001b[38;5;241m=\u001b[39mheight,\n\u001b[0;32m    384\u001b[0m         count\u001b[38;5;241m=\u001b[39mcount,\n\u001b[0;32m    385\u001b[0m         crs\u001b[38;5;241m=\u001b[39mcrs,\n\u001b[0;32m    386\u001b[0m         transform\u001b[38;5;241m=\u001b[39mtransform,\n\u001b[0;32m    387\u001b[0m         dtype\u001b[38;5;241m=\u001b[39mdtype,\n\u001b[0;32m    388\u001b[0m         nodata\u001b[38;5;241m=\u001b[39mnodata,\n\u001b[0;32m    389\u001b[0m         sharing\u001b[38;5;241m=\u001b[39msharing,\n\u001b[0;32m    390\u001b[0m         \u001b[38;5;241m*\u001b[39m\u001b[38;5;241m*\u001b[39mkwargs\n\u001b[0;32m    391\u001b[0m     )\n\u001b[0;32m    392\u001b[0m \u001b[38;5;28;01melse\u001b[39;00m:\n\u001b[0;32m    393\u001b[0m     \u001b[38;5;28;01mraise\u001b[39;00m DriverCapabilityError(\n\u001b[0;32m    394\u001b[0m         \u001b[38;5;124m\"\u001b[39m\u001b[38;5;124mWriter does not exist for driver: \u001b[39m\u001b[38;5;132;01m%s\u001b[39;00m\u001b[38;5;124m\"\u001b[39m \u001b[38;5;241m%\u001b[39m \u001b[38;5;28mstr\u001b[39m(driver)\n\u001b[0;32m    395\u001b[0m     )\n",
      "File \u001b[1;32mrasterio\\\\_io.pyx:1509\u001b[0m, in \u001b[0;36mrasterio._io.DatasetWriterBase.__init__\u001b[1;34m()\u001b[0m\n",
      "File \u001b[1;32mrasterio\\\\_io.pyx:322\u001b[0m, in \u001b[0;36mrasterio._io._delete_dataset_if_exists\u001b[1;34m()\u001b[0m\n",
      "File \u001b[1;32mrasterio\\\\_err.pyx:289\u001b[0m, in \u001b[0;36mrasterio._err.exc_wrap_int\u001b[1;34m()\u001b[0m\n",
      "\u001b[1;31mCPLE_AppDefinedError\u001b[0m: Deleting C:\\Users\\Ankit\\OneDrive\\Desktop\\Datasets_Forest_fire\\VIIRS_fire_label_30m_filled.tif failed: Permission denied"
     ]
    }
   ],
   "source": [
    "import rioxarray as rxr\n",
    "import numpy as np\n",
    "from scipy.ndimage import distance_transform_edt\n",
    "from rasterio.enums import Resampling\n",
    "\n",
    "# ==== Paths ====\n",
    "input_tif = r\"C:\\Users\\Ankit\\OneDrive\\Desktop\\Datasets_Forest_fire\\VIIRS_fire_label_30m.tif\"\n",
    "output_filled_tif = r\"C:\\Users\\Ankit\\OneDrive\\Desktop\\Datasets_Forest_fire\\VIIRS_fire_label_30m_filled.tif\"\n",
    "\n",
    "# ---- Load (masked=True makes NoData -> NaN in .values) ----\n",
    "da = rxr.open_rasterio(input_tif, masked=True)  # shape: (band, y, x)\n",
    "arr = da.values.astype(np.float32)              # ensure float for NaNs\n",
    "\n",
    "# ---- Stats before ----\n",
    "total = arr.size\n",
    "missing_before = np.isnan(arr).sum()\n",
    "print(f\"Before fill: {missing_before} / {total} ({missing_before/total*100:.2f}%)\")\n",
    "\n",
    "def fill_nearest_nan_2d(a2d: np.ndarray) -> np.ndarray:\n",
    "    \"\"\"\n",
    "    For a 2D array with NaNs, fill NaNs by copying the value from the nearest\n",
    "    non-NaN pixel (Euclidean distance in pixel space).\n",
    "    \"\"\"\n",
    "    data = a2d.copy()\n",
    "    nan_mask = np.isnan(data)\n",
    "    if not nan_mask.any():\n",
    "        return data  # nothing to fill\n",
    "\n",
    "    # distance_transform_edt on 'nan_mask' returns indices of nearest False (i.e., nearest valid)\n",
    "    # We want indices of nearest valid cells for every pixel\n",
    "    indices = distance_transform_edt(nan_mask, return_distances=False, return_indices=True)\n",
    "    nearest_y = indices[0]\n",
    "    nearest_x = indices[1]\n",
    "\n",
    "    # Copy nearest valid values into NaN locations\n",
    "    data[nan_mask] = data[nearest_y[nan_mask], nearest_x[nan_mask]]\n",
    "    return data\n",
    "\n",
    "# ---- Fill per band (works for single/multi-band) ----\n",
    "filled = arr.copy()\n",
    "for b in range(filled.shape[0]):\n",
    "    filled[b] = fill_nearest_nan_2d(filled[b])\n",
    "\n",
    "# ---- Build output DataArray & save ----\n",
    "filled_da = da.copy()\n",
    "filled_da.values = filled\n",
    "\n",
    "# Remove nodata in output since we've filled it; keep same grid/CRS\n",
    "filled_da = filled_da.rio.write_nodata(None)\n",
    "filled_da.rio.to_raster(\n",
    "    output_filled_tif,\n",
    "    compress=\"LZW\",  # keep file size reasonable\n",
    "    tiled=True,\n",
    ")\n",
    "\n",
    "# ---- Verify ----\n",
    "check = rxr.open_rasterio(output_filled_tif, masked=True).values\n",
    "missing_after = np.isnan(check).sum()\n",
    "print(f\"After fill:  {missing_after} / {check.size} ({missing_after/check.size*100:.2f}%)\")\n",
    "print(f\"✅ Saved: {output_filled_tif}\")\n"
   ]
  },
  {
   "cell_type": "code",
   "execution_count": 1,
   "id": "1779c587-4cff-4c20-9cf6-c2788134810c",
   "metadata": {},
   "outputs": [
    {
     "name": "stdout",
     "output_type": "stream",
     "text": [
      "Original missing pixels: 4582882\n",
      "Filled raster saved: C:\\Users\\Ankit\\OneDrive\\Desktop\\Datasets_Forest_fire\\VIIRS_fire_label_30m_filled.tif\n"
     ]
    }
   ],
   "source": [
    "import rasterio\n",
    "from rasterio.enums import Resampling\n",
    "import numpy as np\n",
    "\n",
    "# Input/output paths\n",
    "input_file = r\"C:\\Users\\Ankit\\OneDrive\\Desktop\\Datasets_Forest_fire\\VIIRS_fire_label_30m.tif\"\n",
    "output_file = r\"C:\\Users\\Ankit\\OneDrive\\Desktop\\Datasets_Forest_fire\\VIIRS_fire_label_30m_filled.tif\"\n",
    "\n",
    "# Open dataset\n",
    "with rasterio.open(input_file) as src:\n",
    "    profile = src.profile\n",
    "    data = src.read(1)  # read first band\n",
    "\n",
    "    # Identify missing pixels\n",
    "    nodata_val = src.nodata\n",
    "    mask = np.isnan(data) if nodata_val is None else (data == nodata_val)\n",
    "\n",
    "    print(\"Original missing pixels:\", mask.sum())\n",
    "\n",
    "    # Reproject to itself with nearest neighbor resampling → fills gaps\n",
    "    filled_data = src.read(\n",
    "        out_shape=src.shape,\n",
    "        resampling=Resampling.nearest\n",
    "    )[0]\n",
    "\n",
    "    # Copy metadata and save new raster\n",
    "    profile.update(dtype=rasterio.float32, compress=\"lzw\")\n",
    "\n",
    "    with rasterio.open(output_file, \"w\", **profile) as dst:\n",
    "        dst.write(filled_data.astype(rasterio.float32), 1)\n",
    "\n",
    "print(\"Filled raster saved:\", output_file)\n"
   ]
  },
  {
   "cell_type": "code",
   "execution_count": null,
   "id": "cceae860-cded-463a-ae55-f249b0a7db47",
   "metadata": {},
   "outputs": [],
   "source": []
  }
 ],
 "metadata": {
  "kernelspec": {
   "display_name": "Python 3 (ipykernel)",
   "language": "python",
   "name": "python3"
  },
  "language_info": {
   "codemirror_mode": {
    "name": "ipython",
    "version": 3
   },
   "file_extension": ".py",
   "mimetype": "text/x-python",
   "name": "python",
   "nbconvert_exporter": "python",
   "pygments_lexer": "ipython3",
   "version": "3.10.0"
  }
 },
 "nbformat": 4,
 "nbformat_minor": 5
}
