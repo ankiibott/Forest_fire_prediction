{
 "cells": [
  {
   "cell_type": "code",
   "execution_count": 1,
   "id": "2a1a050e-dbca-4563-9eab-4e35925813ce",
   "metadata": {},
   "outputs": [
    {
     "name": "stdout",
     "output_type": "stream",
     "text": [
      "Unique LULC codes in your raster: [  1   2   3   4   5   6   7   8   9  10  11  12  13  14  15  16  17  18\n",
      "  19  20  21  22  23  24  25  26  27  28  29  30  31  32 255]\n"
     ]
    }
   ],
   "source": [
    "import rasterio\n",
    "import numpy as np\n",
    "\n",
    "lulc_path = r\"C:\\Users\\Ankit\\Datasets_Forest_fire\\lulc_maps_tif\\LULC_2015_clipped_30m_aligned.tif\"\n",
    "\n",
    "with rasterio.open(lulc_path) as src:\n",
    "    data = src.read(1)\n",
    "    unique_vals = np.unique(data[data > 0])  # skip nodata (0 if present)\n",
    "\n",
    "print(\"Unique LULC codes in your raster:\", unique_vals)"
   ]
  },
  {
   "cell_type": "code",
   "execution_count": 3,
   "id": "3c9f101f-3404-4c47-9e2f-d6af304ae2bb",
   "metadata": {},
   "outputs": [
    {
     "name": "stdout",
     "output_type": "stream",
     "text": [
      "✅ Saved categorical LULC raster (one-hot encoded) at: C:\\Users\\Ankit\\OneDrive\\Desktop\\Datasets_Forest_fire\\lulc_maps_tif\\LULC_2015_clipped_30m_categorical.tif\n"
     ]
    }
   ],
   "source": [
    "import rasterio\n",
    "import numpy as np\n",
    "from pathlib import Path\n",
    "\n",
    "in_tif = Path(r\"C:\\Users\\Ankit\\OneDrive\\Desktop\\Datasets_Forest_fire\\lulc_maps_tif\\LULC_2015_clipped_30m.tif\")\n",
    "out_tif = in_tif.with_name(in_tif.stem + \"_categorical.tif\")\n",
    "\n",
    "# Define your LULC classes (1–32)\n",
    "classes = np.arange(1, 33)\n",
    "\n",
    "with rasterio.open(in_tif) as src:\n",
    "    profile = src.profile.copy()\n",
    "    profile.update(count=len(classes), dtype=\"uint8\", compress=\"LZW\", nodata=0)\n",
    "\n",
    "    data = src.read(1)  # read single-band LULC raster\n",
    "\n",
    "    # One-hot encoding: (classes, rows, cols)\n",
    "    onehot = np.zeros((len(classes), data.shape[0], data.shape[1]), dtype=\"uint8\")\n",
    "    for i, c in enumerate(classes):\n",
    "        onehot[i] = (data == c).astype(\"uint8\")\n",
    "\n",
    "    # Save as multi-band GeoTIFF\n",
    "    with rasterio.open(out_tif, \"w\", **profile) as dst:\n",
    "        dst.write(onehot)\n",
    "\n",
    "print(\"✅ Saved categorical LULC raster (one-hot encoded) at:\", out_tif)\n"
   ]
  },
  {
   "cell_type": "code",
   "execution_count": null,
   "id": "642409d7-9746-430a-9b49-7086ad35366c",
   "metadata": {},
   "outputs": [],
   "source": [
    "import rasterio\n",
    "import numpy as np\n",
    "from pathlib import Path\n",
    "\n",
    "in_tif = Path(r\"C:\\Users\\Ankit\\OneDrive\\Desktop\\Datasets_Forest_fire\\lulc_maps_tif\\LULC_2015_clipped_30m.tif\")\n",
    "out_tif = in_tif.with_name(in_tif.stem + \"_categorical.tif\")\n",
    "\n",
    "# Define your LULC classes (1–32)\n",
    "classes = np.arange(1, 33)\n",
    "\n",
    "with rasterio.open(in_tif) as src:\n",
    "    profile = src.profile.copy()\n",
    "    profile.update(count=len(classes), dtype=\"uint8\", compress=\"LZW\", nodata=0)\n",
    "\n",
    "    data = src.read(1)  # read single-band LULC raster\n",
    "\n",
    "    # One-hot encoding: (classes, rows, cols)\n",
    "    onehot = np.zeros((len(classes), data.shape[0], data.shape[1]), dtype=\"uint8\")\n",
    "    for i, c in enumerate(classes):\n",
    "        onehot[i] = (data == c).astype(\"uint8\")\n",
    "\n",
    "    # Save as multi-band GeoTIFF\n",
    "    with rasterio.open(out_tif, \"w\", **profile) as dst:\n",
    "        dst.write(onehot)\n",
    "\n",
    "print(\"✅ Saved categorical LULC raster (one-hot encoded) at:\", out_tif)\n"
   ]
  }
 ],
 "metadata": {
  "kernelspec": {
   "display_name": "Python 3 (ipykernel)",
   "language": "python",
   "name": "python3"
  },
  "language_info": {
   "codemirror_mode": {
    "name": "ipython",
    "version": 3
   },
   "file_extension": ".py",
   "mimetype": "text/x-python",
   "name": "python",
   "nbconvert_exporter": "python",
   "pygments_lexer": "ipython3",
   "version": "3.10.0"
  }
 },
 "nbformat": 4,
 "nbformat_minor": 5
}
