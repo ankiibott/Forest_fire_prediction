{
 "cells": [
  {
   "cell_type": "code",
   "execution_count": 1,
   "id": "0fbfa7a8-6148-4e27-95c0-13796c6f980f",
   "metadata": {},
   "outputs": [],
   "source": [
    "import matplotlib.pyplot as plt\n",
    "%matplotlib inline"
   ]
  },
  {
   "cell_type": "code",
   "execution_count": 2,
   "id": "350e2368-2b8f-4f91-b066-023664ca4919",
   "metadata": {},
   "outputs": [],
   "source": [
    "import xarray as xr"
   ]
  },
  {
   "cell_type": "code",
   "execution_count": 3,
   "id": "4cc537bb-b032-4fa8-8903-4f1e7b3a4130",
   "metadata": {},
   "outputs": [],
   "source": [
    "viirs = xr.open_dataset(r\"C:\\Users\\Ankit\\OneDrive\\Desktop\\Datasets_Forest_fire\\updated_viirs_binary_fire_2015_2016.nc\")"
   ]
  },
  {
   "cell_type": "code",
   "execution_count": 4,
   "id": "41775e95-a2a8-451d-bb8c-e166ba5f8369",
   "metadata": {},
   "outputs": [
    {
     "data": {
      "text/plain": [
       "Data variables:\n",
       "    fire_label  (time, latitude, longitude) uint8 4MB ..."
      ]
     },
     "execution_count": 4,
     "metadata": {},
     "output_type": "execute_result"
    }
   ],
   "source": [
    "viirs.data_vars"
   ]
  },
  {
   "cell_type": "code",
   "execution_count": null,
   "id": "5099ec88-255e-4fdf-9408-ee8544718e6d",
   "metadata": {},
   "outputs": [],
   "source": [
    "lulc = "
   ]
  }
 ],
 "metadata": {
  "kernelspec": {
   "display_name": "Python 3 (ipykernel)",
   "language": "python",
   "name": "python3"
  },
  "language_info": {
   "codemirror_mode": {
    "name": "ipython",
    "version": 3
   },
   "file_extension": ".py",
   "mimetype": "text/x-python",
   "name": "python",
   "nbconvert_exporter": "python",
   "pygments_lexer": "ipython3",
   "version": "3.10.0"
  }
 },
 "nbformat": 4,
 "nbformat_minor": 5
}
