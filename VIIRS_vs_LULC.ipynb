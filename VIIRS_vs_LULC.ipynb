{
 "cells": [
  {
   "cell_type": "code",
   "execution_count": 1,
   "id": "0fbfa7a8-6148-4e27-95c0-13796c6f980f",
   "metadata": {},
   "outputs": [],
   "source": [
    "import matplotlib.pyplot as plt\n",
    "%matplotlib inline\n",
    "import pandas as"
   ]
  },
  {
   "cell_type": "code",
   "execution_count": 2,
   "id": "350e2368-2b8f-4f91-b066-023664ca4919",
   "metadata": {},
   "outputs": [],
   "source": [
    "import xarray as xr"
   ]
  },
  {
   "cell_type": "code",
   "execution_count": 3,
   "id": "4cc537bb-b032-4fa8-8903-4f1e7b3a4130",
   "metadata": {},
   "outputs": [],
   "source": [
    "viirs = xr.open_dataset(r\"C:\\Users\\Ankit\\OneDrive\\Desktop\\Datasets_Forest_fire\\updated_viirs_binary_fire_2015_2016.nc\")"
   ]
  },
  {
   "cell_type": "code",
   "execution_count": 4,
   "id": "41775e95-a2a8-451d-bb8c-e166ba5f8369",
   "metadata": {},
   "outputs": [
    {
     "data": {
      "text/plain": [
       "Data variables:\n",
       "    fire_label  (time, latitude, longitude) uint8 4MB ..."
      ]
     },
     "execution_count": 4,
     "metadata": {},
     "output_type": "execute_result"
    }
   ],
   "source": [
    "viirs.data_vars"
   ]
  },
  {
   "cell_type": "code",
   "execution_count": 7,
   "id": "5099ec88-255e-4fdf-9408-ee8544718e6d",
   "metadata": {},
   "outputs": [],
   "source": [
    "import rasterio\n",
    "file_path = r\"C:\\Users\\Ankit\\OneDrive\\Desktop\\Datasets_Forest_fire\\lulc_maps_tif\\LULC_2015_clipped.tif\""
   ]
  },
  {
   "cell_type": "code",
   "execution_count": null,
   "id": "3a53cec2-1a63-48e2-a690-1e26892788d5",
   "metadata": {},
   "outputs": [],
   "source": [
    "import rasterio\n",
    "import numpy as np\n",
    "\n",
    "\n",
    "# ------------------------------\n",
    "# File paths (CHANGE these)\n",
    "# ------------------------------\n",
    "lulc_path = r\"C:\\path\\to\\LULC_2015_clipped.tif\"\n",
    "viirs_nc_path = r\"C:\\path\\to\\updated_viirs_binary_fire_2015_2016.nc\"  # VIIRS NetCDF file\n",
    "\n",
    "# ------------------------------\n",
    "# Set your test time (YYYY-MM-DD)\n",
    "# ------------------------------\n",
    "testtime = \"2015-05-15\"\n",
    "\n",
    "# ------------------------------\n",
    "# Read LULC raster\n",
    "# ------------------------------\n",
    "with rasterio.open(lulc_path) as lulc_src:\n",
    "    lulc = lulc_src.read(1)\n",
    "    lulc_meta = lulc_src.meta\n",
    "    lulc_transform = lulc_src.transform\n",
    "\n",
    "# ------------------------------\n",
    "# Read VIIRS binary from NetCDF for the given date\n",
    "# ------------------------------\n",
    "import xarray as xr\n",
    "\n",
    "ds = xr.open_dataset(viirs_nc_path)\n",
    "# Assuming variable is named 'binary_fire' and time coordinate is 'time'\n",
    "# Adjust names if needed after checking ds\n",
    "viirs_day = ds['binary_fire'].sel(time=testtime)\n",
    "\n",
    "# Convert to numpy array\n",
    "viirs_array = viirs_day.values\n",
    "\n",
    "# ------------------------------\n",
    "# Get coordinates of detections\n",
    "# ------------------------------\n",
    "lats = ds['lat'].values\n",
    "lons = ds['lon'].values\n",
    "\n",
    "# Mask for detections == 1\n",
    "mask = viirs_array == 1\n",
    "fire_lats = lats[mask]\n",
    "fire_lons = lons[mask]\n",
    "\n",
    "# ------------------------------\n",
    "# Plot LULC with VIIRS fires overlaid\n",
    "# ------------------------------\n",
    "fig, ax = plt.subplots(figsize=(10, 8))\n",
    "\n",
    "# Plot LULC base\n",
    "lulc_img = ax.imshow(lulc, cmap='tab20', extent=(\n",
    "    lulc_transform[2],\n",
    "    lulc_transform[2] + lulc.shape[1] * lulc_transform[0],\n",
    "    lulc_transform[5] + lulc.shape[0] * lulc_transform[4],\n",
    "    lulc_transform[5]\n",
    "))\n",
    "\n",
    "# Overlay fires\n",
    "ax.scatter(fire_lons, fire_lats, color='red', s=10, label='VIIRS Fires')\n",
    "\n",
    "# Labels and legend\n",
    "ax.set_title(f\"LULC (2015) with VIIRS Fires on {testtime}\")\n",
    "ax.set_xlabel(\"Longitude\")\n",
    "ax.set_ylabel(\"Latitude\")\n",
    "ax.legend()\n",
    "\n",
    "plt.show()\n"
   ]
  }
 ],
 "metadata": {
  "kernelspec": {
   "display_name": "Python 3 (ipykernel)",
   "language": "python",
   "name": "python3"
  },
  "language_info": {
   "codemirror_mode": {
    "name": "ipython",
    "version": 3
   },
   "file_extension": ".py",
   "mimetype": "text/x-python",
   "name": "python",
   "nbconvert_exporter": "python",
   "pygments_lexer": "ipython3",
   "version": "3.10.0"
  }
 },
 "nbformat": 4,
 "nbformat_minor": 5
}
