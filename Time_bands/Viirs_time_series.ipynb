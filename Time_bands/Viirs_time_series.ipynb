{
 "cells": [
  {
   "cell_type": "code",
   "execution_count": 1,
   "id": "cd3e9c6e-578f-4451-8e3b-41edb69b507d",
   "metadata": {},
   "outputs": [
    {
     "name": "stdout",
     "output_type": "stream",
     "text": [
      "✅ Created VIIRS time stack with 17544 bands → C:\\Users\\Ankit\\Datasets_Forest_fire\\VIIRS_fire_time_stack.tif\n"
     ]
    }
   ],
   "source": [
    "import rasterio\n",
    "import numpy as np\n",
    "\n",
    "# ---- Input ----\n",
    "VIIRS_INPUT = r\"C:\\Users\\Ankit\\Datasets_Forest_fire\\updated_viirs_binary_fire_2015_2016.nc\"\n",
    "OUT_FILE = r\"C:\\Users\\Ankit\\Datasets_Forest_fire\\VIIRS_fire_time_stack.tif\"\n",
    "\n",
    "# ---- Define time period (matching ERA5 bands) ----\n",
    "n_bands = 17544   # hourly for 2015–2016\n",
    "with rasterio.open(VIIRS_INPUT) as src:\n",
    "    height, width = src.height, src.width\n",
    "    src_data = src.read(1)  # read single band\n",
    "    profile = src.profile\n",
    "    profile.update(\n",
    "        count=n_bands,\n",
    "        dtype=\"uint8\",\n",
    "        driver=\"GTiff\"\n",
    "    )\n",
    "\n",
    "    with rasterio.open(OUT_FILE, \"w\", **profile) as dst:\n",
    "        for i in range(n_bands):\n",
    "            # If VIIRS is half-hourly, we can repeat or interpolate\n",
    "            # Here, simply repeat the same snapshot for all bands\n",
    "            dst.write(src_data.astype(\"uint8\"), i + 1)\n",
    "\n",
    "print(f\"✅ Created VIIRS time stack with {n_bands} bands → {OUT_FILE}\")\n"
   ]
  },
  {
   "cell_type": "code",
   "execution_count": 3,
   "id": "867b4e11-ed4c-42c3-b9e7-1f26396ee33b",
   "metadata": {},
   "outputs": [
    {
     "ename": "RasterioIOError",
     "evalue": "VIIRS_fire_time_stack_30m.tif: Free disk space available is 350308126720 bytes, whereas 2841110728704 are at least necessary. You can disable this check by defining the CHECK_DISK_FREE_SPACE configuration option to FALSE.",
     "output_type": "error",
     "traceback": [
      "\u001b[1;31m---------------------------------------------------------------------------\u001b[0m",
      "\u001b[1;31mCPLE_FileIOError\u001b[0m                          Traceback (most recent call last)",
      "File \u001b[1;32mrasterio\\\\_io.pyx:1530\u001b[0m, in \u001b[0;36mrasterio._io.DatasetWriterBase.__init__\u001b[1;34m()\u001b[0m\n",
      "File \u001b[1;32mrasterio\\\\_err.pyx:359\u001b[0m, in \u001b[0;36mrasterio._err.exc_wrap_pointer\u001b[1;34m()\u001b[0m\n",
      "\u001b[1;31mCPLE_FileIOError\u001b[0m: VIIRS_fire_time_stack_30m.tif: Free disk space available is 350308126720 bytes, whereas 2841110728704 are at least necessary. You can disable this check by defining the CHECK_DISK_FREE_SPACE configuration option to FALSE.",
      "\nDuring handling of the above exception, another exception occurred:\n",
      "\u001b[1;31mRasterioIOError\u001b[0m                           Traceback (most recent call last)",
      "Cell \u001b[1;32mIn[3], line 29\u001b[0m\n\u001b[0;32m     18\u001b[0m profile \u001b[38;5;241m=\u001b[39m src\u001b[38;5;241m.\u001b[39mprofile\u001b[38;5;241m.\u001b[39mcopy()\n\u001b[0;32m     19\u001b[0m profile\u001b[38;5;241m.\u001b[39mupdate(\n\u001b[0;32m     20\u001b[0m     driver\u001b[38;5;241m=\u001b[39m\u001b[38;5;124m\"\u001b[39m\u001b[38;5;124mGTiff\u001b[39m\u001b[38;5;124m\"\u001b[39m,\n\u001b[0;32m     21\u001b[0m     height\u001b[38;5;241m=\u001b[39mref_height,\n\u001b[1;32m   (...)\u001b[0m\n\u001b[0;32m     26\u001b[0m     dtype\u001b[38;5;241m=\u001b[39m\u001b[38;5;124m\"\u001b[39m\u001b[38;5;124muint8\u001b[39m\u001b[38;5;124m\"\u001b[39m\n\u001b[0;32m     27\u001b[0m )\n\u001b[1;32m---> 29\u001b[0m \u001b[38;5;28;01mwith\u001b[39;00m rasterio\u001b[38;5;241m.\u001b[39mopen(OUT_FILE, \u001b[38;5;124m\"\u001b[39m\u001b[38;5;124mw\u001b[39m\u001b[38;5;124m\"\u001b[39m, \u001b[38;5;241m*\u001b[39m\u001b[38;5;241m*\u001b[39mprofile) \u001b[38;5;28;01mas\u001b[39;00m dst:\n\u001b[0;32m     30\u001b[0m     \u001b[38;5;28;01mfor\u001b[39;00m i \u001b[38;5;129;01min\u001b[39;00m \u001b[38;5;28mrange\u001b[39m(\u001b[38;5;241m1\u001b[39m, src\u001b[38;5;241m.\u001b[39mcount \u001b[38;5;241m+\u001b[39m \u001b[38;5;241m1\u001b[39m):\n\u001b[0;32m     31\u001b[0m         band \u001b[38;5;241m=\u001b[39m src\u001b[38;5;241m.\u001b[39mread(i)\n",
      "File \u001b[1;32m~\\AppData\\Local\\Programs\\Python\\Python310\\lib\\site-packages\\rasterio\\env.py:463\u001b[0m, in \u001b[0;36mensure_env_with_credentials.<locals>.wrapper\u001b[1;34m(*args, **kwds)\u001b[0m\n\u001b[0;32m    460\u001b[0m     session \u001b[38;5;241m=\u001b[39m DummySession()\n\u001b[0;32m    462\u001b[0m \u001b[38;5;28;01mwith\u001b[39;00m env_ctor(session\u001b[38;5;241m=\u001b[39msession):\n\u001b[1;32m--> 463\u001b[0m     \u001b[38;5;28;01mreturn\u001b[39;00m f(\u001b[38;5;241m*\u001b[39margs, \u001b[38;5;241m*\u001b[39m\u001b[38;5;241m*\u001b[39mkwds)\n",
      "File \u001b[1;32m~\\AppData\\Local\\Programs\\Python\\Python310\\lib\\site-packages\\rasterio\\__init__.py:378\u001b[0m, in \u001b[0;36mopen\u001b[1;34m(fp, mode, driver, width, height, count, crs, transform, dtype, nodata, sharing, opener, **kwargs)\u001b[0m\n\u001b[0;32m    376\u001b[0m writer \u001b[38;5;241m=\u001b[39m get_writer_for_driver(driver)\n\u001b[0;32m    377\u001b[0m \u001b[38;5;28;01mif\u001b[39;00m writer \u001b[38;5;129;01mis\u001b[39;00m \u001b[38;5;129;01mnot\u001b[39;00m \u001b[38;5;28;01mNone\u001b[39;00m:\n\u001b[1;32m--> 378\u001b[0m     dataset \u001b[38;5;241m=\u001b[39m writer(\n\u001b[0;32m    379\u001b[0m         path,\n\u001b[0;32m    380\u001b[0m         mode,\n\u001b[0;32m    381\u001b[0m         driver\u001b[38;5;241m=\u001b[39mdriver,\n\u001b[0;32m    382\u001b[0m         width\u001b[38;5;241m=\u001b[39mwidth,\n\u001b[0;32m    383\u001b[0m         height\u001b[38;5;241m=\u001b[39mheight,\n\u001b[0;32m    384\u001b[0m         count\u001b[38;5;241m=\u001b[39mcount,\n\u001b[0;32m    385\u001b[0m         crs\u001b[38;5;241m=\u001b[39mcrs,\n\u001b[0;32m    386\u001b[0m         transform\u001b[38;5;241m=\u001b[39mtransform,\n\u001b[0;32m    387\u001b[0m         dtype\u001b[38;5;241m=\u001b[39mdtype,\n\u001b[0;32m    388\u001b[0m         nodata\u001b[38;5;241m=\u001b[39mnodata,\n\u001b[0;32m    389\u001b[0m         sharing\u001b[38;5;241m=\u001b[39msharing,\n\u001b[0;32m    390\u001b[0m         \u001b[38;5;241m*\u001b[39m\u001b[38;5;241m*\u001b[39mkwargs\n\u001b[0;32m    391\u001b[0m     )\n\u001b[0;32m    392\u001b[0m \u001b[38;5;28;01melse\u001b[39;00m:\n\u001b[0;32m    393\u001b[0m     \u001b[38;5;28;01mraise\u001b[39;00m DriverCapabilityError(\n\u001b[0;32m    394\u001b[0m         \u001b[38;5;124m\"\u001b[39m\u001b[38;5;124mWriter does not exist for driver: \u001b[39m\u001b[38;5;132;01m%s\u001b[39;00m\u001b[38;5;124m\"\u001b[39m \u001b[38;5;241m%\u001b[39m \u001b[38;5;28mstr\u001b[39m(driver)\n\u001b[0;32m    395\u001b[0m     )\n",
      "File \u001b[1;32mrasterio\\\\_io.pyx:1542\u001b[0m, in \u001b[0;36mrasterio._io.DatasetWriterBase.__init__\u001b[1;34m()\u001b[0m\n",
      "\u001b[1;31mRasterioIOError\u001b[0m: VIIRS_fire_time_stack_30m.tif: Free disk space available is 350308126720 bytes, whereas 2841110728704 are at least necessary. You can disable this check by defining the CHECK_DISK_FREE_SPACE configuration option to FALSE."
     ]
    }
   ],
   "source": [
    "import rasterio\n",
    "from rasterio.warp import calculate_default_transform, reproject, Resampling\n",
    "\n",
    "# --- Input files ---\n",
    "VIIRS_STACK = r\"C:\\Users\\Ankit\\Datasets_Forest_fire\\VIIRS_fire_time_stack.tif\"\n",
    "DEM_30M = r\"C:\\Users\\Ankit\\Datasets_Forest_fire\\merged_DEM_30m_32644_aligned_filled.tif\"\n",
    "OUT_FILE = r\"C:\\Users\\Ankit\\Datasets_Forest_fire\\VIIRS_fire_time_stack_30m.tif\"\n",
    "\n",
    "# --- Open DEM as reference grid ---\n",
    "with rasterio.open(DEM_30M) as dem:\n",
    "    ref_transform = dem.transform\n",
    "    ref_crs = dem.crs\n",
    "    ref_height = dem.height\n",
    "    ref_width = dem.width\n",
    "\n",
    "# --- Open VIIRS stack ---\n",
    "with rasterio.open(VIIRS_STACK) as src:\n",
    "    profile = src.profile.copy()\n",
    "    profile.update(\n",
    "        driver=\"GTiff\",\n",
    "        height=ref_height,\n",
    "        width=ref_width,\n",
    "        crs=ref_crs,\n",
    "        transform=ref_transform,\n",
    "        count=src.count,\n",
    "        dtype=\"uint8\"\n",
    "    )\n",
    "\n",
    "    with rasterio.open(OUT_FILE, \"w\", **profile) as dst:\n",
    "        for i in range(1, src.count + 1):\n",
    "            band = src.read(i)\n",
    "\n",
    "            dst_band = dst.read(1) * 0  # empty target\n",
    "            reproject(\n",
    "                source=band,\n",
    "                destination=dst_band,\n",
    "                src_transform=src.transform,\n",
    "                src_crs=src.crs,\n",
    "                dst_transform=ref_transform,\n",
    "                dst_crs=ref_crs,\n",
    "                resampling=Resampling.nearest  # preserve binary 0/1\n",
    "            )\n",
    "            dst.write(dst_band.astype(\"uint8\"), i)\n",
    "\n",
    "print(f\"✅ VIIRS stack resampled to 30m → {OUT_FILE}\")"
   ]
  },
  {
   "cell_type": "code",
   "execution_count": null,
   "id": "d3879687-6224-4259-96e8-18887ed185d8",
   "metadata": {},
   "outputs": [],
   "source": []
  }
 ],
 "metadata": {
  "kernelspec": {
   "display_name": "Python 3 (ipykernel)",
   "language": "python",
   "name": "python3"
  },
  "language_info": {
   "codemirror_mode": {
    "name": "ipython",
    "version": 3
   },
   "file_extension": ".py",
   "mimetype": "text/x-python",
   "name": "python",
   "nbconvert_exporter": "python",
   "pygments_lexer": "ipython3",
   "version": "3.10.0"
  }
 },
 "nbformat": 4,
 "nbformat_minor": 5
}
