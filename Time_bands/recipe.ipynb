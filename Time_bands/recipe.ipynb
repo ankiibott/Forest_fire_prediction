{
 "cells": [
  {
   "cell_type": "code",
   "execution_count": null,
   "id": "fb18ccc0-15ba-47cb-ac8a-31aad75111ed",
   "metadata": {},
   "outputs": [],
   "source": []
  },
  {
   "cell_type": "code",
   "execution_count": null,
   "id": "aca6c265-8a33-46f3-b70a-746368fd753b",
   "metadata": {},
   "outputs": [],
   "source": []
  },
  {
   "cell_type": "code",
   "execution_count": 1,
   "id": "9b97f5f8-7fe6-4a0c-9318-651e211fdbb7",
   "metadata": {},
   "outputs": [
    {
     "ename": "AssertionError",
     "evalue": "ERA5 and VIIRS must have the same # of bands",
     "output_type": "error",
     "traceback": [
      "\u001b[1;31m---------------------------------------------------------------------------\u001b[0m",
      "\u001b[1;31mAssertionError\u001b[0m                            Traceback (most recent call last)",
      "Cell \u001b[1;32mIn[1], line 22\u001b[0m\n\u001b[0;32m     20\u001b[0m     n_bands \u001b[38;5;241m=\u001b[39m src\u001b[38;5;241m.\u001b[39mcount\n\u001b[0;32m     21\u001b[0m \u001b[38;5;28;01mwith\u001b[39;00m rasterio\u001b[38;5;241m.\u001b[39mopen(VIIRS_FILE) \u001b[38;5;28;01mas\u001b[39;00m src:\n\u001b[1;32m---> 22\u001b[0m     \u001b[38;5;28;01massert\u001b[39;00m src\u001b[38;5;241m.\u001b[39mcount \u001b[38;5;241m==\u001b[39m n_bands, \u001b[38;5;124m\"\u001b[39m\u001b[38;5;124mERA5 and VIIRS must have the same # of bands\u001b[39m\u001b[38;5;124m\"\u001b[39m\n\u001b[0;32m     24\u001b[0m \u001b[38;5;28mprint\u001b[39m(\u001b[38;5;124mf\u001b[39m\u001b[38;5;124m\"\u001b[39m\u001b[38;5;124mERA5/VIIRS bands: \u001b[39m\u001b[38;5;132;01m{\u001b[39;00mn_bands\u001b[38;5;132;01m}\u001b[39;00m\u001b[38;5;124m → covers \u001b[39m\u001b[38;5;132;01m{\u001b[39;00mSTART_TIME\u001b[38;5;132;01m}\u001b[39;00m\u001b[38;5;124m to \u001b[39m\u001b[38;5;132;01m{\u001b[39;00mSTART_TIME\u001b[38;5;250m \u001b[39m\u001b[38;5;241m+\u001b[39m\u001b[38;5;250m \u001b[39mtimedelta(hours\u001b[38;5;241m=\u001b[39mn_bands\u001b[38;5;241m-\u001b[39m\u001b[38;5;241m1\u001b[39m)\u001b[38;5;132;01m}\u001b[39;00m\u001b[38;5;124m\"\u001b[39m)\n\u001b[0;32m     26\u001b[0m \u001b[38;5;66;03m# ---- Build index ----\u001b[39;00m\n",
      "\u001b[1;31mAssertionError\u001b[0m: ERA5 and VIIRS must have the same # of bands"
     ]
    }
   ],
   "source": [
    "import rasterio\n",
    "import pandas as pd\n",
    "from datetime import datetime, timedelta\n",
    "\n",
    "# ---- Input files ----\n",
    "ERA5_FILE   = r\"C:\\Users\\Ankit\\Datasets_Forest_fire\\ERA5_30m_stack_filled_final.tif\"\n",
    "VIIRS_FILE  = r\"C:\\Users\\Ankit\\Datasets_Forest_fire\\VIIRS_fire_label_2015_2016_30m_filled.tif\"\n",
    "DEM_FILE    = r\"C:\\Users\\Ankit\\Datasets_Forest_fire\\merged_DEM_30m_32644_aligned_filled.tif\"\n",
    "LULC_2015   = r\"C:\\Users\\Ankit\\Datasets_Forest_fire\\lulc_maps_tif\\LULC_2015_clipped_30m_filled_categorical.tif\"\n",
    "LULC_2016   = r\"C:\\Users\\Ankit\\Datasets_Forest_fire\\lulc_maps_tif\\LULC_2015_clipped_30m_filled_categorical.tif\"\n",
    "\n",
    "# ---- Config ----\n",
    "START_TIME  = datetime(2015, 1, 1, 0)  # first band timestamp\n",
    "SEQ_LEN     = 6\n",
    "HORIZONS    = [1, 2, 3]\n",
    "OUT_CSV     = \"sequence_index.csv\"\n",
    "\n",
    "# ---- Check band counts ----\n",
    "with rasterio.open(ERA5_FILE) as src:\n",
    "    n_bands = src.count\n",
    "with rasterio.open(VIIRS_FILE) as src:\n",
    "    assert src.count == n_bands, \"ERA5 and VIIRS must have the same # of bands\"\n",
    "\n",
    "print(f\"ERA5/VIIRS bands: {n_bands} → covers {START_TIME} to {START_TIME + timedelta(hours=n_bands-1)}\")\n",
    "\n",
    "# ---- Build index ----\n",
    "rows = []\n",
    "for center_idx in range(SEQ_LEN, n_bands - max(HORIZONS)):\n",
    "    center_time = START_TIME + timedelta(hours=center_idx)\n",
    "\n",
    "    # Input sequence bands\n",
    "    seq_idxs = list(range(center_idx - SEQ_LEN + 1, center_idx + 1))\n",
    "\n",
    "    # Target bands\n",
    "    tgt_idxs = [center_idx + h for h in HORIZONS]\n",
    "\n",
    "    # Pick LULC depending on year\n",
    "    lulc_file = LULC_2015 if center_time.year == 2015 else LULC_2016\n",
    "\n",
    "    rows.append({\n",
    "        \"center_time\": center_time,\n",
    "        \"seq_band_idxs\": seq_idxs,\n",
    "        \"target_band_idxs\": tgt_idxs,\n",
    "        \"era5_file\": ERA5_FILE,\n",
    "        \"viirs_file\": VIIRS_FILE,\n",
    "        \"dem_file\": DEM_FILE,\n",
    "        \"lulc_file\": lulc_file,\n",
    "    })\n",
    "\n",
    "df = pd.DataFrame(rows)\n",
    "df.to_csv(OUT_CSV, index=False)\n",
    "print(f\"✅ Saved {len(df)} sequences to {OUT_CSV}\")\n"
   ]
  },
  {
   "cell_type": "code",
   "execution_count": null,
   "id": "3db8b948-115f-46d8-88ce-082e5e5d0bb9",
   "metadata": {},
   "outputs": [],
   "source": []
  }
 ],
 "metadata": {
  "kernelspec": {
   "display_name": "Python 3 (ipykernel)",
   "language": "python",
   "name": "python3"
  },
  "language_info": {
   "codemirror_mode": {
    "name": "ipython",
    "version": 3
   },
   "file_extension": ".py",
   "mimetype": "text/x-python",
   "name": "python",
   "nbconvert_exporter": "python",
   "pygments_lexer": "ipython3",
   "version": "3.10.0"
  }
 },
 "nbformat": 4,
 "nbformat_minor": 5
}
