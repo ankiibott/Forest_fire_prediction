{
 "cells": [
  {
   "cell_type": "code",
   "execution_count": 1,
   "id": "d9be8758-8eb4-480a-8542-8e99554f0cbb",
   "metadata": {},
   "outputs": [
    {
     "name": "stdout",
     "output_type": "stream",
     "text": [
      "Processing t2m with dims ('valid_time', 'latitude', 'longitude')\n",
      "✅ Saved t2m to C:\\Users\\Ankit\\Datasets_Forest_fire\\ERA5_fast_tif_stacks\\ERA5_t2m_2015_2016_stack.tif (17544 time bands)\n",
      "Processing d2m with dims ('valid_time', 'latitude', 'longitude')\n",
      "✅ Saved d2m to C:\\Users\\Ankit\\Datasets_Forest_fire\\ERA5_fast_tif_stacks\\ERA5_d2m_2015_2016_stack.tif (17544 time bands)\n",
      "Processing u10 with dims ('valid_time', 'latitude', 'longitude')\n",
      "✅ Saved u10 to C:\\Users\\Ankit\\Datasets_Forest_fire\\ERA5_fast_tif_stacks\\ERA5_u10_2015_2016_stack.tif (17544 time bands)\n",
      "Processing v10 with dims ('valid_time', 'latitude', 'longitude')\n",
      "✅ Saved v10 to C:\\Users\\Ankit\\Datasets_Forest_fire\\ERA5_fast_tif_stacks\\ERA5_v10_2015_2016_stack.tif (17544 time bands)\n",
      "Processing tp with dims ('valid_time', 'latitude', 'longitude')\n",
      "✅ Saved tp to C:\\Users\\Ankit\\Datasets_Forest_fire\\ERA5_fast_tif_stacks\\ERA5_tp_2015_2016_stack.tif (17544 time bands)\n"
     ]
    }
   ],
   "source": [
    "import xarray as xr\n",
    "import rasterio\n",
    "from rasterio.transform import from_origin\n",
    "import numpy as np\n",
    "import os\n",
    "\n",
    "# ---- Input / Output ----\n",
    "ERA5_NC = r\"C:\\Users\\Ankit\\Datasets_Forest_fire\\compressed_cleaned_era5_2015_2016.nc\"\n",
    "OUT_DIR = r\"C:\\Users\\Ankit\\Datasets_Forest_fire\\ERA5_fast_tif_stacks\"\n",
    "os.makedirs(OUT_DIR, exist_ok=True)\n",
    "\n",
    "# ---- Load dataset ----\n",
    "ds = xr.open_dataset(ERA5_NC)\n",
    "\n",
    "time_dim = \"valid_time\"\n",
    "lat_dim = \"latitude\"\n",
    "lon_dim = \"longitude\"\n",
    "\n",
    "times = ds[time_dim].values\n",
    "lat = ds[lat_dim].values\n",
    "lon = ds[lon_dim].values\n",
    "\n",
    "# ---- Ensure north-up orientation ----\n",
    "if lat[0] > lat[-1]:\n",
    "    ds = ds.reindex({lat_dim: list(reversed(lat))})\n",
    "    lat = ds[lat_dim].values\n",
    "\n",
    "# ---- Create transform (affine) ----\n",
    "res_lon = abs(lon[1] - lon[0])\n",
    "res_lat = abs(lat[1] - lat[0])\n",
    "transform = from_origin(lon.min(), lat.max(), res_lon, res_lat)\n",
    "\n",
    "# ---- Loop through all variables ----\n",
    "for var in ds.data_vars:\n",
    "    da = ds[var]  # DataArray\n",
    "    print(f\"Processing {var} with dims {da.dims}\")\n",
    "\n",
    "    # Load all timesteps at once → shape: (time, lat, lon)\n",
    "    arr = da.values.astype(\"float32\")\n",
    "\n",
    "    n_bands = arr.shape[0]\n",
    "    profile = {\n",
    "        \"driver\": \"GTiff\",\n",
    "        \"height\": arr.shape[1],\n",
    "        \"width\": arr.shape[2],\n",
    "        \"count\": n_bands,\n",
    "        \"dtype\": \"float32\",\n",
    "        \"crs\": \"EPSG:4326\",\n",
    "        \"transform\": transform,\n",
    "        \"tiled\": True,            # enable tiling for faster IO\n",
    "        \"compress\": \"deflate\"     # compression to save space\n",
    "    }\n",
    "\n",
    "    out_tif = os.path.join(OUT_DIR, f\"ERA5_{var}_2015_2016_stack.tif\")\n",
    "\n",
    "    with rasterio.open(out_tif, \"w\", **profile) as dst:\n",
    "        dst.write(arr)  # write full time series in one shot\n",
    "\n",
    "    print(f\"✅ Saved {var} to {out_tif} ({n_bands} time bands)\")\n"
   ]
  },
  {
   "cell_type": "code",
   "execution_count": 3,
   "id": "aca6c265-8a33-46f3-b70a-746368fd753b",
   "metadata": {},
   "outputs": [
    {
     "name": "stdout",
     "output_type": "stream",
     "text": [
      "Dims: ('valid_time', 'latitude', 'longitude')\n",
      "Coords: ['number', 'valid_time', 'latitude', 'longitude', 'expver']\n"
     ]
    }
   ],
   "source": [
    "print(\"Dims:\", da.dims)\n",
    "print(\"Coords:\", list(da.coords))\n"
   ]
  },
  {
   "cell_type": "code",
   "execution_count": 2,
   "id": "be1bbd1c-303c-4565-8a03-064aa0dfba20",
   "metadata": {},
   "outputs": [
    {
     "name": "stdout",
     "output_type": "stream",
     "text": [
      "\n",
      "📂 File: C:\\Users\\Ankit\\Datasets_Forest_fire\\ERA5_fast_tif_stacks\\ERA5_t2m_2015_2016_stack.tif\n",
      "   Bands: 17544\n",
      "   Shape: 13 x 17\n",
      "   NoData metadata: None\n",
      "   Band 1: missing pixels = 0\n",
      "   Band 8772: missing pixels = 0\n",
      "   Band 17544: missing pixels = 0\n",
      "\n",
      "📂 File: C:\\Users\\Ankit\\Datasets_Forest_fire\\ERA5_fast_tif_stacks\\ERA5_d2m_2015_2016_stack.tif\n",
      "   Bands: 17544\n",
      "   Shape: 13 x 17\n",
      "   NoData metadata: None\n",
      "   Band 1: missing pixels = 0\n",
      "   Band 8772: missing pixels = 0\n",
      "   Band 17544: missing pixels = 0\n",
      "\n",
      "📂 File: C:\\Users\\Ankit\\Datasets_Forest_fire\\ERA5_fast_tif_stacks\\ERA5_u10_2015_2016_stack.tif\n",
      "   Bands: 17544\n",
      "   Shape: 13 x 17\n",
      "   NoData metadata: None\n",
      "   Band 1: missing pixels = 0\n",
      "   Band 8772: missing pixels = 0\n",
      "   Band 17544: missing pixels = 0\n",
      "\n",
      "📂 File: C:\\Users\\Ankit\\Datasets_Forest_fire\\ERA5_fast_tif_stacks\\ERA5_v10_2015_2016_stack.tif\n",
      "   Bands: 17544\n",
      "   Shape: 13 x 17\n",
      "   NoData metadata: None\n",
      "   Band 1: missing pixels = 0\n",
      "   Band 8772: missing pixels = 0\n",
      "   Band 17544: missing pixels = 0\n",
      "\n",
      "📂 File: C:\\Users\\Ankit\\Datasets_Forest_fire\\ERA5_fast_tif_stacks\\ERA5_tp_2015_2016_stack.tif\n",
      "   Bands: 17544\n",
      "   Shape: 13 x 17\n",
      "   NoData metadata: None\n",
      "   Band 1: missing pixels = 0\n",
      "   Band 8772: missing pixels = 0\n",
      "   Band 17544: missing pixels = 0\n"
     ]
    }
   ],
   "source": [
    "import rasterio\n",
    "import numpy as np\n",
    "\n",
    "# List of ERA5 stacked files\n",
    "era5_files = [\n",
    "    r\"C:\\Users\\Ankit\\Datasets_Forest_fire\\ERA5_fast_tif_stacks\\ERA5_t2m_2015_2016_stack.tif\",\n",
    "    r\"C:\\Users\\Ankit\\Datasets_Forest_fire\\ERA5_fast_tif_stacks\\ERA5_d2m_2015_2016_stack.tif\",\n",
    "    r\"C:\\Users\\Ankit\\Datasets_Forest_fire\\ERA5_fast_tif_stacks\\ERA5_u10_2015_2016_stack.tif\",\n",
    "    r\"C:\\Users\\Ankit\\Datasets_Forest_fire\\ERA5_fast_tif_stacks\\ERA5_v10_2015_2016_stack.tif\",\n",
    "    r\"C:\\Users\\Ankit\\Datasets_Forest_fire\\ERA5_fast_tif_stacks\\ERA5_tp_2015_2016_stack.tif\",\n",
    "]\n",
    "\n",
    "for f in era5_files:\n",
    "    with rasterio.open(f) as src:\n",
    "        print(f\"\\n📂 File: {f}\")\n",
    "        print(f\"   Bands: {src.count}\")\n",
    "        print(f\"   Shape: {src.height} x {src.width}\")\n",
    "\n",
    "        # Check for nodata value\n",
    "        nodata = src.nodata\n",
    "        print(f\"   NoData metadata: {nodata}\")\n",
    "\n",
    "        # Read a sample band (1st, middle, last)\n",
    "        for b in [1, src.count//2, src.count]:\n",
    "            arr = src.read(b, masked=True)\n",
    "            missing = np.sum(arr.mask) if hasattr(arr, \"mask\") else np.isnan(arr).sum()\n",
    "            print(f\"   Band {b}: missing pixels = {missing}\")\n"
   ]
  },
  {
   "cell_type": "code",
   "execution_count": 5,
   "id": "9b97f5f8-7fe6-4a0c-9318-651e211fdbb7",
   "metadata": {},
   "outputs": [
    {
     "name": "stdout",
     "output_type": "stream",
     "text": [
      "ERA5 variables cover 17544 timesteps\n"
     ]
    },
    {
     "ename": "PermissionError",
     "evalue": "[Errno 13] Permission denied: 'C:\\\\Users\\\\Ankit\\\\Datasets_Forest_fire\\\\sequence_index.csv'",
     "output_type": "error",
     "traceback": [
      "\u001b[1;31m---------------------------------------------------------------------------\u001b[0m",
      "\u001b[1;31mPermissionError\u001b[0m                           Traceback (most recent call last)",
      "Cell \u001b[1;32mIn[5], line 60\u001b[0m\n\u001b[0;32m     45\u001b[0m     rows\u001b[38;5;241m.\u001b[39mappend({\n\u001b[0;32m     46\u001b[0m         \u001b[38;5;124m\"\u001b[39m\u001b[38;5;124mcenter_time\u001b[39m\u001b[38;5;124m\"\u001b[39m: center_time,\n\u001b[0;32m     47\u001b[0m         \u001b[38;5;124m\"\u001b[39m\u001b[38;5;124mseq_band_idxs\u001b[39m\u001b[38;5;124m\"\u001b[39m: seq_idxs,\n\u001b[1;32m   (...)\u001b[0m\n\u001b[0;32m     56\u001b[0m         \u001b[38;5;124m\"\u001b[39m\u001b[38;5;124mlulc_file\u001b[39m\u001b[38;5;124m\"\u001b[39m: lulc_file,\n\u001b[0;32m     57\u001b[0m     })\n\u001b[0;32m     59\u001b[0m df \u001b[38;5;241m=\u001b[39m pd\u001b[38;5;241m.\u001b[39mDataFrame(rows)\n\u001b[1;32m---> 60\u001b[0m \u001b[43mdf\u001b[49m\u001b[38;5;241;43m.\u001b[39;49m\u001b[43mto_csv\u001b[49m\u001b[43m(\u001b[49m\u001b[43mOUT_CSV\u001b[49m\u001b[43m,\u001b[49m\u001b[43m \u001b[49m\u001b[43mindex\u001b[49m\u001b[38;5;241;43m=\u001b[39;49m\u001b[38;5;28;43;01mFalse\u001b[39;49;00m\u001b[43m)\u001b[49m\n\u001b[0;32m     61\u001b[0m \u001b[38;5;28mprint\u001b[39m(\u001b[38;5;124mf\u001b[39m\u001b[38;5;124m\"\u001b[39m\u001b[38;5;124m✅ Saved \u001b[39m\u001b[38;5;132;01m{\u001b[39;00m\u001b[38;5;28mlen\u001b[39m(df)\u001b[38;5;132;01m}\u001b[39;00m\u001b[38;5;124m sequences to \u001b[39m\u001b[38;5;132;01m{\u001b[39;00mOUT_CSV\u001b[38;5;132;01m}\u001b[39;00m\u001b[38;5;124m\"\u001b[39m)\n",
      "File \u001b[1;32m~\\AppData\\Local\\Programs\\Python\\Python310\\lib\\site-packages\\pandas\\util\\_decorators.py:333\u001b[0m, in \u001b[0;36mdeprecate_nonkeyword_arguments.<locals>.decorate.<locals>.wrapper\u001b[1;34m(*args, **kwargs)\u001b[0m\n\u001b[0;32m    327\u001b[0m \u001b[38;5;28;01mif\u001b[39;00m \u001b[38;5;28mlen\u001b[39m(args) \u001b[38;5;241m>\u001b[39m num_allow_args:\n\u001b[0;32m    328\u001b[0m     warnings\u001b[38;5;241m.\u001b[39mwarn(\n\u001b[0;32m    329\u001b[0m         msg\u001b[38;5;241m.\u001b[39mformat(arguments\u001b[38;5;241m=\u001b[39m_format_argument_list(allow_args)),\n\u001b[0;32m    330\u001b[0m         \u001b[38;5;167;01mFutureWarning\u001b[39;00m,\n\u001b[0;32m    331\u001b[0m         stacklevel\u001b[38;5;241m=\u001b[39mfind_stack_level(),\n\u001b[0;32m    332\u001b[0m     )\n\u001b[1;32m--> 333\u001b[0m \u001b[38;5;28;01mreturn\u001b[39;00m func(\u001b[38;5;241m*\u001b[39margs, \u001b[38;5;241m*\u001b[39m\u001b[38;5;241m*\u001b[39mkwargs)\n",
      "File \u001b[1;32m~\\AppData\\Local\\Programs\\Python\\Python310\\lib\\site-packages\\pandas\\core\\generic.py:3986\u001b[0m, in \u001b[0;36mNDFrame.to_csv\u001b[1;34m(self, path_or_buf, sep, na_rep, float_format, columns, header, index, index_label, mode, encoding, compression, quoting, quotechar, lineterminator, chunksize, date_format, doublequote, escapechar, decimal, errors, storage_options)\u001b[0m\n\u001b[0;32m   3975\u001b[0m df \u001b[38;5;241m=\u001b[39m \u001b[38;5;28mself\u001b[39m \u001b[38;5;28;01mif\u001b[39;00m \u001b[38;5;28misinstance\u001b[39m(\u001b[38;5;28mself\u001b[39m, ABCDataFrame) \u001b[38;5;28;01melse\u001b[39;00m \u001b[38;5;28mself\u001b[39m\u001b[38;5;241m.\u001b[39mto_frame()\n\u001b[0;32m   3977\u001b[0m formatter \u001b[38;5;241m=\u001b[39m DataFrameFormatter(\n\u001b[0;32m   3978\u001b[0m     frame\u001b[38;5;241m=\u001b[39mdf,\n\u001b[0;32m   3979\u001b[0m     header\u001b[38;5;241m=\u001b[39mheader,\n\u001b[1;32m   (...)\u001b[0m\n\u001b[0;32m   3983\u001b[0m     decimal\u001b[38;5;241m=\u001b[39mdecimal,\n\u001b[0;32m   3984\u001b[0m )\n\u001b[1;32m-> 3986\u001b[0m \u001b[38;5;28;01mreturn\u001b[39;00m \u001b[43mDataFrameRenderer\u001b[49m\u001b[43m(\u001b[49m\u001b[43mformatter\u001b[49m\u001b[43m)\u001b[49m\u001b[38;5;241;43m.\u001b[39;49m\u001b[43mto_csv\u001b[49m\u001b[43m(\u001b[49m\n\u001b[0;32m   3987\u001b[0m \u001b[43m    \u001b[49m\u001b[43mpath_or_buf\u001b[49m\u001b[43m,\u001b[49m\n\u001b[0;32m   3988\u001b[0m \u001b[43m    \u001b[49m\u001b[43mlineterminator\u001b[49m\u001b[38;5;241;43m=\u001b[39;49m\u001b[43mlineterminator\u001b[49m\u001b[43m,\u001b[49m\n\u001b[0;32m   3989\u001b[0m \u001b[43m    \u001b[49m\u001b[43msep\u001b[49m\u001b[38;5;241;43m=\u001b[39;49m\u001b[43msep\u001b[49m\u001b[43m,\u001b[49m\n\u001b[0;32m   3990\u001b[0m \u001b[43m    \u001b[49m\u001b[43mencoding\u001b[49m\u001b[38;5;241;43m=\u001b[39;49m\u001b[43mencoding\u001b[49m\u001b[43m,\u001b[49m\n\u001b[0;32m   3991\u001b[0m \u001b[43m    \u001b[49m\u001b[43merrors\u001b[49m\u001b[38;5;241;43m=\u001b[39;49m\u001b[43merrors\u001b[49m\u001b[43m,\u001b[49m\n\u001b[0;32m   3992\u001b[0m \u001b[43m    \u001b[49m\u001b[43mcompression\u001b[49m\u001b[38;5;241;43m=\u001b[39;49m\u001b[43mcompression\u001b[49m\u001b[43m,\u001b[49m\n\u001b[0;32m   3993\u001b[0m \u001b[43m    \u001b[49m\u001b[43mquoting\u001b[49m\u001b[38;5;241;43m=\u001b[39;49m\u001b[43mquoting\u001b[49m\u001b[43m,\u001b[49m\n\u001b[0;32m   3994\u001b[0m \u001b[43m    \u001b[49m\u001b[43mcolumns\u001b[49m\u001b[38;5;241;43m=\u001b[39;49m\u001b[43mcolumns\u001b[49m\u001b[43m,\u001b[49m\n\u001b[0;32m   3995\u001b[0m \u001b[43m    \u001b[49m\u001b[43mindex_label\u001b[49m\u001b[38;5;241;43m=\u001b[39;49m\u001b[43mindex_label\u001b[49m\u001b[43m,\u001b[49m\n\u001b[0;32m   3996\u001b[0m \u001b[43m    \u001b[49m\u001b[43mmode\u001b[49m\u001b[38;5;241;43m=\u001b[39;49m\u001b[43mmode\u001b[49m\u001b[43m,\u001b[49m\n\u001b[0;32m   3997\u001b[0m \u001b[43m    \u001b[49m\u001b[43mchunksize\u001b[49m\u001b[38;5;241;43m=\u001b[39;49m\u001b[43mchunksize\u001b[49m\u001b[43m,\u001b[49m\n\u001b[0;32m   3998\u001b[0m \u001b[43m    \u001b[49m\u001b[43mquotechar\u001b[49m\u001b[38;5;241;43m=\u001b[39;49m\u001b[43mquotechar\u001b[49m\u001b[43m,\u001b[49m\n\u001b[0;32m   3999\u001b[0m \u001b[43m    \u001b[49m\u001b[43mdate_format\u001b[49m\u001b[38;5;241;43m=\u001b[39;49m\u001b[43mdate_format\u001b[49m\u001b[43m,\u001b[49m\n\u001b[0;32m   4000\u001b[0m \u001b[43m    \u001b[49m\u001b[43mdoublequote\u001b[49m\u001b[38;5;241;43m=\u001b[39;49m\u001b[43mdoublequote\u001b[49m\u001b[43m,\u001b[49m\n\u001b[0;32m   4001\u001b[0m \u001b[43m    \u001b[49m\u001b[43mescapechar\u001b[49m\u001b[38;5;241;43m=\u001b[39;49m\u001b[43mescapechar\u001b[49m\u001b[43m,\u001b[49m\n\u001b[0;32m   4002\u001b[0m \u001b[43m    \u001b[49m\u001b[43mstorage_options\u001b[49m\u001b[38;5;241;43m=\u001b[39;49m\u001b[43mstorage_options\u001b[49m\u001b[43m,\u001b[49m\n\u001b[0;32m   4003\u001b[0m \u001b[43m\u001b[49m\u001b[43m)\u001b[49m\n",
      "File \u001b[1;32m~\\AppData\\Local\\Programs\\Python\\Python310\\lib\\site-packages\\pandas\\io\\formats\\format.py:1014\u001b[0m, in \u001b[0;36mDataFrameRenderer.to_csv\u001b[1;34m(self, path_or_buf, encoding, sep, columns, index_label, mode, compression, quoting, quotechar, lineterminator, chunksize, date_format, doublequote, escapechar, errors, storage_options)\u001b[0m\n\u001b[0;32m    993\u001b[0m     created_buffer \u001b[38;5;241m=\u001b[39m \u001b[38;5;28;01mFalse\u001b[39;00m\n\u001b[0;32m    995\u001b[0m csv_formatter \u001b[38;5;241m=\u001b[39m CSVFormatter(\n\u001b[0;32m    996\u001b[0m     path_or_buf\u001b[38;5;241m=\u001b[39mpath_or_buf,\n\u001b[0;32m    997\u001b[0m     lineterminator\u001b[38;5;241m=\u001b[39mlineterminator,\n\u001b[1;32m   (...)\u001b[0m\n\u001b[0;32m   1012\u001b[0m     formatter\u001b[38;5;241m=\u001b[39m\u001b[38;5;28mself\u001b[39m\u001b[38;5;241m.\u001b[39mfmt,\n\u001b[0;32m   1013\u001b[0m )\n\u001b[1;32m-> 1014\u001b[0m \u001b[43mcsv_formatter\u001b[49m\u001b[38;5;241;43m.\u001b[39;49m\u001b[43msave\u001b[49m\u001b[43m(\u001b[49m\u001b[43m)\u001b[49m\n\u001b[0;32m   1016\u001b[0m \u001b[38;5;28;01mif\u001b[39;00m created_buffer:\n\u001b[0;32m   1017\u001b[0m     \u001b[38;5;28;01massert\u001b[39;00m \u001b[38;5;28misinstance\u001b[39m(path_or_buf, StringIO)\n",
      "File \u001b[1;32m~\\AppData\\Local\\Programs\\Python\\Python310\\lib\\site-packages\\pandas\\io\\formats\\csvs.py:251\u001b[0m, in \u001b[0;36mCSVFormatter.save\u001b[1;34m(self)\u001b[0m\n\u001b[0;32m    247\u001b[0m \u001b[38;5;250m\u001b[39m\u001b[38;5;124;03m\"\"\"\u001b[39;00m\n\u001b[0;32m    248\u001b[0m \u001b[38;5;124;03mCreate the writer & save.\u001b[39;00m\n\u001b[0;32m    249\u001b[0m \u001b[38;5;124;03m\"\"\"\u001b[39;00m\n\u001b[0;32m    250\u001b[0m \u001b[38;5;66;03m# apply compression and byte/text conversion\u001b[39;00m\n\u001b[1;32m--> 251\u001b[0m \u001b[38;5;28;01mwith\u001b[39;00m \u001b[43mget_handle\u001b[49m\u001b[43m(\u001b[49m\n\u001b[0;32m    252\u001b[0m \u001b[43m    \u001b[49m\u001b[38;5;28;43mself\u001b[39;49m\u001b[38;5;241;43m.\u001b[39;49m\u001b[43mfilepath_or_buffer\u001b[49m\u001b[43m,\u001b[49m\n\u001b[0;32m    253\u001b[0m \u001b[43m    \u001b[49m\u001b[38;5;28;43mself\u001b[39;49m\u001b[38;5;241;43m.\u001b[39;49m\u001b[43mmode\u001b[49m\u001b[43m,\u001b[49m\n\u001b[0;32m    254\u001b[0m \u001b[43m    \u001b[49m\u001b[43mencoding\u001b[49m\u001b[38;5;241;43m=\u001b[39;49m\u001b[38;5;28;43mself\u001b[39;49m\u001b[38;5;241;43m.\u001b[39;49m\u001b[43mencoding\u001b[49m\u001b[43m,\u001b[49m\n\u001b[0;32m    255\u001b[0m \u001b[43m    \u001b[49m\u001b[43merrors\u001b[49m\u001b[38;5;241;43m=\u001b[39;49m\u001b[38;5;28;43mself\u001b[39;49m\u001b[38;5;241;43m.\u001b[39;49m\u001b[43merrors\u001b[49m\u001b[43m,\u001b[49m\n\u001b[0;32m    256\u001b[0m \u001b[43m    \u001b[49m\u001b[43mcompression\u001b[49m\u001b[38;5;241;43m=\u001b[39;49m\u001b[38;5;28;43mself\u001b[39;49m\u001b[38;5;241;43m.\u001b[39;49m\u001b[43mcompression\u001b[49m\u001b[43m,\u001b[49m\n\u001b[0;32m    257\u001b[0m \u001b[43m    \u001b[49m\u001b[43mstorage_options\u001b[49m\u001b[38;5;241;43m=\u001b[39;49m\u001b[38;5;28;43mself\u001b[39;49m\u001b[38;5;241;43m.\u001b[39;49m\u001b[43mstorage_options\u001b[49m\u001b[43m,\u001b[49m\n\u001b[0;32m    258\u001b[0m \u001b[43m\u001b[49m\u001b[43m)\u001b[49m \u001b[38;5;28;01mas\u001b[39;00m handles:\n\u001b[0;32m    259\u001b[0m     \u001b[38;5;66;03m# Note: self.encoding is irrelevant here\u001b[39;00m\n\u001b[0;32m    260\u001b[0m     \u001b[38;5;28mself\u001b[39m\u001b[38;5;241m.\u001b[39mwriter \u001b[38;5;241m=\u001b[39m csvlib\u001b[38;5;241m.\u001b[39mwriter(\n\u001b[0;32m    261\u001b[0m         handles\u001b[38;5;241m.\u001b[39mhandle,\n\u001b[0;32m    262\u001b[0m         lineterminator\u001b[38;5;241m=\u001b[39m\u001b[38;5;28mself\u001b[39m\u001b[38;5;241m.\u001b[39mlineterminator,\n\u001b[1;32m   (...)\u001b[0m\n\u001b[0;32m    267\u001b[0m         quotechar\u001b[38;5;241m=\u001b[39m\u001b[38;5;28mself\u001b[39m\u001b[38;5;241m.\u001b[39mquotechar,\n\u001b[0;32m    268\u001b[0m     )\n\u001b[0;32m    270\u001b[0m     \u001b[38;5;28mself\u001b[39m\u001b[38;5;241m.\u001b[39m_save()\n",
      "File \u001b[1;32m~\\AppData\\Local\\Programs\\Python\\Python310\\lib\\site-packages\\pandas\\io\\common.py:873\u001b[0m, in \u001b[0;36mget_handle\u001b[1;34m(path_or_buf, mode, encoding, compression, memory_map, is_text, errors, storage_options)\u001b[0m\n\u001b[0;32m    868\u001b[0m \u001b[38;5;28;01melif\u001b[39;00m \u001b[38;5;28misinstance\u001b[39m(handle, \u001b[38;5;28mstr\u001b[39m):\n\u001b[0;32m    869\u001b[0m     \u001b[38;5;66;03m# Check whether the filename is to be opened in binary mode.\u001b[39;00m\n\u001b[0;32m    870\u001b[0m     \u001b[38;5;66;03m# Binary mode does not support 'encoding' and 'newline'.\u001b[39;00m\n\u001b[0;32m    871\u001b[0m     \u001b[38;5;28;01mif\u001b[39;00m ioargs\u001b[38;5;241m.\u001b[39mencoding \u001b[38;5;129;01mand\u001b[39;00m \u001b[38;5;124m\"\u001b[39m\u001b[38;5;124mb\u001b[39m\u001b[38;5;124m\"\u001b[39m \u001b[38;5;129;01mnot\u001b[39;00m \u001b[38;5;129;01min\u001b[39;00m ioargs\u001b[38;5;241m.\u001b[39mmode:\n\u001b[0;32m    872\u001b[0m         \u001b[38;5;66;03m# Encoding\u001b[39;00m\n\u001b[1;32m--> 873\u001b[0m         handle \u001b[38;5;241m=\u001b[39m \u001b[38;5;28;43mopen\u001b[39;49m\u001b[43m(\u001b[49m\n\u001b[0;32m    874\u001b[0m \u001b[43m            \u001b[49m\u001b[43mhandle\u001b[49m\u001b[43m,\u001b[49m\n\u001b[0;32m    875\u001b[0m \u001b[43m            \u001b[49m\u001b[43mioargs\u001b[49m\u001b[38;5;241;43m.\u001b[39;49m\u001b[43mmode\u001b[49m\u001b[43m,\u001b[49m\n\u001b[0;32m    876\u001b[0m \u001b[43m            \u001b[49m\u001b[43mencoding\u001b[49m\u001b[38;5;241;43m=\u001b[39;49m\u001b[43mioargs\u001b[49m\u001b[38;5;241;43m.\u001b[39;49m\u001b[43mencoding\u001b[49m\u001b[43m,\u001b[49m\n\u001b[0;32m    877\u001b[0m \u001b[43m            \u001b[49m\u001b[43merrors\u001b[49m\u001b[38;5;241;43m=\u001b[39;49m\u001b[43merrors\u001b[49m\u001b[43m,\u001b[49m\n\u001b[0;32m    878\u001b[0m \u001b[43m            \u001b[49m\u001b[43mnewline\u001b[49m\u001b[38;5;241;43m=\u001b[39;49m\u001b[38;5;124;43m\"\u001b[39;49m\u001b[38;5;124;43m\"\u001b[39;49m\u001b[43m,\u001b[49m\n\u001b[0;32m    879\u001b[0m \u001b[43m        \u001b[49m\u001b[43m)\u001b[49m\n\u001b[0;32m    880\u001b[0m     \u001b[38;5;28;01melse\u001b[39;00m:\n\u001b[0;32m    881\u001b[0m         \u001b[38;5;66;03m# Binary mode\u001b[39;00m\n\u001b[0;32m    882\u001b[0m         handle \u001b[38;5;241m=\u001b[39m \u001b[38;5;28mopen\u001b[39m(handle, ioargs\u001b[38;5;241m.\u001b[39mmode)\n",
      "\u001b[1;31mPermissionError\u001b[0m: [Errno 13] Permission denied: 'C:\\\\Users\\\\Ankit\\\\Datasets_Forest_fire\\\\sequence_index.csv'"
     ]
    }
   ],
   "source": [
    "import rasterio\n",
    "import pandas as pd\n",
    "from datetime import datetime, timedelta\n",
    "\n",
    "# ---- Input files ----\n",
    "ERA5_FILES = {\n",
    "    \"t2m\": r\"C:\\Users\\Ankit\\Datasets_Forest_fire\\ERA5_fast_tif_stacks\\ERA5_t2m_2015_2016_stack.tif\",\n",
    "    \"d2m\": r\"C:\\Users\\Ankit\\Datasets_Forest_fire\\ERA5_fast_tif_stacks\\ERA5_d2m_2015_2016_stack.tif\",\n",
    "    \"tp\":  r\"C:\\Users\\Ankit\\Datasets_Forest_fire\\ERA5_fast_tif_stacks\\ERA5_tp_2015_2016_stack.tif\",\n",
    "    \"u10\": r\"C:\\Users\\Ankit\\Datasets_Forest_fire\\ERA5_fast_tif_stacks\\ERA5_u10_2015_2016_stack.tif\",\n",
    "    \"v10\": r\"C:\\Users\\Ankit\\Datasets_Forest_fire\\ERA5_fast_tif_stacks\\ERA5_v10_2015_2016_stack.tif\",\n",
    "}\n",
    "VIIRS_FILE  = r\"C:\\Users\\Ankit\\Datasets_Forest_fire\\VIIRS_fire_time_stack.tif\"\n",
    "DEM_FILE    = r\"C:\\Users\\Ankit\\Datasets_Forest_fire\\merged_DEM_30m_32644_aligned_filled.tif\"\n",
    "LULC_2015   = r\"C:\\Users\\Ankit\\Datasets_Forest_fire\\lulc_maps_tif\\LULC_2015_clipped_30m_filled_categorical.tif\"\n",
    "LULC_2016   = r\"C:\\Users\\Ankit\\Datasets_Forest_fire\\lulc_maps_tif\\LULC_2016_clipped_30m_filled_categorical.tif\"\n",
    "\n",
    "# ---- Config ----\n",
    "START_TIME  = datetime(2015, 1, 1, 0)\n",
    "SEQ_LEN     = 6\n",
    "HORIZONS    = [1, 2, 3]\n",
    "OUT_CSV     = r\"C:\\Users\\Ankit\\Datasets_Forest_fire\\sequence0_index.csv\"\n",
    "\n",
    "# ---- Get number of time steps from one ERA5 variable (multi-band TIFF) ----\n",
    "with rasterio.open(ERA5_FILES[\"t2m\"]) as src:\n",
    "    n_bands = src.count\n",
    "    height, width = src.height, src.width\n",
    "\n",
    "print(f\"ERA5 variables cover {n_bands} timesteps\")\n",
    "\n",
    "# ---- Build index ----\n",
    "rows = []\n",
    "for center_idx in range(SEQ_LEN, n_bands - max(HORIZONS)):\n",
    "    center_time = START_TIME + timedelta(minutes=30*center_idx)  # 30m resolution\n",
    "\n",
    "    # Input sequence indices\n",
    "    seq_idxs = list(range(center_idx - SEQ_LEN + 1, center_idx + 1))\n",
    "\n",
    "    # Target indices\n",
    "    tgt_idxs = [center_idx + h for h in HORIZONS]\n",
    "\n",
    "    # LULC depending on year\n",
    "    lulc_file = LULC_2015 if center_time.year == 2015 else LULC_2016\n",
    "\n",
    "    rows.append({\n",
    "        \"center_time\": center_time,\n",
    "        \"seq_band_idxs\": seq_idxs,\n",
    "        \"target_band_idxs\": tgt_idxs,\n",
    "        \"era5_t2m_file\": ERA5_FILES[\"t2m\"],\n",
    "        \"era5_d2m_file\": ERA5_FILES[\"d2m\"],\n",
    "        \"era5_tp_file\":  ERA5_FILES[\"tp\"],\n",
    "        \"era5_u10_file\": ERA5_FILES[\"u10\"],\n",
    "        \"era5_v10_file\": ERA5_FILES[\"v10\"],\n",
    "        \"viirs_file\": VIIRS_FILE,\n",
    "        \"dem_file\": DEM_FILE,\n",
    "        \"lulc_file\": lulc_file,\n",
    "    })\n",
    "\n",
    "df = pd.DataFrame(rows)\n",
    "df.to_csv(OUT_CSV, index=False)\n",
    "print(f\"✅ Saved {len(df)} sequences to {OUT_CSV}\")\n"
   ]
  },
  {
   "cell_type": "code",
   "execution_count": 1,
   "id": "3db8b948-115f-46d8-88ce-082e5e5d0bb9",
   "metadata": {},
   "outputs": [
    {
     "name": "stdout",
     "output_type": "stream",
     "text": [
      "ERA5 bands: 5\n",
      "VIIRS bands: 1\n"
     ]
    }
   ],
   "source": [
    "import rasterio\n",
    "\n",
    "ERA5_FILE = r\"C:\\Users\\Ankit\\Datasets_Forest_fire\\ERA5_30m_stack_filled_final.tif\"\n",
    "VIIRS_FILE = r\"C:\\Users\\Ankit\\Datasets_Forest_fire\\VIIRS_fire_label_2015_2016_30m_filled.tif\"\n",
    "\n",
    "with rasterio.open(ERA5_FILE) as src:\n",
    "    print(\"ERA5 bands:\", src.count)\n",
    "\n",
    "with rasterio.open(VIIRS_FILE) as src:\n",
    "    print(\"VIIRS bands:\", src.count)\n"
   ]
  },
  {
   "cell_type": "code",
   "execution_count": null,
   "id": "ca7f368d-eab5-4544-b5fd-de8398bf177f",
   "metadata": {},
   "outputs": [],
   "source": []
  }
 ],
 "metadata": {
  "kernelspec": {
   "display_name": "Python 3 (ipykernel)",
   "language": "python",
   "name": "python3"
  },
  "language_info": {
   "codemirror_mode": {
    "name": "ipython",
    "version": 3
   },
   "file_extension": ".py",
   "mimetype": "text/x-python",
   "name": "python",
   "nbconvert_exporter": "python",
   "pygments_lexer": "ipython3",
   "version": "3.10.0"
  }
 },
 "nbformat": 4,
 "nbformat_minor": 5
}
