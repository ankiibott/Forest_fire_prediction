{
 "cells": [
  {
   "cell_type": "code",
   "execution_count": 1,
   "id": "cd3e9c6e-578f-4451-8e3b-41edb69b507d",
   "metadata": {},
   "outputs": [],
   "source": [
    "import rasterio\n",
    "import numpy as np"
   ]
  },
  {
   "cell_type": "code",
   "execution_count": 2,
   "id": "d3879687-6224-4259-96e8-18887ed185d8",
   "metadata": {},
   "outputs": [],
   "source": [
    "VIIRS_INPUT = r\"C:\\Users\\Ankit\\Datasets_Forest_fire\\updated_viirs_binary_fire_2015_2016.nc\"\n",
    "OUT_FILE = r\"C:\\Users\\Ankit\\Datasets_Forest_fire\\VIIRS_fire_time_stack.tif\""
   ]
  },
  {
   "cell_type": "code",
   "execution_count": 3,
   "id": "0b2ba05a-9501-42ff-89a3-dfe06b8dd956",
   "metadata": {},
   "outputs": [],
   "source": [
    "n_bands = 17544   # hourly for 2015–2016\n",
    "with rasterio.open(VIIRS_INPUT) as src:\n",
    "    height, width = src.height, src.width\n",
    "    src_data = src.read(1)  \n",
    "    profile = src.profile\n",
    "    profile.update(\n",
    "        count=n_bands,\n",
    "        dtype=\"uint8\",\n",
    "        driver=\"GTiff\"\n",
    "    )\n",
    "\n",
    "    with rasterio.open(OUT_FILE, \"w\", **profile) as dst:\n",
    "        for i in range(n_bands):\n",
    "           \n",
    "            dst.write(src_data.astype(\"uint8\"), i + 1)"
   ]
  },
  {
   "cell_type": "code",
   "execution_count": 4,
   "id": "18d0412b-db31-4056-809b-3e40114a0ff4",
   "metadata": {},
   "outputs": [
    {
     "name": "stdout",
     "output_type": "stream",
     "text": [
      "✅ Created VIIRS time stack with 17544 bands → C:\\Users\\Ankit\\Datasets_Forest_fire\\VIIRS_fire_time_stack.tif\n"
     ]
    }
   ],
   "source": [
    "print(f\"✅ Created VIIRS time stack with {n_bands} bands → {OUT_FILE}\")"
   ]
  },
  {
   "cell_type": "code",
   "execution_count": null,
   "id": "ff6f3e1b-2f6d-4581-ae13-56b28d190aca",
   "metadata": {},
   "outputs": [],
   "source": []
  }
 ],
 "metadata": {
  "kernelspec": {
   "display_name": "Python 3 (ipykernel)",
   "language": "python",
   "name": "python3"
  },
  "language_info": {
   "codemirror_mode": {
    "name": "ipython",
    "version": 3
   },
   "file_extension": ".py",
   "mimetype": "text/x-python",
   "name": "python",
   "nbconvert_exporter": "python",
   "pygments_lexer": "ipython3",
   "version": "3.10.0"
  }
 },
 "nbformat": 4,
 "nbformat_minor": 5
}
