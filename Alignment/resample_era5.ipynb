{
 "cells": [
  {
   "cell_type": "code",
   "execution_count": 3,
   "id": "1e0cb92a-94f1-48aa-900d-2a4e5fe7614e",
   "metadata": {},
   "outputs": [
    {
     "name": "stdout",
     "output_type": "stream",
     "text": [
      "Processing variable: t2m\n",
      "Processing variable: d2m\n",
      "Processing variable: u10\n",
      "Processing variable: v10\n",
      "Processing variable: tp\n",
      "✅ Multi-band raster saved at: C:\\Users\\Ankit\\OneDrive\\Desktop\\Datasets_Forest_fire\\ERA5_30m_stack.tif\n"
     ]
    }
   ],
   "source": [
    "import xarray as xr\n",
    "import rioxarray\n",
    "import rasterio\n",
    "from rasterio.transform import from_origin\n",
    "\n",
    "# ==== User settings ====\n",
    "input_nc = r\"C:\\Users\\Ankit\\OneDrive\\Desktop\\Datasets_Forest_fire\\compressed_cleaned_era5_2015_2016.nc\"\n",
    "output_tif = r\"C:\\Users\\Ankit\\OneDrive\\Desktop\\Datasets_Forest_fire\\ERA5_30m_stack.tif\"\n",
    "variables_to_process = ['t2m', 'd2m', 'u10', 'v10', 'tp']  # ERA5 variables\n",
    "target_resolution = 30  # meters\n",
    "\n",
    "# Open dataset\n",
    "ds = xr.open_dataset(input_nc)\n",
    "\n",
    "# Choose an appropriate projected CRS (replace with your area's UTM zone if known)\n",
    "# Example: EPSG:32644 is UTM zone 44N; you must change it to match your region\n",
    "target_crs = \"EPSG:32644\"\n",
    "\n",
    "processed_bands = []\n",
    "\n",
    "for var in variables_to_process:\n",
    "    print(f\"Processing variable: {var}\")\n",
    "    \n",
    "    # Extract variable as DataArray\n",
    "    da = ds[var]\n",
    "    \n",
    "    # Select first time step for demonstration (adjust if using time series)\n",
    "    da = da.isel(valid_time=0)  \n",
    "    \n",
    "    # Attach spatial dimensions to rioxarray\n",
    "    da = da.rio.write_crs(\"EPSG:4326\")  # Original is lat/lon WGS84\n",
    "    \n",
    "    # Reproject to target CRS (UTM meters) and resample to 30 m\n",
    "    da_utm = da.rio.reproject(\n",
    "        target_crs,\n",
    "        resolution=target_resolution,\n",
    "        resampling=rasterio.enums.Resampling.bilinear\n",
    "    )\n",
    "    \n",
    "    processed_bands.append(da_utm)\n",
    "\n",
    "# Stack all processed bands into one DataArray\n",
    "stacked = xr.concat(processed_bands, dim=\"band\")\n",
    "stacked = stacked.assign_coords(band=range(1, len(variables_to_process) + 1))\n",
    "\n",
    "# Save to one multi-band GeoTIFF\n",
    "stacked.rio.to_raster(output_tif)\n",
    "\n",
    "print(f\"✅ Multi-band raster saved at: {output_tif}\")"
   ]
  },
  {
   "cell_type": "code",
   "execution_count": null,
   "id": "3c8d5315-85b9-42fd-bc63-3ffa04a940dc",
   "metadata": {},
   "outputs": [],
   "source": []
  }
 ],
 "metadata": {
  "kernelspec": {
   "display_name": "Python 3 (ipykernel)",
   "language": "python",
   "name": "python3"
  },
  "language_info": {
   "codemirror_mode": {
    "name": "ipython",
    "version": 3
   },
   "file_extension": ".py",
   "mimetype": "text/x-python",
   "name": "python",
   "nbconvert_exporter": "python",
   "pygments_lexer": "ipython3",
   "version": "3.10.0"
  }
 },
 "nbformat": 4,
 "nbformat_minor": 5
}
