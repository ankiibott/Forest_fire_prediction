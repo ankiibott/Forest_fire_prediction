{
 "cells": [
  {
   "cell_type": "code",
   "execution_count": 1,
   "id": "0c700b40-bb8d-4cbf-9102-ee11e8291fd7",
   "metadata": {},
   "outputs": [
    {
     "name": "stdout",
     "output_type": "stream",
     "text": [
      "ERA5 variables cover 17544 timesteps\n",
      "✅ Saved 17535 sequences to C:\\Users\\Ankit\\Datasets_Forest_fire\\sequence0_index.csv\n"
     ]
    }
   ],
   "source": [
    "import rasterio\n",
    "import pandas as pd\n",
    "from datetime import datetime, timedelta\n",
    "\n",
    "# ---- Input files ----\n",
    "ERA5_FILES = {\n",
    "    \"t2m\": r\"C:\\Users\\Ankit\\Datasets_Forest_fire\\ERA5_fast_tif_stacks\\ERA5_t2m_2015_2016_stack.tif\",\n",
    "    \"d2m\": r\"C:\\Users\\Ankit\\Datasets_Forest_fire\\ERA5_fast_tif_stacks\\ERA5_d2m_2015_2016_stack.tif\",\n",
    "    \"tp\":  r\"C:\\Users\\Ankit\\Datasets_Forest_fire\\ERA5_fast_tif_stacks\\ERA5_tp_2015_2016_stack.tif\",\n",
    "    \"u10\": r\"C:\\Users\\Ankit\\Datasets_Forest_fire\\ERA5_fast_tif_stacks\\ERA5_u10_2015_2016_stack.tif\",\n",
    "    \"v10\": r\"C:\\Users\\Ankit\\Datasets_Forest_fire\\ERA5_fast_tif_stacks\\ERA5_v10_2015_2016_stack.tif\",\n",
    "}\n",
    "VIIRS_FILE  = r\"C:\\Users\\Ankit\\Datasets_Forest_fire\\VIIRS_fire_time_stack.tif\"\n",
    "DEM_FILE    = r\"C:\\Users\\Ankit\\Datasets_Forest_fire\\merged_DEM_30m_32644_aligned_filled.tif\"\n",
    "LULC_2015   = r\"C:\\Users\\Ankit\\Datasets_Forest_fire\\lulc_maps_tif\\LULC_2015_clipped_30m_filled_categorical.tif\"\n",
    "LULC_2016   = r\"C:\\Users\\Ankit\\Datasets_Forest_fire\\lulc_maps_tif\\LULC_2016_clipped_30m_filled_categorical.tif\"\n",
    "\n",
    "# ---- Config ----\n",
    "START_TIME  = datetime(2015, 1, 1, 0)\n",
    "SEQ_LEN     = 6\n",
    "HORIZONS    = [1, 2, 3]\n",
    "OUT_CSV     = r\"C:\\Users\\Ankit\\Datasets_Forest_fire\\sequence0_index.csv\"\n",
    "\n",
    "# ---- Get number of time steps from one ERA5 variable (multi-band TIFF) ----\n",
    "with rasterio.open(ERA5_FILES[\"t2m\"]) as src:\n",
    "    n_bands = src.count\n",
    "    height, width = src.height, src.width\n",
    "\n",
    "print(f\"ERA5 variables cover {n_bands} timesteps\")\n",
    "\n",
    "# ---- Build index ----\n",
    "rows = []\n",
    "for center_idx in range(SEQ_LEN, n_bands - max(HORIZONS)):\n",
    "    center_time = START_TIME + timedelta(minutes=30*center_idx)  # 30m resolution\n",
    "\n",
    "    # Input sequence indices\n",
    "    seq_idxs = list(range(center_idx - SEQ_LEN + 1, center_idx + 1))\n",
    "\n",
    "    # Target indices\n",
    "    tgt_idxs = [center_idx + h for h in HORIZONS]\n",
    "\n",
    "    # LULC depending on year\n",
    "    lulc_file = LULC_2015 if center_time.year == 2015 else LULC_2016\n",
    "\n",
    "    rows.append({\n",
    "        \"center_time\": center_time,\n",
    "        \"seq_band_idxs\": seq_idxs,\n",
    "        \"target_band_idxs\": tgt_idxs,\n",
    "        \"era5_t2m_file\": ERA5_FILES[\"t2m\"],\n",
    "        \"era5_d2m_file\": ERA5_FILES[\"d2m\"],\n",
    "        \"era5_tp_file\":  ERA5_FILES[\"tp\"],\n",
    "        \"era5_u10_file\": ERA5_FILES[\"u10\"],\n",
    "        \"era5_v10_file\": ERA5_FILES[\"v10\"],\n",
    "        \"viirs_file\": VIIRS_FILE,\n",
    "        \"dem_file\": DEM_FILE,\n",
    "        \"lulc_file\": lulc_file,\n",
    "    })\n",
    "\n",
    "df = pd.DataFrame(rows)\n",
    "df.to_csv(OUT_CSV, index=False)\n",
    "print(f\"✅ Saved {len(df)} sequences to {OUT_CSV}\")\n"
   ]
  },
  {
   "cell_type": "code",
   "execution_count": null,
   "id": "20b0101e-7b78-4bb6-abe9-f6ad07c45480",
   "metadata": {},
   "outputs": [],
   "source": []
  }
 ],
 "metadata": {
  "kernelspec": {
   "display_name": "Python 3 (ipykernel)",
   "language": "python",
   "name": "python3"
  },
  "language_info": {
   "codemirror_mode": {
    "name": "ipython",
    "version": 3
   },
   "file_extension": ".py",
   "mimetype": "text/x-python",
   "name": "python",
   "nbconvert_exporter": "python",
   "pygments_lexer": "ipython3",
   "version": "3.10.0"
  }
 },
 "nbformat": 4,
 "nbformat_minor": 5
}
