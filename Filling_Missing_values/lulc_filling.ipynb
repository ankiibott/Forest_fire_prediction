{
 "cells": [
  {
   "cell_type": "code",
   "execution_count": 1,
   "id": "9e89833d-f00a-4f7d-ab9c-21f861c2eb29",
   "metadata": {},
   "outputs": [
    {
     "name": "stdout",
     "output_type": "stream",
     "text": [
      "File: C:\\Users\\Ankit\\OneDrive\\Desktop\\Datasets_Forest_fire\\lulc_maps_tif\\LULC_2015_clipped_30m.tif\n",
      "Detected NoData value in metadata: None\n",
      "Total pixels: 147558092\n",
      "Missing pixels: 0\n",
      "Missing percentage: 0.00%\n"
     ]
    }
   ],
   "source": [
    "import rasterio\n",
    "import numpy as np\n",
    "\n",
    "def check_nodata_lulc(lulc_path):\n",
    "    # Open the LULC raster\n",
    "    with rasterio.open(lulc_path) as src:\n",
    "        data = src.read(1)  # read first band\n",
    "        nodata_value = src.nodata  # get nodata value from metadata\n",
    "\n",
    "    print(f\"File: {lulc_path}\")\n",
    "    print(f\"Detected NoData value in metadata: {nodata_value}\")\n",
    "\n",
    "    # Create a mask for missing data\n",
    "    if nodata_value is not None:\n",
    "        missing_mask = (data == nodata_value)\n",
    "    else:\n",
    "        # If no NoData is defined, check for NaN\n",
    "        missing_mask = np.isnan(data)\n",
    "\n",
    "    total_pixels = data.size\n",
    "    missing_pixels = np.sum(missing_mask)\n",
    "    missing_percentage = (missing_pixels / total_pixels) * 100\n",
    "\n",
    "    print(f\"Total pixels: {total_pixels}\")\n",
    "    print(f\"Missing pixels: {missing_pixels}\")\n",
    "    print(f\"Missing percentage: {missing_percentage:.2f}%\")\n",
    "\n",
    "    return missing_mask\n",
    "\n",
    "# Example usage:\n",
    "lulc_file =r\"C:\\Users\\Ankit\\OneDrive\\Desktop\\Datasets_Forest_fire\\lulc_maps_tif\\LULC_2015_clipped_30m.tif\"\n",
    "missing_mask = check_nodata_lulc(lulc_file)\n"
   ]
  },
  {
   "cell_type": "code",
   "execution_count": null,
   "id": "054cf026-7500-41c7-a7a9-228ccff37008",
   "metadata": {},
   "outputs": [],
   "source": []
  }
 ],
 "metadata": {
  "kernelspec": {
   "display_name": "Python 3 (ipykernel)",
   "language": "python",
   "name": "python3"
  },
  "language_info": {
   "codemirror_mode": {
    "name": "ipython",
    "version": 3
   },
   "file_extension": ".py",
   "mimetype": "text/x-python",
   "name": "python",
   "nbconvert_exporter": "python",
   "pygments_lexer": "ipython3",
   "version": "3.10.0"
  }
 },
 "nbformat": 4,
 "nbformat_minor": 5
}
