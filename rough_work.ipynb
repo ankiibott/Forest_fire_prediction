{
 "cells": [
  {
   "cell_type": "code",
   "execution_count": 1,
   "id": "f318a3e7-fab4-41e5-be9f-c548f1730c03",
   "metadata": {},
   "outputs": [
    {
     "name": "stdout",
     "output_type": "stream",
     "text": [
      "CRS: EPSG:32644\n",
      "Bounding Box:\n",
      "  Min Lon: 108365.73527523666\n",
      "  Min Lat: 3152714.2869458776\n",
      "  Max Lon: 499835.73527523666\n",
      "  Max Lat: 3491954.2869458776\n",
      "Resolution (Lon, Lat): (30.0, 30.0)\n",
      "Pixel Dimensions: 13049 x 11308\n"
     ]
    }
   ],
   "source": [
    "import rasterio\n",
    "\n",
    "# Path to your clipped LULC file\n",
    "lulc_path = r\"C:\\Users\\Ankit\\OneDrive\\Desktop\\Datasets_Forest_fire\\lulc_maps_tif\\LULC_2015_clipped_30m.tif\"\n",
    "with rasterio.open(lulc_path) as src:\n",
    "    bounds = src.bounds\n",
    "    crs = src.crs\n",
    "    width = src.width\n",
    "    height = src.height\n",
    "    res = src.res\n",
    "\n",
    "print(\"CRS:\", crs)\n",
    "print(\"Bounding Box:\")\n",
    "print(f\"  Min Lon: {bounds.left}\")\n",
    "print(f\"  Min Lat: {bounds.bottom}\")\n",
    "print(f\"  Max Lon: {bounds.right}\")\n",
    "print(f\"  Max Lat: {bounds.top}\")\n",
    "print(\"Resolution (Lon, Lat):\", res)\n",
    "print(f\"Pixel Dimensions: {width} x {height}\")\n"
   ]
  },
  {
   "cell_type": "code",
   "execution_count": 2,
   "id": "3633ab26-9edd-4356-a0a0-343fa1de1fde",
   "metadata": {},
   "outputs": [
    {
     "name": "stdout",
     "output_type": "stream",
     "text": [
      "⚠ LULC coverage found in N31_E80 — DEM tile needed.\n"
     ]
    }
   ],
   "source": [
    "import rasterio\n",
    "from rasterio.windows import from_bounds\n",
    "\n",
    "# Path to your LULC file\n",
    "lulc_path = r\"C:\\Users\\Ankit\\OneDrive\\Desktop\\Datasets_Forest_fire\\lulc_maps_tif\\LULC_2015_clipped_30m.tif\"\n",
    "\n",
    "# Geographic bounds for N31_E80 tile\n",
    "# Covers 31°N to 32°N latitude and 80°E to 81°E longitude\n",
    "tile_min_lon, tile_min_lat = 80.0, 31.0\n",
    "tile_max_lon, tile_max_lat = 81.0, 32.0\n",
    "\n",
    "with rasterio.open(lulc_path) as src:\n",
    "    # Reproject bounds to LULC CRS if needed\n",
    "    if src.crs.to_string() != \"EPSG:4326\":\n",
    "        from pyproj import Transformer\n",
    "        transformer = Transformer.from_crs(\"EPSG:4326\", src.crs, always_xy=True)\n",
    "        tile_min_lon, tile_min_lat = transformer.transform(tile_min_lon, tile_min_lat)\n",
    "        tile_max_lon, tile_max_lat = transformer.transform(tile_max_lon, tile_max_lat)\n",
    "\n",
    "    # Clip window for the tile area\n",
    "    try:\n",
    "        window = from_bounds(tile_min_lon, tile_min_lat, tile_max_lon, tile_max_lat, src.transform)\n",
    "    except ValueError:\n",
    "        print(\"Tile is completely outside LULC raster.\")\n",
    "        exit()\n",
    "\n",
    "    # Read data for that window\n",
    "    data = src.read(1, window=window, masked=True)\n",
    "\n",
    "    # Check if there are any valid pixels (not nodata)\n",
    "    if data.mask.all():\n",
    "        print(\"✅ No LULC coverage in N31_E80 — safe to skip DEM tile.\")\n",
    "    else:\n",
    "        print(\"⚠ LULC coverage found in N31_E80 — DEM tile needed.\")\n"
   ]
  },
  {
   "cell_type": "code",
   "execution_count": 2,
   "id": "879589e5-7558-4fc8-a8f8-5f7783658077",
   "metadata": {
    "scrolled": true
   },
   "outputs": [
    {
     "ename": "TypeError",
     "evalue": "invalid dtype: dtype('>i2')",
     "output_type": "error",
     "traceback": [
      "\u001b[1;31m---------------------------------------------------------------------------\u001b[0m",
      "\u001b[1;31mTypeError\u001b[0m                                 Traceback (most recent call last)",
      "Cell \u001b[1;32mIn[2], line 24\u001b[0m\n\u001b[0;32m     21\u001b[0m transform \u001b[38;5;241m=\u001b[39m from_origin(lon, lat \u001b[38;5;241m+\u001b[39m \u001b[38;5;241m1\u001b[39m, \u001b[38;5;241m1\u001b[39m\u001b[38;5;241m/\u001b[39m\u001b[38;5;241m3600\u001b[39m, \u001b[38;5;241m1\u001b[39m\u001b[38;5;241m/\u001b[39m\u001b[38;5;241m3600\u001b[39m)  \u001b[38;5;66;03m# 1 arc-second resolution\u001b[39;00m\n\u001b[0;32m     23\u001b[0m \u001b[38;5;66;03m# Save as GeoTIFF\u001b[39;00m\n\u001b[1;32m---> 24\u001b[0m \u001b[38;5;28;01mwith\u001b[39;00m \u001b[43mrasterio\u001b[49m\u001b[38;5;241;43m.\u001b[39;49m\u001b[43mopen\u001b[49m\u001b[43m(\u001b[49m\n\u001b[0;32m     25\u001b[0m \u001b[43m    \u001b[49m\u001b[43moutput_tif\u001b[49m\u001b[43m,\u001b[49m\n\u001b[0;32m     26\u001b[0m \u001b[43m    \u001b[49m\u001b[38;5;124;43m'\u001b[39;49m\u001b[38;5;124;43mw\u001b[39;49m\u001b[38;5;124;43m'\u001b[39;49m\u001b[43m,\u001b[49m\n\u001b[0;32m     27\u001b[0m \u001b[43m    \u001b[49m\u001b[43mdriver\u001b[49m\u001b[38;5;241;43m=\u001b[39;49m\u001b[38;5;124;43m'\u001b[39;49m\u001b[38;5;124;43mGTiff\u001b[39;49m\u001b[38;5;124;43m'\u001b[39;49m\u001b[43m,\u001b[49m\n\u001b[0;32m     28\u001b[0m \u001b[43m    \u001b[49m\u001b[43mheight\u001b[49m\u001b[38;5;241;43m=\u001b[39;49m\u001b[43melevations\u001b[49m\u001b[38;5;241;43m.\u001b[39;49m\u001b[43mshape\u001b[49m\u001b[43m[\u001b[49m\u001b[38;5;241;43m0\u001b[39;49m\u001b[43m]\u001b[49m\u001b[43m,\u001b[49m\n\u001b[0;32m     29\u001b[0m \u001b[43m    \u001b[49m\u001b[43mwidth\u001b[49m\u001b[38;5;241;43m=\u001b[39;49m\u001b[43melevations\u001b[49m\u001b[38;5;241;43m.\u001b[39;49m\u001b[43mshape\u001b[49m\u001b[43m[\u001b[49m\u001b[38;5;241;43m1\u001b[39;49m\u001b[43m]\u001b[49m\u001b[43m,\u001b[49m\n\u001b[0;32m     30\u001b[0m \u001b[43m    \u001b[49m\u001b[43mcount\u001b[49m\u001b[38;5;241;43m=\u001b[39;49m\u001b[38;5;241;43m1\u001b[39;49m\u001b[43m,\u001b[49m\n\u001b[0;32m     31\u001b[0m \u001b[43m    \u001b[49m\u001b[43mdtype\u001b[49m\u001b[38;5;241;43m=\u001b[39;49m\u001b[43melevations\u001b[49m\u001b[38;5;241;43m.\u001b[39;49m\u001b[43mdtype\u001b[49m\u001b[43m,\u001b[49m\n\u001b[0;32m     32\u001b[0m \u001b[43m    \u001b[49m\u001b[43mcrs\u001b[49m\u001b[38;5;241;43m=\u001b[39;49m\u001b[38;5;124;43m'\u001b[39;49m\u001b[38;5;124;43mEPSG:4326\u001b[39;49m\u001b[38;5;124;43m'\u001b[39;49m\u001b[43m,\u001b[49m\n\u001b[0;32m     33\u001b[0m \u001b[43m    \u001b[49m\u001b[43mtransform\u001b[49m\u001b[38;5;241;43m=\u001b[39;49m\u001b[43mtransform\u001b[49m\n\u001b[0;32m     34\u001b[0m \u001b[43m)\u001b[49m \u001b[38;5;28;01mas\u001b[39;00m dst:\n\u001b[0;32m     35\u001b[0m     dst\u001b[38;5;241m.\u001b[39mwrite(elevations, \u001b[38;5;241m1\u001b[39m)\n\u001b[0;32m     37\u001b[0m \u001b[38;5;28mprint\u001b[39m(\u001b[38;5;124mf\u001b[39m\u001b[38;5;124m\"\u001b[39m\u001b[38;5;124m✅ Converted \u001b[39m\u001b[38;5;132;01m{\u001b[39;00mhgt_file\u001b[38;5;132;01m}\u001b[39;00m\u001b[38;5;124m to \u001b[39m\u001b[38;5;132;01m{\u001b[39;00moutput_tif\u001b[38;5;132;01m}\u001b[39;00m\u001b[38;5;124m\"\u001b[39m)\n",
      "File \u001b[1;32m~\\AppData\\Local\\Programs\\Python\\Python310\\lib\\site-packages\\rasterio\\env.py:463\u001b[0m, in \u001b[0;36mensure_env_with_credentials.<locals>.wrapper\u001b[1;34m(*args, **kwds)\u001b[0m\n\u001b[0;32m    460\u001b[0m     session \u001b[38;5;241m=\u001b[39m DummySession()\n\u001b[0;32m    462\u001b[0m \u001b[38;5;28;01mwith\u001b[39;00m env_ctor(session\u001b[38;5;241m=\u001b[39msession):\n\u001b[1;32m--> 463\u001b[0m     \u001b[38;5;28;01mreturn\u001b[39;00m f(\u001b[38;5;241m*\u001b[39margs, \u001b[38;5;241m*\u001b[39m\u001b[38;5;241m*\u001b[39mkwds)\n",
      "File \u001b[1;32m~\\AppData\\Local\\Programs\\Python\\Python310\\lib\\site-packages\\rasterio\\__init__.py:266\u001b[0m, in \u001b[0;36mopen\u001b[1;34m(fp, mode, driver, width, height, count, crs, transform, dtype, nodata, sharing, opener, **kwargs)\u001b[0m\n\u001b[0;32m    264\u001b[0m     \u001b[38;5;28;01mraise\u001b[39;00m \u001b[38;5;167;01mTypeError\u001b[39;00m(\u001b[38;5;124mf\u001b[39m\u001b[38;5;124m\"\u001b[39m\u001b[38;5;124minvalid driver: \u001b[39m\u001b[38;5;132;01m{\u001b[39;00mdriver\u001b[38;5;132;01m!r}\u001b[39;00m\u001b[38;5;124m\"\u001b[39m)\n\u001b[0;32m    265\u001b[0m \u001b[38;5;28;01mif\u001b[39;00m dtype \u001b[38;5;129;01mand\u001b[39;00m \u001b[38;5;129;01mnot\u001b[39;00m check_dtype(dtype):\n\u001b[1;32m--> 266\u001b[0m     \u001b[38;5;28;01mraise\u001b[39;00m \u001b[38;5;167;01mTypeError\u001b[39;00m(\u001b[38;5;124mf\u001b[39m\u001b[38;5;124m\"\u001b[39m\u001b[38;5;124minvalid dtype: \u001b[39m\u001b[38;5;132;01m{\u001b[39;00mdtype\u001b[38;5;132;01m!r}\u001b[39;00m\u001b[38;5;124m\"\u001b[39m)\n\u001b[0;32m    267\u001b[0m \u001b[38;5;28;01mif\u001b[39;00m nodata \u001b[38;5;129;01mis\u001b[39;00m \u001b[38;5;129;01mnot\u001b[39;00m \u001b[38;5;28;01mNone\u001b[39;00m:\n\u001b[0;32m    268\u001b[0m     nodata \u001b[38;5;241m=\u001b[39m \u001b[38;5;28mfloat\u001b[39m(nodata)\n",
      "\u001b[1;31mTypeError\u001b[0m: invalid dtype: dtype('>i2')"
     ]
    }
   ],
   "source": [
    "import rasterio\n",
    "from rasterio.transform import from_origin\n",
    "import numpy as np\n",
    "\n",
    "# Input .hgt file\n",
    "hgt_file = r\"C:\\Users\\Ankit\\Downloads\\N31E081.SRTMGL1.hgt\\N31E081.hgt\"\n",
    "output_tif = r\"C:\\Users\\Ankit\\OneDrive\\Desktop\\Datasets_Forest_fire\\DEM_datasets\\N31E080.tif\"\n",
    "\n",
    "# Known lat/lon for this tile\n",
    "lat = 31\n",
    "lon = 80\n",
    "\n",
    "# SRTM tiles are 3601x3601 with 1 arc-second resolution (~30m)\n",
    "size = 3601\n",
    "\n",
    "# Read binary elevation data\n",
    "with open(hgt_file, \"rb\") as f:\n",
    "    elevations = np.fromfile(f, np.dtype('>i2'), size * size).reshape((size, size))\n",
    "\n",
    "# Transform for GeoTIFF\n",
    "transform = from_origin(lon, lat + 1, 1/3600, 1/3600)  # 1 arc-second resolution\n",
    "\n",
    "# Save as GeoTIFF\n",
    "with rasterio.open(\n",
    "    output_tif,\n",
    "    'w',\n",
    "    driver='GTiff',\n",
    "    height=elevations.shape[0],\n",
    "    width=elevations.shape[1],\n",
    "    count=1,\n",
    "    dtype=elevations.dtype,\n",
    "    crs='EPSG:4326',\n",
    "    transform=transform\n",
    ") as dst:\n",
    "    dst.write(elevations, 1)\n",
    "\n",
    "print(f\"✅ Converted {hgt_file} to {output_tif}\")"
   ]
  },
  {
   "cell_type": "code",
   "execution_count": 3,
   "id": "2520806e-3eca-4eff-965e-16337a3bea21",
   "metadata": {},
   "outputs": [
    {
     "name": "stdout",
     "output_type": "stream",
     "text": [
      "✅ Converted C:\\Users\\Ankit\\Downloads\\N31E081.SRTMGL1.hgt\\N31E081.hgt to C:\\Users\\Ankit\\OneDrive\\Desktop\\Datasets_Forest_fire\\DEM_datasets\\N31E080.tif\n"
     ]
    }
   ],
   "source": [
    "import rasterio\n",
    "from rasterio.transform import from_origin\n",
    "import numpy as np\n",
    "\n",
    "# Input .hgt file\n",
    "hgt_file = r\"C:\\Users\\Ankit\\Downloads\\N31E081.SRTMGL1.hgt\\N31E081.hgt\"\n",
    "output_tif = r\"C:\\Users\\Ankit\\OneDrive\\Desktop\\Datasets_Forest_fire\\DEM_datasets\\N31E080.tif\"\n",
    "\n",
    "\n",
    "# Known lat/lon for this tile\n",
    "lat = 31\n",
    "lon = 80\n",
    "\n",
    "# SRTM tiles are 3601x3601 with 1 arc-second resolution (~30m)\n",
    "size = 3601\n",
    "\n",
    "# Read binary elevation data (big-endian) and convert to native endianness\n",
    "with open(hgt_file, \"rb\") as f:\n",
    "    elevations = np.fromfile(f, np.dtype('>i2'), size * size).reshape((size, size)).astype(np.int16)\n",
    "\n",
    "# Transform for GeoTIFF\n",
    "transform = from_origin(lon, lat + 1, 1/3600, 1/3600)  # 1 arc-second resolution\n",
    "\n",
    "# Save as GeoTIFF\n",
    "with rasterio.open(\n",
    "    output_tif,\n",
    "    'w',\n",
    "    driver='GTiff',\n",
    "    height=elevations.shape[0],\n",
    "    width=elevations.shape[1],\n",
    "    count=1,\n",
    "    dtype='int16',  # native dtype string\n",
    "    crs='EPSG:4326',\n",
    "    transform=transform\n",
    ") as dst:\n",
    "    dst.write(elevations, 1)\n",
    "\n",
    "print(f\"✅ Converted {hgt_file} to {output_tif}\")\n"
   ]
  },
  {
   "cell_type": "code",
   "execution_count": 4,
   "id": "ac77a6e9-980c-4d98-9076-6a00d722eedd",
   "metadata": {},
   "outputs": [
    {
     "name": "stdout",
     "output_type": "stream",
     "text": [
      "✅ Merged DEM saved to: C:\\Users\\Ankit\\OneDrive\\Desktop\\Datasets_Forest_fire\\merged_DEM.tif\n"
     ]
    }
   ],
   "source": [
    "import rasterio\n",
    "from rasterio.merge import merge\n",
    "import glob\n",
    "import os\n",
    "\n",
    "# Path to your DEM tiles folder\n",
    "dem_folder = r\"C:\\Users\\Ankit\\OneDrive\\Desktop\\Datasets_Forest_fire\\DEM_datasets\"\n",
    "\n",
    "# Output merged DEM file\n",
    "output_merged = r\"C:\\Users\\Ankit\\OneDrive\\Desktop\\Datasets_Forest_fire\\merged_DEM.tif\"\n",
    "\n",
    "# Get all DEM files (.hgt or .tif)\n",
    "# If they are still .hgt files, convert to .tif first — this script assumes .tif\n",
    "dem_files = glob.glob(os.path.join(dem_folder, \"*.tif\"))\n",
    "\n",
    "# Read and store datasets\n",
    "src_files_to_mosaic = []\n",
    "for fp in dem_files:\n",
    "    src = rasterio.open(fp)\n",
    "    src_files_to_mosaic.append(src)\n",
    "\n",
    "# Merge DEM tiles\n",
    "mosaic, out_transform = merge(src_files_to_mosaic)\n",
    "\n",
    "# Copy the metadata\n",
    "out_meta = src.meta.copy()\n",
    "out_meta.update({\n",
    "    \"driver\": \"GTiff\",\n",
    "    \"height\": mosaic.shape[1],\n",
    "    \"width\": mosaic.shape[2],\n",
    "    \"transform\": out_transform,\n",
    "    \"crs\": src.crs\n",
    "})\n",
    "\n",
    "# Save merged DEM\n",
    "with rasterio.open(output_merged, \"w\", **out_meta) as dest:\n",
    "    dest.write(mosaic)\n",
    "\n",
    "print(f\"✅ Merged DEM saved to: {output_merged}\")\n"
   ]
  },
  {
   "cell_type": "code",
   "execution_count": 7,
   "id": "8a594c45-f6e2-4168-908f-2cac51f490d6",
   "metadata": {},
   "outputs": [
    {
     "ename": "ValueError",
     "evalue": "CRS mismatch! Reproject one of the datasets to EPSG:4326 before running.",
     "output_type": "error",
     "traceback": [
      "\u001b[1;31m---------------------------------------------------------------------------\u001b[0m",
      "\u001b[1;31mValueError\u001b[0m                                Traceback (most recent call last)",
      "Cell \u001b[1;32mIn[7], line 21\u001b[0m\n\u001b[0;32m     19\u001b[0m \u001b[38;5;66;03m# Ensure both are in same CRS (EPSG:4326)\u001b[39;00m\n\u001b[0;32m     20\u001b[0m \u001b[38;5;28;01mif\u001b[39;00m dem_crs \u001b[38;5;241m!=\u001b[39m lulc_crs:\n\u001b[1;32m---> 21\u001b[0m     \u001b[38;5;28;01mraise\u001b[39;00m \u001b[38;5;167;01mValueError\u001b[39;00m(\u001b[38;5;124m\"\u001b[39m\u001b[38;5;124mCRS mismatch! Reproject one of the datasets to EPSG:4326 before running.\u001b[39m\u001b[38;5;124m\"\u001b[39m)\n\u001b[0;32m     23\u001b[0m \u001b[38;5;66;03m# Convert to shapely polygons for comparison\u001b[39;00m\n\u001b[0;32m     24\u001b[0m dem_poly \u001b[38;5;241m=\u001b[39m box(\u001b[38;5;241m*\u001b[39mdem_bounds)\n",
      "\u001b[1;31mValueError\u001b[0m: CRS mismatch! Reproject one of the datasets to EPSG:4326 before running."
     ]
    }
   ],
   "source": [
    "import rasterio\n",
    "from shapely.geometry import box\n",
    "import math\n",
    "\n",
    "# ==== INPUT FILES ====\n",
    "lulc_file = r\"C:\\Users\\Ankit\\OneDrive\\Desktop\\Datasets_Forest_fire\\lulc_maps_tif\\LULC_2015_clipped_30m.tif\"   # or .shp\n",
    "dem_file  = r\"C:\\Users\\Ankit\\Downloads\\merged_DEM.tif\"\n",
    "\n",
    "# Read DEM bounds\n",
    "with rasterio.open(dem_file) as dem:\n",
    "    dem_bounds = dem.bounds  # (minx, miny, maxx, maxy)\n",
    "    dem_crs = dem.crs\n",
    "\n",
    "# Read LULC bounds\n",
    "with rasterio.open(lulc_file) as lulc:\n",
    "    lulc_bounds = lulc.bounds\n",
    "    lulc_crs = lulc.crs\n",
    "\n",
    "# Ensure both are in same CRS (EPSG:4326)\n",
    "if dem_crs != lulc_crs:\n",
    "    raise ValueError(\"CRS mismatch! Reproject one of the datasets to EPSG:4326 before running.\")\n",
    "\n",
    "# Convert to shapely polygons for comparison\n",
    "dem_poly = box(*dem_bounds)\n",
    "lulc_poly = box(*lulc_bounds)\n",
    "\n",
    "# Check coverage\n",
    "if dem_poly.contains(lulc_poly):\n",
    "    print(\"✅ DEM fully covers LULC extent — No new tiles needed.\")\n",
    "else:\n",
    "    print(\"⚠ DEM does NOT fully cover LULC extent.\")\n",
    "    missing_area = lulc_poly.difference(dem_poly)\n",
    "    print(f\"Missing area bounds: {missing_area.bounds}\")\n",
    "\n",
    "    # Calculate missing tiles in Nxx_Exxx format\n",
    "    minx, miny, maxx, maxy = missing_area.bounds\n",
    "    min_lat = math.floor(miny)\n",
    "    max_lat = math.floor(maxy)\n",
    "    min_lon = math.floor(minx)\n",
    "    max_lon = math.floor(maxx)\n",
    "\n",
    "    missing_tiles = []\n",
    "    for lat in range(min_lat, max_lat + 1):\n",
    "        for lon in range(min_lon, max_lon + 1):\n",
    "            ns = \"N\" if lat >= 0 else \"S\"\n",
    "            ew = \"E\" if lon >= 0 else \"W\"\n",
    "            missing_tiles.append(f\"{ns}{abs(lat):02d}{ew}{abs(lon):03d}\")\n",
    "\n",
    "    print(\"📌 Missing DEM tiles you need to download:\")\n",
    "    for t in missing_tiles:\n",
    "        print(t)\n"
   ]
  },
  {
   "cell_type": "code",
   "execution_count": 9,
   "id": "67d158eb-4b78-4f3b-a2a5-b47a9f3a54c2",
   "metadata": {},
   "outputs": [
    {
     "name": "stdout",
     "output_type": "stream",
     "text": [
      "CRS mismatch — reprojecting LULC bounds to DEM CRS for coverage check...\n",
      "⚠ DEM does NOT fully cover LULC extent.\n",
      "Missing area bounds (in DEM CRS): (76.87778249225309, 28.495715625381205, 77.0000003622, 31.498087210948626)\n",
      "📌 Missing DEM tiles you need to download:\n",
      "N28E076\n",
      "N28E077\n",
      "N29E076\n",
      "N29E077\n",
      "N30E076\n",
      "N30E077\n",
      "N31E076\n",
      "N31E077\n"
     ]
    }
   ],
   "source": [
    "import rasterio\n",
    "from shapely.geometry import box, mapping\n",
    "import math\n",
    "import geopandas as gpd\n",
    "\n",
    "# ==== INPUT FILES ====\n",
    "lulc_file = r\"C:\\Users\\Ankit\\OneDrive\\Desktop\\Datasets_Forest_fire\\lulc_maps_tif\\LULC_2015_clipped_30m.tif\"   # or .shp\n",
    "dem_file  = r\"C:\\Users\\Ankit\\Downloads\\merged_DEM.tif\"\n",
    "\n",
    "# Read DEM\n",
    "with rasterio.open(dem_file) as dem:\n",
    "    dem_bounds = dem.bounds\n",
    "    dem_crs = dem.crs\n",
    "\n",
    "# Read LULC\n",
    "with rasterio.open(lulc_file) as lulc:\n",
    "    lulc_bounds = lulc.bounds\n",
    "    lulc_crs = lulc.crs\n",
    "\n",
    "# If CRSs differ, reproject LULC bounds to DEM CRS for coverage check\n",
    "if dem_crs != lulc_crs:\n",
    "    print(\"CRS mismatch — reprojecting LULC bounds to DEM CRS for coverage check...\")\n",
    "    lulc_poly = gpd.GeoSeries([box(*lulc_bounds)], crs=lulc_crs).to_crs(dem_crs).iloc[0]\n",
    "else:\n",
    "    lulc_poly = box(*lulc_bounds)\n",
    "\n",
    "dem_poly = box(*dem_bounds)\n",
    "\n",
    "# Check coverage\n",
    "if dem_poly.contains(lulc_poly):\n",
    "    print(\"✅ DEM fully covers LULC extent — No new tiles needed.\")\n",
    "else:\n",
    "    print(\"⚠ DEM does NOT fully cover LULC extent.\")\n",
    "    missing_area = lulc_poly.difference(dem_poly)\n",
    "    print(f\"Missing area bounds (in DEM CRS): {missing_area.bounds}\")\n",
    "\n",
    "    # Reproject missing area to EPSG:4326 to get tile coordinates\n",
    "    missing_area_wgs = gpd.GeoSeries([missing_area], crs=dem_crs).to_crs(\"EPSG:4326\").iloc[0]\n",
    "    minx, miny, maxx, maxy = missing_area_wgs.bounds\n",
    "\n",
    "    # Calculate missing tiles in NxxExxx format\n",
    "    min_lat = math.floor(miny)\n",
    "    max_lat = math.floor(maxy)\n",
    "    min_lon = math.floor(minx)\n",
    "    max_lon = math.floor(maxx)\n",
    "\n",
    "    missing_tiles = []\n",
    "    for lat in range(min_lat, max_lat + 1):\n",
    "        for lon in range(min_lon, max_lon + 1):\n",
    "            ns = \"N\" if lat >= 0 else \"S\"\n",
    "            ew = \"E\" if lon >= 0 else \"W\"\n",
    "            missing_tiles.append(f\"{ns}{abs(lat):02d}{ew}{abs(lon):03d}\")\n",
    "\n",
    "    print(\"📌 Missing DEM tiles you need to download:\")\n",
    "    for t in missing_tiles:\n",
    "        print(t)\n"
   ]
  },
  {
   "cell_type": "code",
   "execution_count": 10,
   "id": "cede4c61-1162-425d-b897-223336d27e6e",
   "metadata": {},
   "outputs": [
    {
     "name": "stdout",
     "output_type": "stream",
     "text": [
      "🔍 Missing pixels found: 0\n",
      "✅ No missing values found — DEM is complete.\n"
     ]
    }
   ],
   "source": [
    "import rasterio\n",
    "import numpy as np\n",
    "from scipy import ndimage\n",
    "\n",
    "# Path to your merged DEM\n",
    "merged_dem_path = r\"C:\\Users\\Ankit\\Downloads\\merged_DEM.tif\"\n",
    "filled_dem_path  = r\"C:\\Users\\Ankit\\Downloads\\merged_DEM_filled.tif\"\n",
    "\n",
    "# Step 1: Open merged DEM\n",
    "with rasterio.open(merged_dem_path) as src:\n",
    "    dem_data = src.read(1)  # first band\n",
    "    profile = src.profile\n",
    "    nodata_value = src.nodata\n",
    "\n",
    "# Step 2: Detect nodata mask\n",
    "if nodata_value is None:\n",
    "    # If no explicit nodata, assume negative or extreme values are invalid\n",
    "    nodata_value = -9999\n",
    "\n",
    "mask = (dem_data == nodata_value) | np.isnan(dem_data)\n",
    "missing_count = np.sum(mask)\n",
    "print(f\"🔍 Missing pixels found: {missing_count}\")\n",
    "\n",
    "# Step 3: Fill missing values by interpolation (IDW via scipy)\n",
    "if missing_count > 0:\n",
    "    print(\"🛠 Filling missing values...\")\n",
    "    \n",
    "    # Create coordinate arrays\n",
    "    coords = np.array(np.nonzero(~mask)).T\n",
    "    values = dem_data[~mask]\n",
    "    \n",
    "    # Distance transform gives nearest non-missing pixel index\n",
    "    filled_data = dem_data.copy()\n",
    "    nearest_index = ndimage.distance_transform_edt(mask, return_distances=False, return_indices=True)\n",
    "    filled_data[mask] = dem_data[tuple(nearest_index[:, mask])]\n",
    "    \n",
    "    # Save filled DEM\n",
    "    with rasterio.open(filled_dem_path, 'w', **profile) as dst:\n",
    "        dst.write(filled_data, 1)\n",
    "    \n",
    "    print(f\"✅ Missing values filled. Saved as: {filled_dem_path}\")\n",
    "else:\n",
    "    print(\"✅ No missing values found — DEM is complete.\")\n"
   ]
  },
  {
   "cell_type": "code",
   "execution_count": 12,
   "id": "2f9e8376-4fc9-45d5-93a1-b30500f8bb67",
   "metadata": {},
   "outputs": [
    {
     "ename": "SyntaxError",
     "evalue": "unterminated string literal (detected at line 31) (138410276.py, line 31)",
     "output_type": "error",
     "traceback": [
      "\u001b[1;36m  Cell \u001b[1;32mIn[12], line 31\u001b[1;36m\u001b[0m\n\u001b[1;33m    return f\"{ns}{abs(lat):\u001b[0m\n\u001b[1;37m           ^\u001b[0m\n\u001b[1;31mSyntaxError\u001b[0m\u001b[1;31m:\u001b[0m unterminated string literal (detected at line 31)\n"
     ]
    }
   ],
   "source": [
    "import os, re, math\n",
    "import rasterio\n",
    "from pyproj import Transformer\n",
    "\n",
    "# ====== EDIT THESE ======\n",
    "lulc_file      = r\"C:\\Users\\Ankit\\OneDrive\\Desktop\\Datasets_Forest_fire\\lulc_maps_tif\\LULC_2015_clipped_30m.tif\"  # your LULC raster\n",
    "dem_tiles_dir  = r\"C:\\Users\\Ankit\\OneDrive\\Desktop\\Datasets_Forest_fire\\DEM_datasets\"       # folder with all .tif/.hgt tiles (NRSC + SRTM)\n",
    "merged_dem_file = r\"C:\\Users\\Ankit\\Downloads\\merged_DEM.tif\"             # optional: your merged DEM (used only for reporting)\n",
    "# ========================\n",
    "\n",
    "def to_wgs84_bounds(path):\n",
    "    \"\"\"Return (minlon, minlat, maxlon, maxlat) for a raster, reprojected to EPSG:4326.\"\"\"\n",
    "    with rasterio.open(path) as src:\n",
    "        minx, miny, maxx, maxy = src.bounds\n",
    "        src_crs = src.crs\n",
    "    if src_crs is None:\n",
    "        raise ValueError(f\"{path} has no CRS.\")\n",
    "    if str(src_crs).upper() in (\"EPSG:4326\", \"WGS84\", \"EPSG:4326+WGS84\"):\n",
    "        return (minx, miny, maxx, maxy)\n",
    "    tr = Transformer.from_crs(src_crs, \"EPSG:4326\", always_xy=True)\n",
    "    ll = tr.transform(minx, miny)\n",
    "    ur = tr.transform(maxx, maxy)\n",
    "    # ensure proper ordering\n",
    "    minlon, minlat = min(ll[0], ur[0]), min(ll[1], ur[1])\n",
    "    maxlon, maxlat = max(ll[0], ur[0]), max(ll[1], ur[1])\n",
    "    return (minlon, minlat, maxlon, maxlat)\n",
    "\n",
    "def code_from_latlon(lat, lon):\n",
    "    ns = \"N\" if lat >= 0 else \"S\"\n",
    "    ew = \"E\" if lon >= 0 else \"W\"\n",
    "    return f\"{ns}{abs(lat):\n"
   ]
  },
  {
   "cell_type": "code",
   "execution_count": 3,
   "id": "af79deb7-16f4-478b-9158-ef5091b0fea4",
   "metadata": {},
   "outputs": [],
   "source": [
    "import rasterio\n",
    "with open(r\"C:\\Users\\Ankit\\OneDrive\\Desktop\\Datasets_Forest_fire\\lulc_maps_tif\\LULC_2015_clipped_30m.tif\") as src:\n",
    "    ds = src.read"
   ]
  },
  {
   "cell_type": "code",
   "execution_count": 11,
   "id": "fac16540-d110-4ebe-bc9f-2dcc586cb2b2",
   "metadata": {},
   "outputs": [
    {
     "ename": "AttributeError",
     "evalue": "'builtin_function_or_method' object has no attribute 'show'",
     "output_type": "error",
     "traceback": [
      "\u001b[1;31m---------------------------------------------------------------------------\u001b[0m",
      "\u001b[1;31mAttributeError\u001b[0m                            Traceback (most recent call last)",
      "Cell \u001b[1;32mIn[11], line 1\u001b[0m\n\u001b[1;32m----> 1\u001b[0m \u001b[43mds\u001b[49m\u001b[38;5;241;43m.\u001b[39;49m\u001b[43mshow\u001b[49m()\n",
      "\u001b[1;31mAttributeError\u001b[0m: 'builtin_function_or_method' object has no attribute 'show'"
     ]
    }
   ],
   "source": [
    "ds"
   ]
  },
  {
   "cell_type": "code",
   "execution_count": null,
   "id": "74f113e0-67a3-42cb-97ac-e1ce9b3b37ce",
   "metadata": {},
   "outputs": [],
   "source": []
  },
  {
   "cell_type": "code",
   "execution_count": null,
   "id": "d0a5ecf8-0db2-445e-86bd-85c731f2d9fe",
   "metadata": {},
   "outputs": [],
   "source": []
  }
 ],
 "metadata": {
  "kernelspec": {
   "display_name": "Python 3 (ipykernel)",
   "language": "python",
   "name": "python3"
  },
  "language_info": {
   "codemirror_mode": {
    "name": "ipython",
    "version": 3
   },
   "file_extension": ".py",
   "mimetype": "text/x-python",
   "name": "python",
   "nbconvert_exporter": "python",
   "pygments_lexer": "ipython3",
   "version": "3.10.0"
  }
 },
 "nbformat": 4,
 "nbformat_minor": 5
}
