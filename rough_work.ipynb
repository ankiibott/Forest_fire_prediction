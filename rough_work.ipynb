{
 "cells": [
  {
   "cell_type": "code",
   "execution_count": 1,
   "id": "f318a3e7-fab4-41e5-be9f-c548f1730c03",
   "metadata": {},
   "outputs": [
    {
     "name": "stdout",
     "output_type": "stream",
     "text": [
      "CRS: EPSG:32644\n",
      "Bounding Box:\n",
      "  Min Lon: 108365.73527523666\n",
      "  Min Lat: 3152714.2869458776\n",
      "  Max Lon: 499835.73527523666\n",
      "  Max Lat: 3491954.2869458776\n",
      "Resolution (Lon, Lat): (30.0, 30.0)\n",
      "Pixel Dimensions: 13049 x 11308\n"
     ]
    }
   ],
   "source": [
    "import rasterio\n",
    "\n",
    "# Path to your clipped LULC file\n",
    "lulc_path = r\"C:\\Users\\Ankit\\OneDrive\\Desktop\\Datasets_Forest_fire\\lulc_maps_tif\\LULC_2015_clipped_30m.tif\"\n",
    "with rasterio.open(lulc_path) as src:\n",
    "    bounds = src.bounds\n",
    "    crs = src.crs\n",
    "    width = src.width\n",
    "    height = src.height\n",
    "    res = src.res\n",
    "\n",
    "print(\"CRS:\", crs)\n",
    "print(\"Bounding Box:\")\n",
    "print(f\"  Min Lon: {bounds.left}\")\n",
    "print(f\"  Min Lat: {bounds.bottom}\")\n",
    "print(f\"  Max Lon: {bounds.right}\")\n",
    "print(f\"  Max Lat: {bounds.top}\")\n",
    "print(\"Resolution (Lon, Lat):\", res)\n",
    "print(f\"Pixel Dimensions: {width} x {height}\")\n"
   ]
  },
  {
   "cell_type": "code",
   "execution_count": 2,
   "id": "3633ab26-9edd-4356-a0a0-343fa1de1fde",
   "metadata": {},
   "outputs": [
    {
     "name": "stdout",
     "output_type": "stream",
     "text": [
      "⚠ LULC coverage found in N31_E80 — DEM tile needed.\n"
     ]
    }
   ],
   "source": [
    "import rasterio\n",
    "from rasterio.windows import from_bounds\n",
    "\n",
    "# Path to your LULC file\n",
    "lulc_path = r\"C:\\Users\\Ankit\\OneDrive\\Desktop\\Datasets_Forest_fire\\lulc_maps_tif\\LULC_2015_clipped_30m.tif\"\n",
    "\n",
    "# Geographic bounds for N31_E80 tile\n",
    "# Covers 31°N to 32°N latitude and 80°E to 81°E longitude\n",
    "tile_min_lon, tile_min_lat = 80.0, 31.0\n",
    "tile_max_lon, tile_max_lat = 81.0, 32.0\n",
    "\n",
    "with rasterio.open(lulc_path) as src:\n",
    "    # Reproject bounds to LULC CRS if needed\n",
    "    if src.crs.to_string() != \"EPSG:4326\":\n",
    "        from pyproj import Transformer\n",
    "        transformer = Transformer.from_crs(\"EPSG:4326\", src.crs, always_xy=True)\n",
    "        tile_min_lon, tile_min_lat = transformer.transform(tile_min_lon, tile_min_lat)\n",
    "        tile_max_lon, tile_max_lat = transformer.transform(tile_max_lon, tile_max_lat)\n",
    "\n",
    "    # Clip window for the tile area\n",
    "    try:\n",
    "        window = from_bounds(tile_min_lon, tile_min_lat, tile_max_lon, tile_max_lat, src.transform)\n",
    "    except ValueError:\n",
    "        print(\"Tile is completely outside LULC raster.\")\n",
    "        exit()\n",
    "\n",
    "    # Read data for that window\n",
    "    data = src.read(1, window=window, masked=True)\n",
    "\n",
    "    # Check if there are any valid pixels (not nodata)\n",
    "    if data.mask.all():\n",
    "        print(\"✅ No LULC coverage in N31_E80 — safe to skip DEM tile.\")\n",
    "    else:\n",
    "        print(\"⚠ LULC coverage found in N31_E80 — DEM tile needed.\")\n"
   ]
  },
  {
   "cell_type": "code",
   "execution_count": 2,
   "id": "879589e5-7558-4fc8-a8f8-5f7783658077",
   "metadata": {
    "scrolled": true
   },
   "outputs": [
    {
     "ename": "TypeError",
     "evalue": "invalid dtype: dtype('>i2')",
     "output_type": "error",
     "traceback": [
      "\u001b[1;31m---------------------------------------------------------------------------\u001b[0m",
      "\u001b[1;31mTypeError\u001b[0m                                 Traceback (most recent call last)",
      "Cell \u001b[1;32mIn[2], line 24\u001b[0m\n\u001b[0;32m     21\u001b[0m transform \u001b[38;5;241m=\u001b[39m from_origin(lon, lat \u001b[38;5;241m+\u001b[39m \u001b[38;5;241m1\u001b[39m, \u001b[38;5;241m1\u001b[39m\u001b[38;5;241m/\u001b[39m\u001b[38;5;241m3600\u001b[39m, \u001b[38;5;241m1\u001b[39m\u001b[38;5;241m/\u001b[39m\u001b[38;5;241m3600\u001b[39m)  \u001b[38;5;66;03m# 1 arc-second resolution\u001b[39;00m\n\u001b[0;32m     23\u001b[0m \u001b[38;5;66;03m# Save as GeoTIFF\u001b[39;00m\n\u001b[1;32m---> 24\u001b[0m \u001b[38;5;28;01mwith\u001b[39;00m \u001b[43mrasterio\u001b[49m\u001b[38;5;241;43m.\u001b[39;49m\u001b[43mopen\u001b[49m\u001b[43m(\u001b[49m\n\u001b[0;32m     25\u001b[0m \u001b[43m    \u001b[49m\u001b[43moutput_tif\u001b[49m\u001b[43m,\u001b[49m\n\u001b[0;32m     26\u001b[0m \u001b[43m    \u001b[49m\u001b[38;5;124;43m'\u001b[39;49m\u001b[38;5;124;43mw\u001b[39;49m\u001b[38;5;124;43m'\u001b[39;49m\u001b[43m,\u001b[49m\n\u001b[0;32m     27\u001b[0m \u001b[43m    \u001b[49m\u001b[43mdriver\u001b[49m\u001b[38;5;241;43m=\u001b[39;49m\u001b[38;5;124;43m'\u001b[39;49m\u001b[38;5;124;43mGTiff\u001b[39;49m\u001b[38;5;124;43m'\u001b[39;49m\u001b[43m,\u001b[49m\n\u001b[0;32m     28\u001b[0m \u001b[43m    \u001b[49m\u001b[43mheight\u001b[49m\u001b[38;5;241;43m=\u001b[39;49m\u001b[43melevations\u001b[49m\u001b[38;5;241;43m.\u001b[39;49m\u001b[43mshape\u001b[49m\u001b[43m[\u001b[49m\u001b[38;5;241;43m0\u001b[39;49m\u001b[43m]\u001b[49m\u001b[43m,\u001b[49m\n\u001b[0;32m     29\u001b[0m \u001b[43m    \u001b[49m\u001b[43mwidth\u001b[49m\u001b[38;5;241;43m=\u001b[39;49m\u001b[43melevations\u001b[49m\u001b[38;5;241;43m.\u001b[39;49m\u001b[43mshape\u001b[49m\u001b[43m[\u001b[49m\u001b[38;5;241;43m1\u001b[39;49m\u001b[43m]\u001b[49m\u001b[43m,\u001b[49m\n\u001b[0;32m     30\u001b[0m \u001b[43m    \u001b[49m\u001b[43mcount\u001b[49m\u001b[38;5;241;43m=\u001b[39;49m\u001b[38;5;241;43m1\u001b[39;49m\u001b[43m,\u001b[49m\n\u001b[0;32m     31\u001b[0m \u001b[43m    \u001b[49m\u001b[43mdtype\u001b[49m\u001b[38;5;241;43m=\u001b[39;49m\u001b[43melevations\u001b[49m\u001b[38;5;241;43m.\u001b[39;49m\u001b[43mdtype\u001b[49m\u001b[43m,\u001b[49m\n\u001b[0;32m     32\u001b[0m \u001b[43m    \u001b[49m\u001b[43mcrs\u001b[49m\u001b[38;5;241;43m=\u001b[39;49m\u001b[38;5;124;43m'\u001b[39;49m\u001b[38;5;124;43mEPSG:4326\u001b[39;49m\u001b[38;5;124;43m'\u001b[39;49m\u001b[43m,\u001b[49m\n\u001b[0;32m     33\u001b[0m \u001b[43m    \u001b[49m\u001b[43mtransform\u001b[49m\u001b[38;5;241;43m=\u001b[39;49m\u001b[43mtransform\u001b[49m\n\u001b[0;32m     34\u001b[0m \u001b[43m)\u001b[49m \u001b[38;5;28;01mas\u001b[39;00m dst:\n\u001b[0;32m     35\u001b[0m     dst\u001b[38;5;241m.\u001b[39mwrite(elevations, \u001b[38;5;241m1\u001b[39m)\n\u001b[0;32m     37\u001b[0m \u001b[38;5;28mprint\u001b[39m(\u001b[38;5;124mf\u001b[39m\u001b[38;5;124m\"\u001b[39m\u001b[38;5;124m✅ Converted \u001b[39m\u001b[38;5;132;01m{\u001b[39;00mhgt_file\u001b[38;5;132;01m}\u001b[39;00m\u001b[38;5;124m to \u001b[39m\u001b[38;5;132;01m{\u001b[39;00moutput_tif\u001b[38;5;132;01m}\u001b[39;00m\u001b[38;5;124m\"\u001b[39m)\n",
      "File \u001b[1;32m~\\AppData\\Local\\Programs\\Python\\Python310\\lib\\site-packages\\rasterio\\env.py:463\u001b[0m, in \u001b[0;36mensure_env_with_credentials.<locals>.wrapper\u001b[1;34m(*args, **kwds)\u001b[0m\n\u001b[0;32m    460\u001b[0m     session \u001b[38;5;241m=\u001b[39m DummySession()\n\u001b[0;32m    462\u001b[0m \u001b[38;5;28;01mwith\u001b[39;00m env_ctor(session\u001b[38;5;241m=\u001b[39msession):\n\u001b[1;32m--> 463\u001b[0m     \u001b[38;5;28;01mreturn\u001b[39;00m f(\u001b[38;5;241m*\u001b[39margs, \u001b[38;5;241m*\u001b[39m\u001b[38;5;241m*\u001b[39mkwds)\n",
      "File \u001b[1;32m~\\AppData\\Local\\Programs\\Python\\Python310\\lib\\site-packages\\rasterio\\__init__.py:266\u001b[0m, in \u001b[0;36mopen\u001b[1;34m(fp, mode, driver, width, height, count, crs, transform, dtype, nodata, sharing, opener, **kwargs)\u001b[0m\n\u001b[0;32m    264\u001b[0m     \u001b[38;5;28;01mraise\u001b[39;00m \u001b[38;5;167;01mTypeError\u001b[39;00m(\u001b[38;5;124mf\u001b[39m\u001b[38;5;124m\"\u001b[39m\u001b[38;5;124minvalid driver: \u001b[39m\u001b[38;5;132;01m{\u001b[39;00mdriver\u001b[38;5;132;01m!r}\u001b[39;00m\u001b[38;5;124m\"\u001b[39m)\n\u001b[0;32m    265\u001b[0m \u001b[38;5;28;01mif\u001b[39;00m dtype \u001b[38;5;129;01mand\u001b[39;00m \u001b[38;5;129;01mnot\u001b[39;00m check_dtype(dtype):\n\u001b[1;32m--> 266\u001b[0m     \u001b[38;5;28;01mraise\u001b[39;00m \u001b[38;5;167;01mTypeError\u001b[39;00m(\u001b[38;5;124mf\u001b[39m\u001b[38;5;124m\"\u001b[39m\u001b[38;5;124minvalid dtype: \u001b[39m\u001b[38;5;132;01m{\u001b[39;00mdtype\u001b[38;5;132;01m!r}\u001b[39;00m\u001b[38;5;124m\"\u001b[39m)\n\u001b[0;32m    267\u001b[0m \u001b[38;5;28;01mif\u001b[39;00m nodata \u001b[38;5;129;01mis\u001b[39;00m \u001b[38;5;129;01mnot\u001b[39;00m \u001b[38;5;28;01mNone\u001b[39;00m:\n\u001b[0;32m    268\u001b[0m     nodata \u001b[38;5;241m=\u001b[39m \u001b[38;5;28mfloat\u001b[39m(nodata)\n",
      "\u001b[1;31mTypeError\u001b[0m: invalid dtype: dtype('>i2')"
     ]
    }
   ],
   "source": [
    "import rasterio\n",
    "from rasterio.transform import from_origin\n",
    "import numpy as np\n",
    "\n",
    "# Input .hgt file\n",
    "hgt_file = r\"C:\\Users\\Ankit\\Downloads\\N31E081.SRTMGL1.hgt\\N31E081.hgt\"\n",
    "output_tif = r\"C:\\Users\\Ankit\\OneDrive\\Desktop\\Datasets_Forest_fire\\DEM_datasets\\N31E080.tif\"\n",
    "\n",
    "# Known lat/lon for this tile\n",
    "lat = 31\n",
    "lon = 80\n",
    "\n",
    "# SRTM tiles are 3601x3601 with 1 arc-second resolution (~30m)\n",
    "size = 3601\n",
    "\n",
    "# Read binary elevation data\n",
    "with open(hgt_file, \"rb\") as f:\n",
    "    elevations = np.fromfile(f, np.dtype('>i2'), size * size).reshape((size, size))\n",
    "\n",
    "# Transform for GeoTIFF\n",
    "transform = from_origin(lon, lat + 1, 1/3600, 1/3600)  # 1 arc-second resolution\n",
    "\n",
    "# Save as GeoTIFF\n",
    "with rasterio.open(\n",
    "    output_tif,\n",
    "    'w',\n",
    "    driver='GTiff',\n",
    "    height=elevations.shape[0],\n",
    "    width=elevations.shape[1],\n",
    "    count=1,\n",
    "    dtype=elevations.dtype,\n",
    "    crs='EPSG:4326',\n",
    "    transform=transform\n",
    ") as dst:\n",
    "    dst.write(elevations, 1)\n",
    "\n",
    "print(f\"✅ Converted {hgt_file} to {output_tif}\")"
   ]
  },
  {
   "cell_type": "code",
   "execution_count": 3,
   "id": "2520806e-3eca-4eff-965e-16337a3bea21",
   "metadata": {},
   "outputs": [
    {
     "name": "stdout",
     "output_type": "stream",
     "text": [
      "✅ Converted C:\\Users\\Ankit\\Downloads\\N31E081.SRTMGL1.hgt\\N31E081.hgt to C:\\Users\\Ankit\\OneDrive\\Desktop\\Datasets_Forest_fire\\DEM_datasets\\N31E080.tif\n"
     ]
    }
   ],
   "source": [
    "import rasterio\n",
    "from rasterio.transform import from_origin\n",
    "import numpy as np\n",
    "\n",
    "# Input .hgt file\n",
    "hgt_file = r\"C:\\Users\\Ankit\\Downloads\\N31E081.SRTMGL1.hgt\\N31E081.hgt\"\n",
    "output_tif = r\"C:\\Users\\Ankit\\OneDrive\\Desktop\\Datasets_Forest_fire\\DEM_datasets\\N31E080.tif\"\n",
    "\n",
    "\n",
    "# Known lat/lon for this tile\n",
    "lat = 31\n",
    "lon = 80\n",
    "\n",
    "# SRTM tiles are 3601x3601 with 1 arc-second resolution (~30m)\n",
    "size = 3601\n",
    "\n",
    "# Read binary elevation data (big-endian) and convert to native endianness\n",
    "with open(hgt_file, \"rb\") as f:\n",
    "    elevations = np.fromfile(f, np.dtype('>i2'), size * size).reshape((size, size)).astype(np.int16)\n",
    "\n",
    "# Transform for GeoTIFF\n",
    "transform = from_origin(lon, lat + 1, 1/3600, 1/3600)  # 1 arc-second resolution\n",
    "\n",
    "# Save as GeoTIFF\n",
    "with rasterio.open(\n",
    "    output_tif,\n",
    "    'w',\n",
    "    driver='GTiff',\n",
    "    height=elevations.shape[0],\n",
    "    width=elevations.shape[1],\n",
    "    count=1,\n",
    "    dtype='int16',  # native dtype string\n",
    "    crs='EPSG:4326',\n",
    "    transform=transform\n",
    ") as dst:\n",
    "    dst.write(elevations, 1)\n",
    "\n",
    "print(f\"✅ Converted {hgt_file} to {output_tif}\")\n"
   ]
  },
  {
   "cell_type": "code",
   "execution_count": null,
   "id": "ac77a6e9-980c-4d98-9076-6a00d722eedd",
   "metadata": {},
   "outputs": [],
   "source": []
  }
 ],
 "metadata": {
  "kernelspec": {
   "display_name": "Python 3 (ipykernel)",
   "language": "python",
   "name": "python3"
  },
  "language_info": {
   "codemirror_mode": {
    "name": "ipython",
    "version": 3
   },
   "file_extension": ".py",
   "mimetype": "text/x-python",
   "name": "python",
   "nbconvert_exporter": "python",
   "pygments_lexer": "ipython3",
   "version": "3.10.0"
  }
 },
 "nbformat": 4,
 "nbformat_minor": 5
}
