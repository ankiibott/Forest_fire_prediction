{
 "cells": [
  {
   "cell_type": "code",
   "execution_count": 1,
   "id": "0ea4c317-ab6b-472f-b81b-2952015865c1",
   "metadata": {},
   "outputs": [
    {
     "name": "stdout",
     "output_type": "stream",
     "text": [
      "DEM NoData value: 255.0\n"
     ]
    },
    {
     "ename": "IndexError",
     "evalue": "boolean index did not match indexed array along dimension 0; dimension is 2 but corresponding boolean dimension is 11904",
     "output_type": "error",
     "traceback": [
      "\u001b[1;31m---------------------------------------------------------------------------\u001b[0m",
      "\u001b[1;31mIndexError\u001b[0m                                Traceback (most recent call last)",
      "Cell \u001b[1;32mIn[1], line 50\u001b[0m\n\u001b[0;32m     48\u001b[0m dem_file \u001b[38;5;241m=\u001b[39m \u001b[38;5;124mr\u001b[39m\u001b[38;5;124m\"\u001b[39m\u001b[38;5;124mC:\u001b[39m\u001b[38;5;124m\\\u001b[39m\u001b[38;5;124mUsers\u001b[39m\u001b[38;5;124m\\\u001b[39m\u001b[38;5;124mAnkit\u001b[39m\u001b[38;5;124m\\\u001b[39m\u001b[38;5;124mOneDrive\u001b[39m\u001b[38;5;124m\\\u001b[39m\u001b[38;5;124mDesktop\u001b[39m\u001b[38;5;124m\\\u001b[39m\u001b[38;5;124mmerged_DEM_30m_32644_aligned.tif\u001b[39m\u001b[38;5;124m\"\u001b[39m\n\u001b[0;32m     49\u001b[0m output_file \u001b[38;5;241m=\u001b[39m dem_file\u001b[38;5;241m.\u001b[39mreplace(\u001b[38;5;124m\"\u001b[39m\u001b[38;5;124m.tif\u001b[39m\u001b[38;5;124m\"\u001b[39m, \u001b[38;5;124m\"\u001b[39m\u001b[38;5;124m_filled.tif\u001b[39m\u001b[38;5;124m\"\u001b[39m)\n\u001b[1;32m---> 50\u001b[0m \u001b[43mfill_nodata_dem\u001b[49m\u001b[43m(\u001b[49m\u001b[43mdem_file\u001b[49m\u001b[43m,\u001b[49m\u001b[43m \u001b[49m\u001b[43moutput_file\u001b[49m\u001b[43m)\u001b[49m\n",
      "Cell \u001b[1;32mIn[1], line 35\u001b[0m, in \u001b[0;36mfill_nodata_dem\u001b[1;34m(dem_path, output_path)\u001b[0m\n\u001b[0;32m     29\u001b[0m \u001b[38;5;28;01mif\u001b[39;00m np\u001b[38;5;241m.\u001b[39many(nan_mask):\n\u001b[0;32m     30\u001b[0m     \u001b[38;5;66;03m# Find nearest neighbor indices\u001b[39;00m\n\u001b[0;32m     31\u001b[0m     nearest_x, nearest_y \u001b[38;5;241m=\u001b[39m ndimage\u001b[38;5;241m.\u001b[39mdistance_transform_edt(\n\u001b[0;32m     32\u001b[0m         nan_mask,\n\u001b[0;32m     33\u001b[0m         return_indices\u001b[38;5;241m=\u001b[39m\u001b[38;5;28;01mTrue\u001b[39;00m\n\u001b[0;32m     34\u001b[0m     )\n\u001b[1;32m---> 35\u001b[0m     filled[nan_mask] \u001b[38;5;241m=\u001b[39m filled[nearest_x[nan_mask], \u001b[43mnearest_y\u001b[49m\u001b[43m[\u001b[49m\u001b[43mnan_mask\u001b[49m\u001b[43m]\u001b[49m]\n\u001b[0;32m     37\u001b[0m \u001b[38;5;66;03m# Update metadata\u001b[39;00m\n\u001b[0;32m     38\u001b[0m profile\u001b[38;5;241m.\u001b[39mupdate(dtype\u001b[38;5;241m=\u001b[39mrasterio\u001b[38;5;241m.\u001b[39mfloat32, nodata\u001b[38;5;241m=\u001b[39m\u001b[38;5;28;01mNone\u001b[39;00m)\n",
      "\u001b[1;31mIndexError\u001b[0m: boolean index did not match indexed array along dimension 0; dimension is 2 but corresponding boolean dimension is 11904"
     ]
    }
   ],
   "source": [
    "import rasterio\n",
    "import numpy as np\n",
    "from scipy import ndimage\n",
    "\n",
    "def fill_nodata_dem(dem_path, output_path):\n",
    "    # Open DEM\n",
    "    with rasterio.open(dem_path) as src:\n",
    "        dem = src.read(1).astype(float)\n",
    "        nodata = src.nodata\n",
    "        profile = src.profile\n",
    "\n",
    "    print(f\"DEM NoData value: {nodata}\")\n",
    "\n",
    "    # Mask missing values\n",
    "    if nodata is not None:\n",
    "        mask = (dem == nodata)\n",
    "    else:\n",
    "        mask = np.isnan(dem)\n",
    "\n",
    "    # Replace nodata with NaN for safe interpolation\n",
    "    dem[mask] = np.nan\n",
    "\n",
    "    # --- Interpolation using nearest valid neighbor (bilinear-like smoothing) ---\n",
    "    # Create indices of nearest valid pixels\n",
    "    filled = dem.copy()\n",
    "    nan_mask = np.isnan(filled)\n",
    "\n",
    "    # If there are still NaNs, fill them\n",
    "    if np.any(nan_mask):\n",
    "        # Find nearest neighbor indices\n",
    "        nearest_x, nearest_y = ndimage.distance_transform_edt(\n",
    "            nan_mask,\n",
    "            return_indices=True\n",
    "        )\n",
    "        filled[nan_mask] = filled[nearest_x[nan_mask], nearest_y[nan_mask]]\n",
    "\n",
    "    # Update metadata\n",
    "    profile.update(dtype=rasterio.float32, nodata=None)\n",
    "\n",
    "    # Save filled DEM\n",
    "    with rasterio.open(output_path, \"w\", **profile) as dst:\n",
    "        dst.write(filled.astype(np.float32), 1)\n",
    "\n",
    "    print(f\"✅ Missing values filled and saved at: {output_path}\")\n",
    "\n",
    "\n",
    "# Example usage\n",
    "dem_file = r\"C:\\Users\\Ankit\\OneDrive\\Desktop\\merged_DEM_30m_32644_aligned.tif\"\n",
    "output_file = dem_file.replace(\".tif\", \"_filled.tif\")\n",
    "fill_nodata_dem(dem_file, output_file)\n"
   ]
  },
  {
   "cell_type": "code",
   "execution_count": null,
   "id": "79484f31-9506-4181-ac9b-c450e28d671b",
   "metadata": {},
   "outputs": [],
   "source": []
  }
 ],
 "metadata": {
  "kernelspec": {
   "display_name": "Python 3 (ipykernel)",
   "language": "python",
   "name": "python3"
  },
  "language_info": {
   "codemirror_mode": {
    "name": "ipython",
    "version": 3
   },
   "file_extension": ".py",
   "mimetype": "text/x-python",
   "name": "python",
   "nbconvert_exporter": "python",
   "pygments_lexer": "ipython3",
   "version": "3.10.0"
  }
 },
 "nbformat": 4,
 "nbformat_minor": 5
}
