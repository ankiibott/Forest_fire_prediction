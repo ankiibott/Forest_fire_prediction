{
 "cells": [
  {
   "cell_type": "code",
   "execution_count": 1,
   "id": "1e0cb92a-94f1-48aa-900d-2a4e5fe7614e",
   "metadata": {},
   "outputs": [],
   "source": [
    "import rasterio\n",
    "import numpy as np\n",
    "from rasterio.warp import calculate_default_transform, reproject, Resampling"
   ]
  },
  {
   "cell_type": "code",
   "execution_count": 2,
   "id": "d58b6367-b497-4b69-a988-649898030f66",
   "metadata": {},
   "outputs": [],
   "source": [
    "import rasterio\n",
    "import numpy as np\n",
    "from rasterio.warp import calculate_default_transform, reproject, Resampling\n",
    "\n",
    "def resample_to_dem(era5_path, dem_path, out_path):\n",
    "    # Open DEM as reference (30m, EPSG:32644)\n",
    "    with rasterio.open(dem_path) as dem_src:\n",
    "        dst_transform = dem_src.transform\n",
    "        dst_crs = dem_src.crs\n",
    "        dst_height = dem_src.height\n",
    "        dst_width = dem_src.width\n",
    "\n",
    "    # Open ERA5\n",
    "    with rasterio.open(era5_path) as src:\n",
    "        src_data = src.read(1)  # read first band\n",
    "        src_transform = src.transform\n",
    "        src_crs = src.crs\n",
    "\n",
    "        # Output array\n",
    "        dst_data = np.empty((dst_height, dst_width), dtype=np.float32)\n",
    "\n",
    "        # Reproject to DEM grid\n",
    "        reproject(\n",
    "            source=src_data,\n",
    "            destination=dst_data,\n",
    "            src_transform=src_transform,\n",
    "            src_crs=src_crs,\n",
    "            dst_transform=dst_transform,\n",
    "            dst_crs=dst_crs,\n",
    "            resampling=Resampling.bilinear  # or nearest for categorical\n",
    "        )\n",
    "\n",
    "    # Save reprojected raster\n",
    "    with rasterio.open(\n",
    "        out_path,\n",
    "        \"w\",\n",
    "        driver=\"GTiff\",\n",
    "        height=dst_height,\n",
    "        width=dst_width,\n",
    "        count=1,\n",
    "        dtype=dst_data.dtype,\n",
    "        crs=dst_crs,\n",
    "        transform=dst_transform,\n",
    "    ) as dst:\n",
    "        dst.write(dst_data, 1)"
   ]
  },
  {
   "cell_type": "code",
   "execution_count": 3,
   "id": "33897311-f2ef-485e-b4dd-fcd6c2f19c8f",
   "metadata": {},
   "outputs": [],
   "source": [
    "era5_file = r\"C:\\Users\\Ankit\\Datasets_Forest_fire\\ERA5_fast_tif_stacks\\ERA5_d2m_2015_2016_stack.tif\"\n",
    "dem_file  = r\"C:\\Users\\Ankit\\Datasets_Forest_fire\\merged_DEM_30m_32644_aligned_filled.tif\"\n",
    "out_file  = r\"C:\\Users\\Ankit\\Datasets_Forest_fire\\ERA5_d2m_resampled_30m.tif\"\n",
    "\n",
    "resample_to_dem(era5_file, dem_file, out_file)"
   ]
  },
  {
   "cell_type": "code",
   "execution_count": 4,
   "id": "925dc7a3-8137-4d81-b802-fa856c95b246",
   "metadata": {},
   "outputs": [],
   "source": [
    "era5_file = r\"C:\\Users\\Ankit\\Datasets_Forest_fire\\ERA5_fast_tif_stacks\\ERA5_t2m_2015_2016_stack.tif\"\n",
    "dem_file  = r\"C:\\Users\\Ankit\\Datasets_Forest_fire\\merged_DEM_30m_32644_aligned_filled.tif\"\n",
    "out_file  = r\"C:\\Users\\Ankit\\Datasets_Forest_fire\\ERA5_t2m_resampled_30m.tif\"\n",
    "\n",
    "resample_to_dem(era5_file, dem_file, out_file)"
   ]
  },
  {
   "cell_type": "code",
   "execution_count": 5,
   "id": "c9f66a8b-9390-43a0-ace5-c272462bce83",
   "metadata": {},
   "outputs": [],
   "source": [
    "era5_file = r\"C:\\Users\\Ankit\\Datasets_Forest_fire\\ERA5_fast_tif_stacks\\ERA5_tp_2015_2016_stack.tif\"\n",
    "dem_file  = r\"C:\\Users\\Ankit\\Datasets_Forest_fire\\merged_DEM_30m_32644_aligned_filled.tif\"\n",
    "out_file  = r\"C:\\Users\\Ankit\\Datasets_Forest_fire\\ERA5_tp_resampled_30m.tif\"\n",
    "\n",
    "resample_to_dem(era5_file, dem_file, out_file)"
   ]
  },
  {
   "cell_type": "code",
   "execution_count": 6,
   "id": "640509a3-99e8-486a-b71b-f600a73dfdf7",
   "metadata": {},
   "outputs": [],
   "source": [
    "era5_file = r\"C:\\Users\\Ankit\\Datasets_Forest_fire\\ERA5_fast_tif_stacks\\ERA5_u10_2015_2016_stack.tif\"\n",
    "dem_file  = r\"C:\\Users\\Ankit\\Datasets_Forest_fire\\merged_DEM_30m_32644_aligned_filled.tif\"\n",
    "out_file  = r\"C:\\Users\\Ankit\\Datasets_Forest_fire\\ERA5_u10_resampled_30m.tif\"\n",
    "\n",
    "resample_to_dem(era5_file, dem_file, out_file)"
   ]
  },
  {
   "cell_type": "code",
   "execution_count": 7,
   "id": "672d9258-1db6-4899-aedc-e873e53bd575",
   "metadata": {},
   "outputs": [],
   "source": [
    "era5_file = r\"C:\\Users\\Ankit\\Datasets_Forest_fire\\ERA5_fast_tif_stacks\\ERA5_v10_2015_2016_stack.tif\"\n",
    "dem_file  = r\"C:\\Users\\Ankit\\Datasets_Forest_fire\\merged_DEM_30m_32644_aligned_filled.tif\"\n",
    "out_file  = r\"C:\\Users\\Ankit\\Datasets_Forest_fire\\ERA5_v10_resampled_30m.tif\"\n",
    "\n",
    "resample_to_dem(era5_file, dem_file, out_file)"
   ]
  },
  {
   "cell_type": "code",
   "execution_count": null,
   "id": "61408730-76e1-47e7-8210-ffe60cdbb70a",
   "metadata": {},
   "outputs": [],
   "source": []
  }
 ],
 "metadata": {
  "kernelspec": {
   "display_name": "Python 3 (ipykernel)",
   "language": "python",
   "name": "python3"
  },
  "language_info": {
   "codemirror_mode": {
    "name": "ipython",
    "version": 3
   },
   "file_extension": ".py",
   "mimetype": "text/x-python",
   "name": "python",
   "nbconvert_exporter": "python",
   "pygments_lexer": "ipython3",
   "version": "3.10.0"
  }
 },
 "nbformat": 4,
 "nbformat_minor": 5
}
