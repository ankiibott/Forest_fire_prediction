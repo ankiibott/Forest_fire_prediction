{
 "cells": [
  {
   "cell_type": "code",
   "execution_count": 4,
   "id": "2c4fa911-4aa3-4242-aeae-1d56fcdcae7e",
   "metadata": {},
   "outputs": [
    {
     "name": "stdout",
     "output_type": "stream",
     "text": [
      "File: C:\\Users\\Ankit\\OneDrive\\Desktop\\Datasets_Forest_fire\\compressed_cleaned_era5_2015_2016.nc\n",
      "Variable: t2m\n",
      "Latitude spacing: 0.250000 degrees\n",
      "Longitude spacing: 0.250000 degrees\n",
      "Approx pixel size: 27750.00 m (N-S), 24032.20 m (E-W)\n"
     ]
    }
   ],
   "source": [
    "import xarray as xr\n",
    "import numpy as np\n",
    "from pathlib import Path\n",
    "\n",
    "def check_nc_resolution(nc_path, var_name):\n",
    "    ds = xr.open_dataset(nc_path)\n",
    "    \n",
    "    # Find lat/lon variable names (works even if they are 'lat'/'lon')\n",
    "    lat_name = [name for name in ds.coords if 'lat' in name.lower()][0]\n",
    "    lon_name = [name for name in ds.coords if 'lon' in name.lower()][0]\n",
    "    \n",
    "    lat = ds[lat_name].values\n",
    "    lon = ds[lon_name].values\n",
    "    \n",
    "    # Handle descending latitudes\n",
    "    lat_res = np.abs(np.mean(np.diff(lat)))\n",
    "    lon_res = np.abs(np.mean(np.diff(lon)))\n",
    "    \n",
    "    print(f\"File: {nc_path}\")\n",
    "    print(f\"Variable: {var_name}\")\n",
    "    print(f\"Latitude spacing: {lat_res:.6f} degrees\")\n",
    "    print(f\"Longitude spacing: {lon_res:.6f} degrees\")\n",
    "    \n",
    "    lat_res_m = lat_res * 111_000  # m per degree latitude\n",
    "    lon_res_m = lon_res * 111_000 * np.cos(np.deg2rad(np.mean(lat)))\n",
    "    \n",
    "    print(f\"Approx pixel size: {lat_res_m:.2f} m (N-S), {lon_res_m:.2f} m (E-W)\")\n",
    "\n",
    "# Example usage\n",
    "era5_nc = Path(r\"C:\\Users\\Ankit\\OneDrive\\Desktop\\Datasets_Forest_fire\\compressed_cleaned_era5_2015_2016.nc\")\n",
    "check_nc_resolution(era5_nc, var_name='t2m')\n"
   ]
  },
  {
   "cell_type": "code",
   "execution_count": 7,
   "id": "8c4f9760-3bb1-4176-93c1-1a399b05457f",
   "metadata": {},
   "outputs": [
    {
     "name": "stdout",
     "output_type": "stream",
     "text": [
      "File: C:\\Users\\Ankit\\OneDrive\\Desktop\\Datasets_Forest_fire\\lulc_maps_tif\\LULC_2015_clipped.tif\n",
      "CRS: EPSG:4326\n",
      "Pixel size (width): 0.00416667 degrees\n",
      "Pixel size (height): 0.00416667 degrees\n"
     ]
    }
   ],
   "source": [
    "import rasterio\n",
    "from pathlib import Path\n",
    "\n",
    "def check_pixel_size_tif_precise(tif_path):\n",
    "    with rasterio.open(tif_path) as src:\n",
    "        transform = src.transform\n",
    "        pixel_width = transform.a\n",
    "        pixel_height = -transform.e  # make positive\n",
    "        crs = src.crs\n",
    "        \n",
    "        print(f\"File: {tif_path}\")\n",
    "        print(f\"CRS: {crs}\")\n",
    "        print(f\"Pixel size (width): {pixel_width:.8f} {'m' if crs.is_projected else 'degrees'}\")\n",
    "        print(f\"Pixel size (height): {pixel_height:.8f} {'m' if crs.is_projected else 'degrees'}\")\n",
    "\n",
    "# Example usage\n",
    "lulc_file = Path(r\"C:\\Users\\Ankit\\OneDrive\\Desktop\\Datasets_Forest_fire\\lulc_maps_tif\\LULC_2015_clipped.tif\")\n",
    "check_pixel_size_tif_precise(lulc_file)\n"
   ]
  },
  {
   "cell_type": "code",
   "execution_count": 9,
   "id": "8cc5aae2-b9cc-4619-99c2-ef5ca7893d1b",
   "metadata": {},
   "outputs": [
    {
     "name": "stdout",
     "output_type": "stream",
     "text": [
      "Original CRS: EPSG:4326\n",
      "Original resolution: (0.004166667, 0.004166667)\n",
      "Target UTM CRS: +proj=utm +zone=44 +datum=WGS84 +units=m +no_defs +type=crs\n",
      "Saved reprojected 30 m raster → C:\\Users\\Ankit\\OneDrive\\Desktop\\Datasets_Forest_fire\\lulc_maps_tif\\LULC_2015_clipped_30m.tif\n"
     ]
    }
   ],
   "source": [
    "import rasterio\n",
    "from rasterio.warp import calculate_default_transform, reproject, Resampling\n",
    "from pathlib import Path\n",
    "\n",
    "def reproject_resample_to_30m(input_path, output_path):\n",
    "    # Step 1: Open input file\n",
    "    with rasterio.open(input_path) as src:\n",
    "        print(f\"Original CRS: {src.crs}\")\n",
    "        print(f\"Original resolution: {src.res}\")\n",
    "\n",
    "        # Step 2: Choose a projected CRS (UTM based on center of dataset)\n",
    "        utm_crs = src.crs\n",
    "        if utm_crs.is_geographic:\n",
    "            # Auto-pick a UTM zone based on dataset center\n",
    "            from pyproj import CRS\n",
    "            lon, lat = src.xy(src.height // 2, src.width // 2)\n",
    "            utm_crs = CRS.from_user_input(f\"+proj=utm +zone={(int((lon + 180) / 6) % 60) + 1} +datum=WGS84 +units=m +no_defs\")\n",
    "            print(f\"Target UTM CRS: {utm_crs}\")\n",
    "\n",
    "        # Step 3: Calculate transform for 30 m resolution\n",
    "        transform, width, height = calculate_default_transform(\n",
    "            src.crs, utm_crs, src.width, src.height, *src.bounds, resolution=30\n",
    "        )\n",
    "\n",
    "        # Step 4: Define output profile\n",
    "        profile = src.profile.copy()\n",
    "        profile.update({\n",
    "            'crs': utm_crs,\n",
    "            'transform': transform,\n",
    "            'width': width,\n",
    "            'height': height\n",
    "        })\n",
    "\n",
    "        # Step 5: Reproject + resample\n",
    "        with rasterio.open(output_path, 'w', **profile) as dst:\n",
    "            for i in range(1, src.count + 1):\n",
    "                reproject(\n",
    "                    source=rasterio.band(src, i),\n",
    "                    destination=rasterio.band(dst, i),\n",
    "                    src_transform=src.transform,\n",
    "                    src_crs=src.crs,\n",
    "                    dst_transform=transform,\n",
    "                    dst_crs=utm_crs,\n",
    "                    resampling=Resampling.bilinear  # or nearest for categorical (like LULC)\n",
    "                )\n",
    "\n",
    "    print(f\"Saved reprojected 30 m raster → {output_path}\")\n",
    "\n",
    "# Example usage:\n",
    "input_file = Path(r\"C:\\Users\\Ankit\\OneDrive\\Desktop\\Datasets_Forest_fire\\lulc_maps_tif\\LULC_2015_clipped.tif\")  # Change path\n",
    "output_file = input_file.with_name(input_file.stem + \"_30m.tif\")\n",
    "reproject_resample_to_30m(input_file, output_file)\n"
   ]
  },
  {
   "cell_type": "code",
   "execution_count": 12,
   "id": "945ab047-fc9f-4448-8d98-b05bbf7c0ca9",
   "metadata": {},
   "outputs": [
    {
     "name": "stdout",
     "output_type": "stream",
     "text": [
      "CRS: EPSG:32644\n",
      "Resolution: (30.0, 30.0)\n"
     ]
    }
   ],
   "source": [
    "#checking\n",
    "import rasterio\n",
    "\n",
    "file_path = r\"C:\\Users\\Ankit\\OneDrive\\Desktop\\Datasets_Forest_fire\\lulc_maps_tif\\LULC_2015_clipped_30m.tif\"  # change path\n",
    "\n",
    "with rasterio.open(file_path) as src:\n",
    "    print(f\"CRS: {src.crs}\")\n",
    "    print(f\"Resolution: {src.res}\")  # (pixel_width, pixel_height)\n"
   ]
  },
  {
   "cell_type": "code",
   "execution_count": 13,
   "id": "f932c944-7520-4ef7-a9a4-84bdfed15bc9",
   "metadata": {},
   "outputs": [
    {
     "name": "stdout",
     "output_type": "stream",
     "text": [
      "Original CRS: EPSG:4326\n",
      "Original resolution: (0.004166667, 0.004166667)\n",
      "Target UTM CRS: +proj=utm +zone=44 +datum=WGS84 +units=m +no_defs +type=crs\n",
      "Saved reprojected 30 m raster → C:\\Users\\Ankit\\OneDrive\\Desktop\\Datasets_Forest_fire\\lulc_maps_tif\\LULC_2016_clipped_30m.tif\n"
     ]
    }
   ],
   "source": [
    "import rasterio\n",
    "from rasterio.warp import calculate_default_transform, reproject, Resampling\n",
    "from pathlib import Path\n",
    "\n",
    "def reproject_resample_to_30m(input_path, output_path):\n",
    "    # Step 1: Open input file\n",
    "    with rasterio.open(input_path) as src:\n",
    "        print(f\"Original CRS: {src.crs}\")\n",
    "        print(f\"Original resolution: {src.res}\")\n",
    "\n",
    "        # Step 2: Choose a projected CRS (UTM based on center of dataset)\n",
    "        utm_crs = src.crs\n",
    "        if utm_crs.is_geographic:\n",
    "            # Auto-pick a UTM zone based on dataset center\n",
    "            from pyproj import CRS\n",
    "            lon, lat = src.xy(src.height // 2, src.width // 2)\n",
    "            utm_crs = CRS.from_user_input(f\"+proj=utm +zone={(int((lon + 180) / 6) % 60) + 1} +datum=WGS84 +units=m +no_defs\")\n",
    "            print(f\"Target UTM CRS: {utm_crs}\")\n",
    "\n",
    "        # Step 3: Calculate transform for 30 m resolution\n",
    "        transform, width, height = calculate_default_transform(\n",
    "            src.crs, utm_crs, src.width, src.height, *src.bounds, resolution=30\n",
    "        )\n",
    "\n",
    "        # Step 4: Define output profile\n",
    "        profile = src.profile.copy()\n",
    "        profile.update({\n",
    "            'crs': utm_crs,\n",
    "            'transform': transform,\n",
    "            'width': width,\n",
    "            'height': height\n",
    "        })\n",
    "\n",
    "        # Step 5: Reproject + resample\n",
    "        with rasterio.open(output_path, 'w', **profile) as dst:\n",
    "            for i in range(1, src.count + 1):\n",
    "                reproject(\n",
    "                    source=rasterio.band(src, i),\n",
    "                    destination=rasterio.band(dst, i),\n",
    "                    src_transform=src.transform,\n",
    "                    src_crs=src.crs,\n",
    "                    dst_transform=transform,\n",
    "                    dst_crs=utm_crs,\n",
    "                    resampling=Resampling.bilinear  # or nearest for categorical (like LULC)\n",
    "                )\n",
    "\n",
    "    print(f\"Saved reprojected 30 m raster → {output_path}\")\n",
    "\n",
    "# Example usage:\n",
    "input_file = Path(r\"C:\\Users\\Ankit\\OneDrive\\Desktop\\Datasets_Forest_fire\\lulc_maps_tif\\LULC_2016_clipped.tif\")  # Change path\n",
    "output_file = input_file.with_name(input_file.stem + \"_30m.tif\")\n",
    "reproject_resample_to_30m(input_file, output_file)\n"
   ]
  },
  {
   "cell_type": "code",
   "execution_count": 14,
   "id": "7c0be774-4127-4d81-9956-66395455450d",
   "metadata": {},
   "outputs": [
    {
     "name": "stdout",
     "output_type": "stream",
     "text": [
      "CRS: EPSG:32644\n",
      "Resolution: (30.0, 30.0)\n"
     ]
    }
   ],
   "source": [
    "#checking\n",
    "import rasterio\n",
    "\n",
    "file_path = r\"C:\\Users\\Ankit\\OneDrive\\Desktop\\Datasets_Forest_fire\\lulc_maps_tif\\LULC_2016_clipped_30m.tif\"  # change path\n",
    "\n",
    "with rasterio.open(file_path) as src:\n",
    "    print(f\"CRS: {src.crs}\")\n",
    "    print(f\"Resolution: {src.res}\")  # (pixel_width, pixel_height)"
   ]
  },
  {
   "cell_type": "code",
   "execution_count": 2,
   "id": "dd2f0f41-ee4b-49e4-b7a9-abbb55f1001b",
   "metadata": {},
   "outputs": [
    {
     "name": "stdout",
     "output_type": "stream",
     "text": [
      "✅ LULC resampled with majority (mode) → C:\\Users\\Ankit\\Datasets_Forest_fire\\LULC_2015_resampled_to_ERA5.tif\n"
     ]
    }
   ],
   "source": [
    "import rasterio\n",
    "from rasterio.warp import reproject, Resampling\n",
    "import numpy as np\n",
    "\n",
    "lulc_in = r\"C:\\Users\\Ankit\\Datasets_Forest_fire\\lulc_maps_tif\\LULC_2015_clipped_30m_filled_categorical.tif\"\n",
    "era5_ref = r\"C:\\Users\\Ankit\\Datasets_Forest_fire\\ERA5_fast_tif_stacks\\ERA5_t2m_2015_2016_stack.tif\"\n",
    "lulc_out = r\"C:\\Users\\Ankit\\Datasets_Forest_fire\\LULC_2015_resampled_to_ERA5.tif\"\n",
    "\n",
    "with rasterio.open(era5_ref) as ref:\n",
    "    ref_profile = ref.profile\n",
    "    ref_transform = ref.transform\n",
    "    ref_crs = ref.crs\n",
    "    ref_height, ref_width = ref.height, ref.width\n",
    "\n",
    "with rasterio.open(lulc_in) as src:\n",
    "    data = src.read(1)\n",
    "    dst = np.empty((ref_height, ref_width), dtype=data.dtype)\n",
    "\n",
    "    reproject(\n",
    "        source=data,\n",
    "        destination=dst,\n",
    "        src_transform=src.transform,\n",
    "        src_crs=src.crs,\n",
    "        dst_transform=ref_transform,\n",
    "        dst_crs=ref_crs,\n",
    "        resampling=Resampling.mode   # <-- majority vote for categorical\n",
    "    )\n",
    "\n",
    "    profile = ref_profile.copy()\n",
    "    profile.update(count=1, dtype=dst.dtype)\n",
    "\n",
    "    with rasterio.open(lulc_out, \"w\", **profile) as out_ds:\n",
    "        out_ds.write(dst, 1)\n",
    "\n",
    "print(\"✅ LULC resampled with majority (mode) →\", lulc_out)\n"
   ]
  },
  {
   "cell_type": "code",
   "execution_count": 5,
   "id": "08a13fb0-c08d-4cec-a2dd-d2ad4ad21fd6",
   "metadata": {},
   "outputs": [
    {
     "name": "stdout",
     "output_type": "stream",
     "text": [
      "Size: 17 x 13\n",
      "Bands: 1\n",
      "Unique values: [0 1]\n"
     ]
    }
   ],
   "source": [
    "import rasterio\n",
    "import numpy as np\n",
    "\n",
    "lulc_file = r\"C:\\Users\\Ankit\\Datasets_Forest_fire\\LULC_2015_resampled_to_ERA5.tif\"\n",
    "\n",
    "with rasterio.open(lulc_file) as src:\n",
    "    print(\"Size:\", src.width, \"x\", src.height)\n",
    "    print(\"Bands:\", src.count)\n",
    "    data = src.read(1)\n",
    "    unique_vals = np.unique(data)\n",
    "    print(\"Unique values:\", unique_vals[:20])  # safe slicing\n"
   ]
  },
  {
   "cell_type": "code",
   "execution_count": 7,
   "id": "bd8809f3-a95c-4b12-8e51-f686b729a999",
   "metadata": {},
   "outputs": [
    {
     "name": "stdout",
     "output_type": "stream",
     "text": [
      "✅ LULC resampled to ERA5 grid: C:\\Users\\Ankit\\Datasets_Forest_fire\\LULC_2015_resampled_to_ERA5.tif\n",
      "Resampled size: (13, 17)\n",
      "Unique values in resampled LULC: [  1   2  11  12  15  16  21  22  31  32 255]\n"
     ]
    }
   ],
   "source": [
    "import numpy as np\n",
    "import rasterio\n",
    "from rasterio.warp import reproject, Resampling\n",
    "\n",
    "# Input files\n",
    "era5_ref = r\"C:\\Users\\Ankit\\Datasets_Forest_fire\\ERA5_fast_tif_stacks\\ERA5_t2m_2015_2016_stack.tif\"\n",
    "lulc_in  = r\"C:\\Users\\Ankit\\Datasets_Forest_fire\\lulc_maps_tif\\LULC_2015_clipped.tif\"\n",
    "lulc_out = r\"C:\\Users\\Ankit\\Datasets_Forest_fire\\LULC_2015_resampled_to_ERA5.tif\"\n",
    "\n",
    "# Open ERA5 to use as template\n",
    "with rasterio.open(era5_ref) as ref:\n",
    "    ref_profile = ref.profile\n",
    "    ref_transform = ref.transform\n",
    "    ref_crs = ref.crs\n",
    "    ref_h, ref_w = ref.height, ref.width\n",
    "\n",
    "# Open LULC and resample to ERA5 grid\n",
    "with rasterio.open(lulc_in) as src:\n",
    "    src_data = src.read(1)\n",
    "    src_nodata = src.nodata if src.nodata is not None else 255  # assume 255 = nodata for LULC\n",
    "\n",
    "    # Destination grid\n",
    "    dst = np.full((ref_h, ref_w), src_nodata, dtype=src_data.dtype)\n",
    "\n",
    "    # Resample with nearest neighbour (safe for categorical)\n",
    "    reproject(\n",
    "        source=src_data,\n",
    "        destination=dst,\n",
    "        src_transform=src.transform,\n",
    "        src_crs=src.crs,\n",
    "        dst_transform=ref_transform,\n",
    "        dst_crs=ref_crs,\n",
    "        src_nodata=src_nodata,\n",
    "        dst_nodata=src_nodata,\n",
    "        resampling=Resampling.nearest\n",
    "    )\n",
    "\n",
    "    # Save output aligned with ERA5\n",
    "    profile = ref_profile.copy()\n",
    "    profile.update(count=1, dtype=dst.dtype, nodata=src_nodata)\n",
    "    with rasterio.open(lulc_out, \"w\", **profile) as dst_ds:\n",
    "        dst_ds.write(dst, 1)\n",
    "\n",
    "print(\"✅ LULC resampled to ERA5 grid:\", lulc_out)\n",
    "\n",
    "# Check result\n",
    "with rasterio.open(lulc_out) as check:\n",
    "    arr = check.read(1)\n",
    "    print(\"Resampled size:\", arr.shape)   # should be (13, 17)\n",
    "    print(\"Unique values in resampled LULC:\", np.unique(arr))\n"
   ]
  },
  {
   "cell_type": "code",
   "execution_count": null,
   "id": "6e4511d1-dd03-4268-83cd-7461830e5f01",
   "metadata": {},
   "outputs": [],
   "source": []
  }
 ],
 "metadata": {
  "kernelspec": {
   "display_name": "Python 3 (ipykernel)",
   "language": "python",
   "name": "python3"
  },
  "language_info": {
   "codemirror_mode": {
    "name": "ipython",
    "version": 3
   },
   "file_extension": ".py",
   "mimetype": "text/x-python",
   "name": "python",
   "nbconvert_exporter": "python",
   "pygments_lexer": "ipython3",
   "version": "3.10.0"
  }
 },
 "nbformat": 4,
 "nbformat_minor": 5
}
