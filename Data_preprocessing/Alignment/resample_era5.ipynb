{
 "cells": [
  {
   "cell_type": "code",
   "execution_count": 2,
   "id": "1e0cb92a-94f1-48aa-900d-2a4e5fe7614e",
   "metadata": {},
   "outputs": [],
   "source": [
    "import rasterio\n",
    "import numpy as np\n",
    "from rasterio.warp import calculate_default_transform, reproject, Resampling\n",
    "\n",
    "def resample_to_dem(era5_path, dem_path, out_path):\n",
    "    # Open DEM as reference (30m, EPSG:32644)\n",
    "    with rasterio.open(dem_path) as dem_src:\n",
    "        dst_transform = dem_src.transform\n",
    "        dst_crs = dem_src.crs\n",
    "        dst_height = dem_src.height\n",
    "        dst_width = dem_src.width\n",
    "\n",
    "    # Open ERA5\n",
    "    with rasterio.open(era5_path) as src:\n",
    "        src_data = src.read(1)  # read first band\n",
    "        src_transform = src.transform\n",
    "        src_crs = src.crs\n",
    "\n",
    "        # Output array\n",
    "        dst_data = np.empty((dst_height, dst_width), dtype=np.float32)\n",
    "\n",
    "        # Reproject to DEM grid\n",
    "        reproject(\n",
    "            source=src_data,\n",
    "            destination=dst_data,\n",
    "            src_transform=src_transform,\n",
    "            src_crs=src_crs,\n",
    "            dst_transform=dst_transform,\n",
    "            dst_crs=dst_crs,\n",
    "            resampling=Resampling.bilinear  # or nearest for categorical\n",
    "        )\n",
    "\n",
    "    # Save reprojected raster\n",
    "    with rasterio.open(\n",
    "        out_path,\n",
    "        \"w\",\n",
    "        driver=\"GTiff\",\n",
    "        height=dst_height,\n",
    "        width=dst_width,\n",
    "        count=1,\n",
    "        dtype=dst_data.dtype,\n",
    "        crs=dst_crs,\n",
    "        transform=dst_transform,\n",
    "    ) as dst:\n",
    "        dst.write(dst_data, 1)\n",
    "\n",
    "# Example usage:\n",
    "era5_file = r\"C:\\Users\\Ankit\\Datasets_Forest_fire\\ERA5_fast_tif_stacks\\ERA5_t2m_2015_2016_stack.tif\"\n",
    "dem_file  = r\"C:\\Users\\Ankit\\Datasets_Forest_fire\\merged_DEM_30m_32644_aligned_filled.tif\"\n",
    "out_file  = r\"C:\\Users\\Ankit\\Datasets_Forest_fire\\ERA5_t2m_resampled_30m.tif\"\n",
    "\n",
    "resample_to_dem(era5_file, dem_file, out_file)\n"
   ]
  }
 ],
 "metadata": {
  "kernelspec": {
   "display_name": "Python 3 (ipykernel)",
   "language": "python",
   "name": "python3"
  },
  "language_info": {
   "codemirror_mode": {
    "name": "ipython",
    "version": 3
   },
   "file_extension": ".py",
   "mimetype": "text/x-python",
   "name": "python",
   "nbconvert_exporter": "python",
   "pygments_lexer": "ipython3",
   "version": "3.10.0"
  }
 },
 "nbformat": 4,
 "nbformat_minor": 5
}
