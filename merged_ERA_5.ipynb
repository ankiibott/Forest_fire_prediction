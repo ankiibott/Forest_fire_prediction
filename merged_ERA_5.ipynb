{
 "cells": [
  {
   "cell_type": "code",
   "execution_count": 2,
   "id": "109da874-db37-43c2-92a0-9f766f83728c",
   "metadata": {},
   "outputs": [],
   "source": [
    "import xarray as xr"
   ]
  },
  {
   "cell_type": "code",
   "execution_count": 3,
   "id": "83795284-a0d2-4037-9cf0-6cd2a9dc9328",
   "metadata": {},
   "outputs": [],
   "source": [
    "df = xr.open_dataset(r\"C:\\Users\\Ankit\\OneDrive\\Desktop\\Datasets_Forest_fire\\compressed_cleaned_era5_2015_2016.nc\")"
   ]
  },
  {
   "cell_type": "code",
   "execution_count": 4,
   "id": "4ddfb6ab-e41f-4478-b22a-a1cc61e91215",
   "metadata": {},
   "outputs": [
    {
     "data": {
      "text/plain": [
       "Data variables:\n",
       "    t2m      (valid_time, latitude, longitude) float32 16MB ...\n",
       "    d2m      (valid_time, latitude, longitude) float32 16MB ...\n",
       "    u10      (valid_time, latitude, longitude) float32 16MB ...\n",
       "    v10      (valid_time, latitude, longitude) float32 16MB ...\n",
       "    tp       (valid_time, latitude, longitude) float32 16MB ..."
      ]
     },
     "execution_count": 4,
     "metadata": {},
     "output_type": "execute_result"
    }
   ],
   "source": [
    "df.data_vars"
   ]
  },
  {
   "cell_type": "code",
   "execution_count": null,
   "id": "e942a58f-f68f-4a10-b3da-bc8b06c0f595",
   "metadata": {},
   "outputs": [],
   "source": []
  }
 ],
 "metadata": {
  "kernelspec": {
   "display_name": "Python 3 (ipykernel)",
   "language": "python",
   "name": "python3"
  },
  "language_info": {
   "codemirror_mode": {
    "name": "ipython",
    "version": 3
   },
   "file_extension": ".py",
   "mimetype": "text/x-python",
   "name": "python",
   "nbconvert_exporter": "python",
   "pygments_lexer": "ipython3",
   "version": "3.10.0"
  }
 },
 "nbformat": 4,
 "nbformat_minor": 5
}
