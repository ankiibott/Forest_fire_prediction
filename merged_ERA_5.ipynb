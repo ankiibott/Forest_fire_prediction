{
 "cells": [
  {
   "cell_type": "code",
   "execution_count": 1,
   "id": "109da874-db37-43c2-92a0-9f766f83728c",
   "metadata": {},
   "outputs": [],
   "source": [
    "import xarray as xr"
   ]
  },
  {
   "cell_type": "code",
   "execution_count": 4,
   "id": "83795284-a0d2-4037-9cf0-6cd2a9dc9328",
   "metadata": {},
   "outputs": [],
   "source": [
    "df = xr.open_dataset(r\"C:\\Users\\Ankit\\Datasets_Forest_fire\\compressed_cleaned_era5_2015_2016.nc\")"
   ]
  },
  {
   "cell_type": "code",
   "execution_count": 5,
   "id": "4ddfb6ab-e41f-4478-b22a-a1cc61e91215",
   "metadata": {},
   "outputs": [
    {
     "data": {
      "text/plain": [
       "Data variables:\n",
       "    t2m      (valid_time, latitude, longitude) float32 16MB ...\n",
       "    d2m      (valid_time, latitude, longitude) float32 16MB ...\n",
       "    u10      (valid_time, latitude, longitude) float32 16MB ...\n",
       "    v10      (valid_time, latitude, longitude) float32 16MB ...\n",
       "    tp       (valid_time, latitude, longitude) float32 16MB ..."
      ]
     },
     "execution_count": 5,
     "metadata": {},
     "output_type": "execute_result"
    }
   ],
   "source": [
    "df.data_vars"
   ]
  },
  {
   "cell_type": "code",
   "execution_count": 7,
   "id": "e942a58f-f68f-4a10-b3da-bc8b06c0f595",
   "metadata": {},
   "outputs": [
    {
     "data": {
      "text/plain": [
       "array([56.596756], dtype=float32)"
      ]
     },
     "execution_count": 7,
     "metadata": {},
     "output_type": "execute_result"
    }
   ],
   "source": [
    "import numpy as np \n",
    "np.unique(df['tp'].values.max())"
   ]
  },
  {
   "cell_type": "code",
   "execution_count": 8,
   "id": "300b17c9-da51-491a-b9fc-0d2ed47e6735",
   "metadata": {},
   "outputs": [
    {
     "data": {
      "text/plain": [
       "array([0.], dtype=float32)"
      ]
     },
     "execution_count": 8,
     "metadata": {},
     "output_type": "execute_result"
    }
   ],
   "source": [
    "np.unique(df['tp'].values.min())"
   ]
  },
  {
   "cell_type": "code",
   "execution_count": 13,
   "id": "dbfd3146-acbd-4fb4-af17-13585e603d0a",
   "metadata": {},
   "outputs": [
    {
     "data": {
      "text/plain": [
       "array([-9.634323], dtype=float32)"
      ]
     },
     "execution_count": 13,
     "metadata": {},
     "output_type": "execute_result"
    }
   ],
   "source": [
    "np.unique(df['u10'].values.min())"
   ]
  },
  {
   "cell_type": "code",
   "execution_count": 14,
   "id": "0e31775f-db28-4ee2-b99b-ba607bf93325",
   "metadata": {},
   "outputs": [
    {
     "data": {
      "text/plain": [
       "array([-8.777985], dtype=float32)"
      ]
     },
     "execution_count": 14,
     "metadata": {},
     "output_type": "execute_result"
    }
   ],
   "source": [
    "np.unique(df['v10'].values.min())"
   ]
  },
  {
   "cell_type": "code",
   "execution_count": 15,
   "id": "b0cfc9a1-7239-4ccb-a957-28879c32fca0",
   "metadata": {},
   "outputs": [
    {
     "data": {
      "text/plain": [
       "array([-58.624878], dtype=float32)"
      ]
     },
     "execution_count": 15,
     "metadata": {},
     "output_type": "execute_result"
    }
   ],
   "source": [
    "np.unique(df['d2m'].values.min())"
   ]
  },
  {
   "cell_type": "code",
   "execution_count": 16,
   "id": "c3e22cd0-aa70-48e8-8b2a-cbf4cf1705c2",
   "metadata": {},
   "outputs": [
    {
     "data": {
      "text/plain": [
       "array([-40.594254], dtype=float32)"
      ]
     },
     "execution_count": 16,
     "metadata": {},
     "output_type": "execute_result"
    }
   ],
   "source": [
    "np.unique(df['t2m'].values.min())"
   ]
  },
  {
   "cell_type": "code",
   "execution_count": null,
   "id": "5a8ced04-8117-46b0-89b0-9b54e1b681af",
   "metadata": {},
   "outputs": [],
   "source": []
  },
  {
   "cell_type": "code",
   "execution_count": 21,
   "id": "21d7eb42-c700-4a28-8a72-2f4cce355fc8",
   "metadata": {},
   "outputs": [
    {
     "name": "stdout",
     "output_type": "stream",
     "text": [
      "t2m: min=-40.59425354003906, max=44.880035400390625\n",
      "d2m: min=-58.6248779296875, max=31.104156494140625\n",
      "u10: min=-9.634323120117188, max=9.16412353515625\n",
      "v10: min=-8.777984619140625, max=9.072845458984375\n",
      "tp: min=0.0, max=56.59675598144531\n"
     ]
    }
   ],
   "source": [
    "import numpy as np\n",
    "\n",
    "for var in df.data_vars:\n",
    "    data = df[var].values  # get numpy array\n",
    "    print(f\"{var}: min={np.nanmin(data)}, max={np.nanmax(data)}\")"
   ]
  },
  {
   "cell_type": "code",
   "execution_count": null,
   "id": "8730b4ea-24a2-4bce-8966-396ffaa47b31",
   "metadata": {},
   "outputs": [],
   "source": []
  }
 ],
 "metadata": {
  "kernelspec": {
   "display_name": "Python 3 (ipykernel)",
   "language": "python",
   "name": "python3"
  },
  "language_info": {
   "codemirror_mode": {
    "name": "ipython",
    "version": 3
   },
   "file_extension": ".py",
   "mimetype": "text/x-python",
   "name": "python",
   "nbconvert_exporter": "python",
   "pygments_lexer": "ipython3",
   "version": "3.10.0"
  }
 },
 "nbformat": 4,
 "nbformat_minor": 5
}
