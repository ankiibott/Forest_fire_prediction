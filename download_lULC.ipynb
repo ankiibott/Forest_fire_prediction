{
 "cells": [
  {
   "cell_type": "code",
   "execution_count": 1,
   "id": "530b3337-b621-48e7-8421-c154d4425fba",
   "metadata": {},
   "outputs": [
    {
     "name": "stderr",
     "output_type": "stream",
     "text": [
      "C:\\Users\\Ankit\\AppData\\Local\\Programs\\Python\\Python310\\lib\\site-packages\\tqdm\\auto.py:21: TqdmWarning: IProgress not found. Please update jupyter and ipywidgets. See https://ipywidgets.readthedocs.io/en/stable/user_install.html\n",
      "  from .autonotebook import tqdm as notebook_tqdm\n"
     ]
    },
    {
     "name": "stdin",
     "output_type": "stream",
     "text": [
      "Enter your Earthdata Login username:  ankiibot12\n",
      "Enter your Earthdata password:  ········\n"
     ]
    },
    {
     "name": "stderr",
     "output_type": "stream",
     "text": [
      "QUEUEING TASKS | : 100%|████████████████████████████████████████████████████████████████| 3/3 [00:00<00:00, 547.20it/s]\n",
      "PROCESSING TASKS | : 100%|███████████████████████████████████████████████████████████████████████| 3/3 [00:00<?, ?it/s]\n",
      "COLLECTING RESULTS | : 100%|█████████████████████████████████████████████████████████████████████| 3/3 [00:00<?, ?it/s]\n"
     ]
    },
    {
     "data": {
      "text/plain": [
       "['C:\\\\Users\\\\Ankit\\\\Downloads\\\\modis_lulc\\\\MCD12Q1.A2015001.h25v06.061.2022166073342.hdf',\n",
       " 'C:\\\\Users\\\\Ankit\\\\Downloads\\\\modis_lulc\\\\MCD12Q1.A2015001.h24v05.061.2022166071546.hdf',\n",
       " 'C:\\\\Users\\\\Ankit\\\\Downloads\\\\modis_lulc\\\\MCD12Q1.A2015001.h24v06.061.2022166044316.hdf']"
      ]
     },
     "execution_count": 1,
     "metadata": {},
     "output_type": "execute_result"
    }
   ],
   "source": [
    "import earthaccess\n",
    "\n",
    "# Authenticate with NASA Earthdata (first-time login will prompt browser)\n",
    "auth = earthaccess.login(strategy=\"interactive\")\n",
    "\n",
    "# Define bounding box and date\n",
    "lat_min, lat_max = 28.0, 31.0\n",
    "lon_min, lon_max = 77.0, 80.0\n",
    "year = 2015\n",
    "\n",
    "# Search MODIS LULC data\n",
    "granules = earthaccess.search_data(\n",
    "    short_name=\"MCD12Q1\",\n",
    "    version=\"061\",\n",
    "    temporal=(f\"{year}-01-01\", f\"{year}-12-31\"),\n",
    "    bounding_box=(lon_min, lat_min, lon_max, lat_max),\n",
    "    cloud_hosted=True\n",
    ")\n",
    "\n",
    "# Download matching files\n",
    "earthaccess.download(granules, \"C:\\\\Users\\\\Ankit\\\\Downloads\\\\modis_lulc\\\\\")"
   ]
  },
  {
   "cell_type": "code",
   "execution_count": 2,
   "id": "fd9506d3-78b3-4d73-8291-9450d8ea357f",
   "metadata": {},
   "outputs": [
    {
     "ename": "ImportError",
     "evalue": "DLL load failed while importing _hdfext: The specified module could not be found.",
     "output_type": "error",
     "traceback": [
      "\u001b[1;31m---------------------------------------------------------------------------\u001b[0m",
      "\u001b[1;31mImportError\u001b[0m                               Traceback (most recent call last)",
      "Cell \u001b[1;32mIn[2], line 1\u001b[0m\n\u001b[1;32m----> 1\u001b[0m \u001b[38;5;28;01mfrom\u001b[39;00m\u001b[38;5;250m \u001b[39m\u001b[38;5;21;01mpyhdf\u001b[39;00m\u001b[38;5;21;01m.\u001b[39;00m\u001b[38;5;21;01mSD\u001b[39;00m\u001b[38;5;250m \u001b[39m\u001b[38;5;28;01mimport\u001b[39;00m SD, SDC\n",
      "File \u001b[1;32m~\\AppData\\Local\\Programs\\Python\\Python310\\lib\\site-packages\\pyhdf\\SD.py:1003\u001b[0m\n\u001b[0;32m     38\u001b[0m \u001b[38;5;124;03m\"\"\"\u001b[39;00m\n\u001b[0;32m     39\u001b[0m \u001b[38;5;124;03mSD (scientific dataset) API (:mod:`pyhdf.SD`)\u001b[39;00m\n\u001b[0;32m     40\u001b[0m \u001b[38;5;124;03m=============================================\u001b[39;00m\n\u001b[1;32m   (...)\u001b[0m\n\u001b[0;32m    999\u001b[0m \n\u001b[0;32m   1000\u001b[0m \u001b[38;5;124;03m\"\"\"\u001b[39;00m\n\u001b[0;32m   1001\u001b[0m \u001b[38;5;28;01mimport\u001b[39;00m\u001b[38;5;250m \u001b[39m\u001b[38;5;21;01mos\u001b[39;00m\u001b[38;5;241m,\u001b[39m\u001b[38;5;250m \u001b[39m\u001b[38;5;21;01msys\u001b[39;00m\u001b[38;5;241m,\u001b[39m\u001b[38;5;250m \u001b[39m\u001b[38;5;21;01mtypes\u001b[39;00m\n\u001b[1;32m-> 1003\u001b[0m \u001b[38;5;28;01mfrom\u001b[39;00m\u001b[38;5;250m \u001b[39m\u001b[38;5;21;01m.\u001b[39;00m\u001b[38;5;250m \u001b[39m\u001b[38;5;28;01mimport\u001b[39;00m hdfext \u001b[38;5;28;01mas\u001b[39;00m _C\n\u001b[0;32m   1004\u001b[0m \u001b[38;5;28;01mfrom\u001b[39;00m\u001b[38;5;250m \u001b[39m\u001b[38;5;21;01m.\u001b[39;00m\u001b[38;5;21;01msix\u001b[39;00m\u001b[38;5;21;01m.\u001b[39;00m\u001b[38;5;21;01mmoves\u001b[39;00m\u001b[38;5;250m \u001b[39m\u001b[38;5;28;01mimport\u001b[39;00m xrange\n\u001b[0;32m   1005\u001b[0m \u001b[38;5;28;01mfrom\u001b[39;00m\u001b[38;5;250m \u001b[39m\u001b[38;5;21;01m.\u001b[39;00m\u001b[38;5;21;01merror\u001b[39;00m\u001b[38;5;250m \u001b[39m\u001b[38;5;28;01mimport\u001b[39;00m _checkErr, HDF4Error\n",
      "File \u001b[1;32m~\\AppData\\Local\\Programs\\Python\\Python310\\lib\\site-packages\\pyhdf\\hdfext.py:10\u001b[0m\n\u001b[0;32m      8\u001b[0m \u001b[38;5;66;03m# Import the low-level C/C++ module\u001b[39;00m\n\u001b[0;32m      9\u001b[0m \u001b[38;5;28;01mif\u001b[39;00m __package__ \u001b[38;5;129;01mor\u001b[39;00m \u001b[38;5;124m\"\u001b[39m\u001b[38;5;124m.\u001b[39m\u001b[38;5;124m\"\u001b[39m \u001b[38;5;129;01min\u001b[39;00m \u001b[38;5;18m__name__\u001b[39m:\n\u001b[1;32m---> 10\u001b[0m     \u001b[38;5;28;01mfrom\u001b[39;00m\u001b[38;5;250m \u001b[39m\u001b[38;5;21;01m.\u001b[39;00m\u001b[38;5;250m \u001b[39m\u001b[38;5;28;01mimport\u001b[39;00m _hdfext\n\u001b[0;32m     11\u001b[0m \u001b[38;5;28;01melse\u001b[39;00m:\n\u001b[0;32m     12\u001b[0m     \u001b[38;5;28;01mimport\u001b[39;00m\u001b[38;5;250m \u001b[39m\u001b[38;5;21;01m_hdfext\u001b[39;00m\n",
      "\u001b[1;31mImportError\u001b[0m: DLL load failed while importing _hdfext: The specified module could not be found."
     ]
    }
   ],
   "source": [
    "from pyhdf.SD import SD, SDC"
   ]
  },
  {
   "cell_type": "code",
   "execution_count": null,
   "id": "260191a0-be76-4d64-894c-5007a42fea2a",
   "metadata": {},
   "outputs": [],
   "source": []
  }
 ],
 "metadata": {
  "kernelspec": {
   "display_name": "Python 3 (ipykernel)",
   "language": "python",
   "name": "python3"
  },
  "language_info": {
   "codemirror_mode": {
    "name": "ipython",
    "version": 3
   },
   "file_extension": ".py",
   "mimetype": "text/x-python",
   "name": "python",
   "nbconvert_exporter": "python",
   "pygments_lexer": "ipython3",
   "version": "3.10.0"
  }
 },
 "nbformat": 4,
 "nbformat_minor": 5
}
