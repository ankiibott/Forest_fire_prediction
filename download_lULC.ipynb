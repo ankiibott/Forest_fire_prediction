{
 "cells": [
  {
   "cell_type": "code",
   "execution_count": 5,
   "id": "530b3337-b621-48e7-8421-c154d4425fba",
   "metadata": {},
   "outputs": [
    {
     "name": "stderr",
     "output_type": "stream",
     "text": [
      "QUEUEING TASKS | : 100%|████████████████████████████████████████████████████████████████| 3/3 [00:00<00:00, 292.37it/s]\n",
      "PROCESSING TASKS | : 100%|███████████████████████████████████████████████████████████████| 3/3 [00:18<00:00,  6.13s/it]\n",
      "COLLECTING RESULTS | : 100%|█████████████████████████████████████████████████████████████████████| 3/3 [00:00<?, ?it/s]\n"
     ]
    },
    {
     "data": {
      "text/plain": [
       "['C:\\\\Users\\\\Ankit\\\\Downloads\\\\modis_lulc\\\\MCD12Q1.A2015001.h25v06.061.2022166073342.hdf',\n",
       " 'C:\\\\Users\\\\Ankit\\\\Downloads\\\\modis_lulc\\\\MCD12Q1.A2015001.h24v05.061.2022166071546.hdf',\n",
       " 'C:\\\\Users\\\\Ankit\\\\Downloads\\\\modis_lulc\\\\MCD12Q1.A2015001.h24v06.061.2022166044316.hdf']"
      ]
     },
     "execution_count": 5,
     "metadata": {},
     "output_type": "execute_result"
    }
   ],
   "source": [
    "import earthaccess\n",
    "\n",
    "# Authenticate with NASA Earthdata (first-time login will prompt browser)\n",
    "auth = earthaccess.login(strategy=\"interactive\")\n",
    "\n",
    "# Define bounding box and date\n",
    "lat_min, lat_max = 28.0, 31.0\n",
    "lon_min, lon_max = 77.0, 80.0\n",
    "year = 2015\n",
    "\n",
    "# Search MODIS LULC data\n",
    "granules = earthaccess.search_data(\n",
    "    short_name=\"MCD12Q1\",\n",
    "    version=\"061\",\n",
    "    temporal=(f\"{year}-01-01\", f\"{year}-12-31\"),\n",
    "    bounding_box=(lon_min, lat_min, lon_max, lat_max),\n",
    "    cloud_hosted=True\n",
    ")\n",
    "\n",
    "# Download matching files\n",
    "earthaccess.download(granules, \"C:\\\\Users\\\\Ankit\\\\Downloads\\\\modis_lulc\\\\\")"
   ]
  },
  {
   "cell_type": "code",
   "execution_count": null,
   "id": "fd9506d3-78b3-4d73-8291-9450d8ea357f",
   "metadata": {},
   "outputs": [],
   "source": []
  }
 ],
 "metadata": {
  "kernelspec": {
   "display_name": "Python 3 (ipykernel)",
   "language": "python",
   "name": "python3"
  },
  "language_info": {
   "codemirror_mode": {
    "name": "ipython",
    "version": 3
   },
   "file_extension": ".py",
   "mimetype": "text/x-python",
   "name": "python",
   "nbconvert_exporter": "python",
   "pygments_lexer": "ipython3",
   "version": "3.10.0"
  }
 },
 "nbformat": 4,
 "nbformat_minor": 5
}
